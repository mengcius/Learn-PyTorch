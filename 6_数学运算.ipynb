{
  "nbformat": 4,
  "nbformat_minor": 0,
  "metadata": {
    "colab": {
      "name": "6.数学运算.ipynb",
      "version": "0.3.2",
      "provenance": [],
      "collapsed_sections": [],
      "include_colab_link": true
    },
    "kernelspec": {
      "name": "python3",
      "display_name": "Python 3"
    }
  },
  "cells": [
    {
      "cell_type": "markdown",
      "metadata": {
        "id": "view-in-github",
        "colab_type": "text"
      },
      "source": [
        "<a href=\"https://colab.research.google.com/github/mengcius/pytorch-learn/blob/master/6_%E6%95%B0%E5%AD%A6%E8%BF%90%E7%AE%97.ipynb\" target=\"_parent\"><img src=\"https://colab.research.google.com/assets/colab-badge.svg\" alt=\"Open In Colab\"/></a>"
      ]
    },
    {
      "cell_type": "markdown",
      "metadata": {
        "id": "cyZuIaqPEE_i",
        "colab_type": "text"
      },
      "source": [
        "## 6.数学运算\n",
        "\n",
        "add/minus/multiply/divide 加减乘除\n",
        "\n",
        "matmul 矩阵相乘\n",
        "\n",
        "pow/sqrt 次方与平方根\n",
        "\n",
        "exp/log 以e为底的指数和对数\n",
        "\n",
        "round 近似运算\n",
        "\n",
        "clamp 裁剪值的范围"
      ]
    },
    {
      "cell_type": "markdown",
      "metadata": {
        "id": "Dgg6Vy9tEi-p",
        "colab_type": "text"
      },
      "source": [
        "### add/sub/mul/div 加减乘除\n",
        "推荐直接使用重载的运算符号：+ - * / （// 整除）\n",
        "\n",
        "对应的代码为.add/sub/mul/div()，英文对应为Add/minus/multiply/divide\n",
        "\n"
      ]
    },
    {
      "cell_type": "code",
      "metadata": {
        "id": "K99gqfWBGzQZ",
        "colab_type": "code",
        "colab": {}
      },
      "source": [
        "import torch"
      ],
      "execution_count": 0,
      "outputs": []
    },
    {
      "cell_type": "code",
      "metadata": {
        "id": "DYg_pgThEEFY",
        "colab_type": "code",
        "outputId": "89d625bc-3dbb-4666-c476-f1e268c7fc7b",
        "colab": {
          "base_uri": "https://localhost:8080/",
          "height": 67
        }
      },
      "source": [
        "a=torch.zeros(3,4)\n",
        "b=torch.ones(4)\n",
        "a+b #加，会先默认把维度对齐，把b变为[3,4]"
      ],
      "execution_count": 0,
      "outputs": [
        {
          "output_type": "execute_result",
          "data": {
            "text/plain": [
              "tensor([[1., 1., 1., 1.],\n",
              "        [1., 1., 1., 1.],\n",
              "        [1., 1., 1., 1.]])"
            ]
          },
          "metadata": {
            "tags": []
          },
          "execution_count": 6
        }
      ]
    },
    {
      "cell_type": "code",
      "metadata": {
        "id": "Vsim4bfdHGth",
        "colab_type": "code",
        "outputId": "c16900f2-6882-4493-b93f-a080a1a6e6b7",
        "colab": {
          "base_uri": "https://localhost:8080/",
          "height": 67
        }
      },
      "source": [
        "torch.add(a,b)"
      ],
      "execution_count": 0,
      "outputs": [
        {
          "output_type": "execute_result",
          "data": {
            "text/plain": [
              "tensor([[1., 1., 1., 1.],\n",
              "        [1., 1., 1., 1.],\n",
              "        [1., 1., 1., 1.]])"
            ]
          },
          "metadata": {
            "tags": []
          },
          "execution_count": 7
        }
      ]
    },
    {
      "cell_type": "code",
      "metadata": {
        "id": "1ExQLqwpIBvw",
        "colab_type": "code",
        "outputId": "5b48632f-98ee-4520-e50d-ac76633c6a0a",
        "colab": {
          "base_uri": "https://localhost:8080/",
          "height": 33
        }
      },
      "source": [
        "torch.all(torch.eq(a-b,torch.sub(a,b))) #减"
      ],
      "execution_count": 0,
      "outputs": [
        {
          "output_type": "execute_result",
          "data": {
            "text/plain": [
              "tensor(1, dtype=torch.uint8)"
            ]
          },
          "metadata": {
            "tags": []
          },
          "execution_count": 8
        }
      ]
    },
    {
      "cell_type": "code",
      "metadata": {
        "id": "ptNTa9_fIMFz",
        "colab_type": "code",
        "outputId": "d75b4307-45ec-45bb-b5c1-02eaa09531b5",
        "colab": {
          "base_uri": "https://localhost:8080/",
          "height": 33
        }
      },
      "source": [
        "torch.all(torch.eq(a*b,torch.mul(a,b))) #乘，按相同位置的元素相乘"
      ],
      "execution_count": 0,
      "outputs": [
        {
          "output_type": "execute_result",
          "data": {
            "text/plain": [
              "tensor(1, dtype=torch.uint8)"
            ]
          },
          "metadata": {
            "tags": []
          },
          "execution_count": 9
        }
      ]
    },
    {
      "cell_type": "code",
      "metadata": {
        "id": "7izI0aVcIT1r",
        "colab_type": "code",
        "outputId": "54929259-930d-406b-c77c-9a7e0d8d0771",
        "colab": {
          "base_uri": "https://localhost:8080/",
          "height": 33
        }
      },
      "source": [
        "torch.all(torch.eq(a/b,torch.div(a,b))) #减"
      ],
      "execution_count": 0,
      "outputs": [
        {
          "output_type": "execute_result",
          "data": {
            "text/plain": [
              "tensor(1, dtype=torch.uint8)"
            ]
          },
          "metadata": {
            "tags": []
          },
          "execution_count": 10
        }
      ]
    },
    {
      "cell_type": "markdown",
      "metadata": {
        "id": "2vxpKFrTIpVs",
        "colab_type": "text"
      },
      "source": [
        "### matmul 矩阵相乘\n",
        "@ 符号形式，矩阵乘，符合行列式规则\n",
        "\n",
        "torch.matmul                                          \n",
        "torch.mm 只能适用于2维，不常用"
      ]
    },
    {
      "cell_type": "code",
      "metadata": {
        "id": "7TnKd5n3InlV",
        "colab_type": "code",
        "colab": {}
      },
      "source": [
        "a=torch.zeros(3,4)\n",
        "b=torch.ones(4)"
      ],
      "execution_count": 0,
      "outputs": []
    },
    {
      "cell_type": "code",
      "metadata": {
        "id": "Gs-o1ButL60G",
        "colab_type": "code",
        "outputId": "c36a7485-100f-4742-ac84-8728a05f3a54",
        "colab": {
          "base_uri": "https://localhost:8080/",
          "height": 33
        }
      },
      "source": [
        "a@b #矩阵乘，符合行列式规则"
      ],
      "execution_count": 0,
      "outputs": [
        {
          "output_type": "execute_result",
          "data": {
            "text/plain": [
              "tensor([0., 0., 0.])"
            ]
          },
          "metadata": {
            "tags": []
          },
          "execution_count": 44
        }
      ]
    },
    {
      "cell_type": "code",
      "metadata": {
        "id": "U3LeTgdmKf4L",
        "colab_type": "code",
        "outputId": "3bae43f5-1504-4e1f-97d0-09c8287749ed",
        "colab": {
          "base_uri": "https://localhost:8080/",
          "height": 33
        }
      },
      "source": [
        "torch.matmul(a,b)"
      ],
      "execution_count": 0,
      "outputs": [
        {
          "output_type": "execute_result",
          "data": {
            "text/plain": [
              "tensor([0., 0., 0.])"
            ]
          },
          "metadata": {
            "tags": []
          },
          "execution_count": 45
        }
      ]
    },
    {
      "cell_type": "code",
      "metadata": {
        "id": "7tXl0zwaIncD",
        "colab_type": "code",
        "outputId": "0df95dbe-6feb-4f08-d9c5-950ea81a36a4",
        "colab": {
          "base_uri": "https://localhost:8080/",
          "height": 67
        }
      },
      "source": [
        "a=torch.zeros(3,4)\n",
        "b=torch.ones(4,3)\n",
        "torch.mm(a,b) #只能二维"
      ],
      "execution_count": 0,
      "outputs": [
        {
          "output_type": "execute_result",
          "data": {
            "text/plain": [
              "tensor([[0., 0., 0.],\n",
              "        [0., 0., 0.],\n",
              "        [0., 0., 0.]])"
            ]
          },
          "metadata": {
            "tags": []
          },
          "execution_count": 47
        }
      ]
    },
    {
      "cell_type": "markdown",
      "metadata": {
        "id": "ftvcGYF_ODlf",
        "colab_type": "text"
      },
      "source": [
        "网络层中矩阵相乘的举例"
      ]
    },
    {
      "cell_type": "code",
      "metadata": {
        "id": "khazfFO2ODbI",
        "colab_type": "code",
        "colab": {}
      },
      "source": [
        "x=torch.rand(4,784)\n",
        "w=torch.rand(512,784) #它负责将x降维到512，torch默认第一参数是ch-out，第二参数是ch-in"
      ],
      "execution_count": 0,
      "outputs": []
    },
    {
      "cell_type": "code",
      "metadata": {
        "id": "PSF86EwQODVI",
        "colab_type": "code",
        "outputId": "ba745a84-bc97-47e4-8fc8-9efe35f8d44d",
        "colab": {
          "base_uri": "https://localhost:8080/",
          "height": 33
        }
      },
      "source": [
        "(x@w.t()).shape #相乘时要将w转置，t()只适用于2维 "
      ],
      "execution_count": 0,
      "outputs": [
        {
          "output_type": "execute_result",
          "data": {
            "text/plain": [
              "torch.Size([4, 512])"
            ]
          },
          "metadata": {
            "tags": []
          },
          "execution_count": 55
        }
      ]
    },
    {
      "cell_type": "markdown",
      "metadata": {
        "id": "-GlsshoFRs6h",
        "colab_type": "text"
      },
      "source": [
        "多维矩阵相乘，matmul只将最后两个维度相乘，其他维度不一样时可自动扩展"
      ]
    },
    {
      "cell_type": "code",
      "metadata": {
        "id": "LE0MqIsdODOZ",
        "colab_type": "code",
        "outputId": "4c3e1ec3-a0bf-4da7-f7d7-09d12fdf8b29",
        "colab": {
          "base_uri": "https://localhost:8080/",
          "height": 33
        }
      },
      "source": [
        "a=torch.rand(4,3,28,64)\n",
        "b=torch.rand(4,3,64,32)\n",
        "# torch.mm(a,b).shape #不能用于多维\n",
        "torch.matmul(a,b).shape #多维矩阵相乘，只将最后两个维度相乘"
      ],
      "execution_count": 0,
      "outputs": [
        {
          "output_type": "execute_result",
          "data": {
            "text/plain": [
              "torch.Size([4, 3, 28, 32])"
            ]
          },
          "metadata": {
            "tags": []
          },
          "execution_count": 63
        }
      ]
    },
    {
      "cell_type": "code",
      "metadata": {
        "id": "6AicuUNuUxRk",
        "colab_type": "code",
        "outputId": "6b94e54f-1ada-4ce2-c662-c6098f6d7dbe",
        "colab": {
          "base_uri": "https://localhost:8080/",
          "height": 33
        }
      },
      "source": [
        "a=torch.rand(4,3,28,64)\n",
        "b=torch.rand(4,1,64,32) #相乘时1会被自动扩展为3\n",
        "torch.matmul(a,b).shape #多维矩阵相乘，只将最后两个维度相乘"
      ],
      "execution_count": 0,
      "outputs": [
        {
          "output_type": "execute_result",
          "data": {
            "text/plain": [
              "torch.Size([4, 3, 28, 32])"
            ]
          },
          "metadata": {
            "tags": []
          },
          "execution_count": 64
        }
      ]
    },
    {
      "cell_type": "code",
      "metadata": {
        "id": "0g2j3CEbU5fe",
        "colab_type": "code",
        "outputId": "5d2773a5-4309-4c76-a2ed-ff8172cba598",
        "colab": {
          "base_uri": "https://localhost:8080/",
          "height": 33
        }
      },
      "source": [
        "a=torch.rand(4,3,28,64)\n",
        "b=torch.rand(3,64,32) #自动扩展\n",
        "torch.matmul(a,b).shape #多维矩阵相乘，只将最后两个维度相乘"
      ],
      "execution_count": 0,
      "outputs": [
        {
          "output_type": "execute_result",
          "data": {
            "text/plain": [
              "torch.Size([4, 3, 28, 32])"
            ]
          },
          "metadata": {
            "tags": []
          },
          "execution_count": 67
        }
      ]
    },
    {
      "cell_type": "code",
      "metadata": {
        "id": "i4WpVD9zKlwY",
        "colab_type": "code",
        "outputId": "8cf3f001-2ecd-4473-8bb0-3ed359014e8f",
        "colab": {
          "base_uri": "https://localhost:8080/",
          "height": 33
        }
      },
      "source": [
        "a=torch.zeros(3,3,4)\n",
        "b=torch.ones(1,4,3)\n",
        "(a@b).shape "
      ],
      "execution_count": 0,
      "outputs": [
        {
          "output_type": "execute_result",
          "data": {
            "text/plain": [
              "torch.Size([3, 3, 3])"
            ]
          },
          "metadata": {
            "tags": []
          },
          "execution_count": 65
        }
      ]
    },
    {
      "cell_type": "code",
      "metadata": {
        "id": "x-u4Iu3LWlZw",
        "colab_type": "code",
        "outputId": "37bf3ee1-dd54-4d41-ecf0-0d1524e6512e",
        "colab": {
          "base_uri": "https://localhost:8080/",
          "height": 196
        }
      },
      "source": [
        "a=torch.rand(4,3,28,64)\n",
        "b=torch.rand(4,64,32) #无法自动扩展，只能是空/1/相等\n",
        "torch.matmul(a,b).shape #多维矩阵相乘，只将最后两个维度相乘"
      ],
      "execution_count": 0,
      "outputs": [
        {
          "output_type": "error",
          "ename": "RuntimeError",
          "evalue": "ignored",
          "traceback": [
            "\u001b[0;31m---------------------------------------------------------------------------\u001b[0m",
            "\u001b[0;31mRuntimeError\u001b[0m                              Traceback (most recent call last)",
            "\u001b[0;32m<ipython-input-72-83662ae37eed>\u001b[0m in \u001b[0;36m<module>\u001b[0;34m()\u001b[0m\n\u001b[1;32m      1\u001b[0m \u001b[0ma\u001b[0m\u001b[0;34m=\u001b[0m\u001b[0mtorch\u001b[0m\u001b[0;34m.\u001b[0m\u001b[0mrand\u001b[0m\u001b[0;34m(\u001b[0m\u001b[0;36m4\u001b[0m\u001b[0;34m,\u001b[0m\u001b[0;36m3\u001b[0m\u001b[0;34m,\u001b[0m\u001b[0;36m28\u001b[0m\u001b[0;34m,\u001b[0m\u001b[0;36m64\u001b[0m\u001b[0;34m)\u001b[0m\u001b[0;34m\u001b[0m\u001b[0;34m\u001b[0m\u001b[0m\n\u001b[1;32m      2\u001b[0m \u001b[0mb\u001b[0m\u001b[0;34m=\u001b[0m\u001b[0mtorch\u001b[0m\u001b[0;34m.\u001b[0m\u001b[0mrand\u001b[0m\u001b[0;34m(\u001b[0m\u001b[0;36m4\u001b[0m\u001b[0;34m,\u001b[0m\u001b[0;36m64\u001b[0m\u001b[0;34m,\u001b[0m\u001b[0;36m32\u001b[0m\u001b[0;34m)\u001b[0m \u001b[0;31m#无法自动扩展，只能是空/1/相等\u001b[0m\u001b[0;34m\u001b[0m\u001b[0;34m\u001b[0m\u001b[0m\n\u001b[0;32m----> 3\u001b[0;31m \u001b[0mtorch\u001b[0m\u001b[0;34m.\u001b[0m\u001b[0mmatmul\u001b[0m\u001b[0;34m(\u001b[0m\u001b[0ma\u001b[0m\u001b[0;34m,\u001b[0m\u001b[0mb\u001b[0m\u001b[0;34m)\u001b[0m\u001b[0;34m.\u001b[0m\u001b[0mshape\u001b[0m \u001b[0;31m#多维矩阵相乘，只将最后两个维度相乘\u001b[0m\u001b[0;34m\u001b[0m\u001b[0;34m\u001b[0m\u001b[0m\n\u001b[0m",
            "\u001b[0;31mRuntimeError\u001b[0m: The size of tensor a (3) must match the size of tensor b (4) at non-singleton dimension 1"
          ]
        }
      ]
    },
    {
      "cell_type": "markdown",
      "metadata": {
        "id": "kBwRY77cXbQT",
        "colab_type": "text"
      },
      "source": [
        "### pow/sqrt 次方与平方根\n",
        "pow 次方，power\n",
        "\n",
        "sqrt 平方根，square root\n"
      ]
    },
    {
      "cell_type": "code",
      "metadata": {
        "id": "95FhxtyiXaw7",
        "colab_type": "code",
        "outputId": "0b7f59fe-3914-49d7-de20-4ab96545a34e",
        "colab": {
          "base_uri": "https://localhost:8080/",
          "height": 50
        }
      },
      "source": [
        "a=torch.full([2,3],3)\n",
        "a.pow(2) #2次方"
      ],
      "execution_count": 0,
      "outputs": [
        {
          "output_type": "execute_result",
          "data": {
            "text/plain": [
              "tensor([[9., 9., 9.],\n",
              "        [9., 9., 9.]])"
            ]
          },
          "metadata": {
            "tags": []
          },
          "execution_count": 73
        }
      ]
    },
    {
      "cell_type": "code",
      "metadata": {
        "id": "qrMcZtGBXxv-",
        "colab_type": "code",
        "outputId": "87ab5d17-5fa4-482e-9482-a8d4b1d9fdf6",
        "colab": {
          "base_uri": "https://localhost:8080/",
          "height": 50
        }
      },
      "source": [
        "a**2 #2次方"
      ],
      "execution_count": 0,
      "outputs": [
        {
          "output_type": "execute_result",
          "data": {
            "text/plain": [
              "tensor([[9., 9., 9.],\n",
              "        [9., 9., 9.]])"
            ]
          },
          "metadata": {
            "tags": []
          },
          "execution_count": 74
        }
      ]
    },
    {
      "cell_type": "code",
      "metadata": {
        "id": "pXZXWvRdX4ZD",
        "colab_type": "code",
        "outputId": "38a727ec-0323-4278-c151-d66d50727739",
        "colab": {
          "base_uri": "https://localhost:8080/",
          "height": 50
        }
      },
      "source": [
        "aa=a**2\n",
        "aa.sqrt() #平方根"
      ],
      "execution_count": 0,
      "outputs": [
        {
          "output_type": "execute_result",
          "data": {
            "text/plain": [
              "tensor([[3., 3., 3.],\n",
              "        [3., 3., 3.]])"
            ]
          },
          "metadata": {
            "tags": []
          },
          "execution_count": 75
        }
      ]
    },
    {
      "cell_type": "code",
      "metadata": {
        "id": "RjqIXZtMYCN2",
        "colab_type": "code",
        "outputId": "7913db9f-f8ee-41b6-d952-2f14e5c769e9",
        "colab": {
          "base_uri": "https://localhost:8080/",
          "height": 50
        }
      },
      "source": [
        "aa.rsqrt() #平方根的倒数"
      ],
      "execution_count": 0,
      "outputs": [
        {
          "output_type": "execute_result",
          "data": {
            "text/plain": [
              "tensor([[0.3333, 0.3333, 0.3333],\n",
              "        [0.3333, 0.3333, 0.3333]])"
            ]
          },
          "metadata": {
            "tags": []
          },
          "execution_count": 76
        }
      ]
    },
    {
      "cell_type": "code",
      "metadata": {
        "id": "OyO7e_MwYj8a",
        "colab_type": "code",
        "outputId": "9f473ac0-f27c-49c7-bc46-dc3753177568",
        "colab": {
          "base_uri": "https://localhost:8080/",
          "height": 50
        }
      },
      "source": [
        "aa**(0.5) #0.5表示1/2，开平方"
      ],
      "execution_count": 0,
      "outputs": [
        {
          "output_type": "execute_result",
          "data": {
            "text/plain": [
              "tensor([[3., 3., 3.],\n",
              "        [3., 3., 3.]])"
            ]
          },
          "metadata": {
            "tags": []
          },
          "execution_count": 77
        }
      ]
    },
    {
      "cell_type": "markdown",
      "metadata": {
        "id": "o8e2LkACaN3k",
        "colab_type": "text"
      },
      "source": [
        "### exp/log 以e为底的指数和对数"
      ]
    },
    {
      "cell_type": "code",
      "metadata": {
        "id": "YPIsNrS0ahBo",
        "colab_type": "code",
        "outputId": "34737219-7dae-4894-b1c5-ed576d5d281c",
        "colab": {
          "base_uri": "https://localhost:8080/",
          "height": 33
        }
      },
      "source": [
        "torch.exp(torch.tensor(1.)) #e的几次方，e=2.7183"
      ],
      "execution_count": 0,
      "outputs": [
        {
          "output_type": "execute_result",
          "data": {
            "text/plain": [
              "tensor(2.7183)"
            ]
          },
          "metadata": {
            "tags": []
          },
          "execution_count": 89
        }
      ]
    },
    {
      "cell_type": "code",
      "metadata": {
        "id": "NmFvMK2jYzAi",
        "colab_type": "code",
        "outputId": "4ac9914e-7345-407e-8b82-909db18edd83",
        "colab": {
          "base_uri": "https://localhost:8080/",
          "height": 50
        }
      },
      "source": [
        "a=torch.exp(torch.ones(2,2)) \n",
        "a"
      ],
      "execution_count": 0,
      "outputs": [
        {
          "output_type": "execute_result",
          "data": {
            "text/plain": [
              "tensor([[2.7183, 2.7183],\n",
              "        [2.7183, 2.7183]])"
            ]
          },
          "metadata": {
            "tags": []
          },
          "execution_count": 78
        }
      ]
    },
    {
      "cell_type": "code",
      "metadata": {
        "id": "bYpZoH44ZDdp",
        "colab_type": "code",
        "outputId": "27d31ac0-b5f8-4c22-fe54-843910a8f5a4",
        "colab": {
          "base_uri": "https://localhost:8080/",
          "height": 50
        }
      },
      "source": [
        "torch.log(a) #取以e为底的Log"
      ],
      "execution_count": 0,
      "outputs": [
        {
          "output_type": "execute_result",
          "data": {
            "text/plain": [
              "tensor([[1., 1.],\n",
              "        [1., 1.]])"
            ]
          },
          "metadata": {
            "tags": []
          },
          "execution_count": 79
        }
      ]
    },
    {
      "cell_type": "code",
      "metadata": {
        "id": "4SyV3av4Z_5E",
        "colab_type": "code",
        "outputId": "85dc6f99-f019-4b79-ba5e-4b457daacd56",
        "colab": {
          "base_uri": "https://localhost:8080/",
          "height": 50
        }
      },
      "source": [
        "torch.log10(a) #取以10为底的Log"
      ],
      "execution_count": 0,
      "outputs": [
        {
          "output_type": "execute_result",
          "data": {
            "text/plain": [
              "tensor([[0.4343, 0.4343],\n",
              "        [0.4343, 0.4343]])"
            ]
          },
          "metadata": {
            "tags": []
          },
          "execution_count": 81
        }
      ]
    },
    {
      "cell_type": "markdown",
      "metadata": {
        "id": "nekJbcKTcYjH",
        "colab_type": "text"
      },
      "source": [
        "### 取近似值\n",
        ".floor() .ceil()\n",
        "\n",
        ".trunc() .frac()\n",
        "\n",
        ".round()\n"
      ]
    },
    {
      "cell_type": "code",
      "metadata": {
        "id": "lG370PoCaCaR",
        "colab_type": "code",
        "outputId": "10e98a9e-ce62-48f7-b131-8e24c4dfdfa0",
        "colab": {
          "base_uri": "https://localhost:8080/",
          "height": 33
        }
      },
      "source": [
        "a=torch.tensor(3.14)\n",
        "a.floor(), a.ceil() #向下取整，向上取整"
      ],
      "execution_count": 0,
      "outputs": [
        {
          "output_type": "execute_result",
          "data": {
            "text/plain": [
              "(tensor(3.), tensor(4.))"
            ]
          },
          "metadata": {
            "tags": []
          },
          "execution_count": 3
        }
      ]
    },
    {
      "cell_type": "code",
      "metadata": {
        "id": "IAhy6lzyNjnE",
        "colab_type": "code",
        "outputId": "2ed19154-df28-4455-8c17-565ca1a4c25a",
        "colab": {
          "base_uri": "https://localhost:8080/",
          "height": 33
        }
      },
      "source": [
        "a.trunc(), a.frac() #取整数，取小数"
      ],
      "execution_count": 0,
      "outputs": [
        {
          "output_type": "execute_result",
          "data": {
            "text/plain": [
              "(tensor(3.), tensor(0.1400))"
            ]
          },
          "metadata": {
            "tags": []
          },
          "execution_count": 5
        }
      ]
    },
    {
      "cell_type": "code",
      "metadata": {
        "id": "L2O-HgJxN8e8",
        "colab_type": "code",
        "outputId": "e7300615-0d51-4113-a151-cf3e322b0388",
        "colab": {
          "base_uri": "https://localhost:8080/",
          "height": 33
        }
      },
      "source": [
        "a.round() #四舍五入"
      ],
      "execution_count": 0,
      "outputs": [
        {
          "output_type": "execute_result",
          "data": {
            "text/plain": [
              "tensor(3.)"
            ]
          },
          "metadata": {
            "tags": []
          },
          "execution_count": 6
        }
      ]
    },
    {
      "cell_type": "markdown",
      "metadata": {
        "id": "hxBosIJuO09O",
        "colab_type": "text"
      },
      "source": [
        "### clamp 裁剪值的范围\n",
        "可用于梯度裁剪，可解决梯度离散（消失）和梯度离散。\n",
        "\n",
        "w.grad 打印梯度\n",
        "\n",
        "w.grad.norm(2) 打印梯度的模，L2范数（值一般在10左右）"
      ]
    },
    {
      "cell_type": "code",
      "metadata": {
        "id": "NFrmsO7jPcwT",
        "colab_type": "code",
        "outputId": "bcbc64f1-2dd0-44ed-9607-b38b9c8f3f32",
        "colab": {
          "base_uri": "https://localhost:8080/",
          "height": 50
        }
      },
      "source": [
        "grad=torch.rand(2,3)*15\n",
        "grad"
      ],
      "execution_count": 0,
      "outputs": [
        {
          "output_type": "execute_result",
          "data": {
            "text/plain": [
              "tensor([[ 8.2453, 14.0579,  1.7637],\n",
              "        [ 6.2943, 11.9355,  0.0870]])"
            ]
          },
          "metadata": {
            "tags": []
          },
          "execution_count": 10
        }
      ]
    },
    {
      "cell_type": "code",
      "metadata": {
        "id": "pK5-mh6HQK-B",
        "colab_type": "code",
        "outputId": "3bb320d6-edda-425d-9980-5a676f7934ed",
        "colab": {
          "base_uri": "https://localhost:8080/",
          "height": 33
        }
      },
      "source": [
        "grad.max()"
      ],
      "execution_count": 0,
      "outputs": [
        {
          "output_type": "execute_result",
          "data": {
            "text/plain": [
              "tensor(14.0579)"
            ]
          },
          "metadata": {
            "tags": []
          },
          "execution_count": 11
        }
      ]
    },
    {
      "cell_type": "code",
      "metadata": {
        "id": "2o7RCs42QBbQ",
        "colab_type": "code",
        "outputId": "9f01c8a8-4a27-48e9-deef-a4317ab9b368",
        "colab": {
          "base_uri": "https://localhost:8080/",
          "height": 33
        }
      },
      "source": [
        "grad.median()"
      ],
      "execution_count": 0,
      "outputs": [
        {
          "output_type": "execute_result",
          "data": {
            "text/plain": [
              "tensor(6.2943)"
            ]
          },
          "metadata": {
            "tags": []
          },
          "execution_count": 12
        }
      ]
    },
    {
      "cell_type": "code",
      "metadata": {
        "id": "fnINkxikQDV9",
        "colab_type": "code",
        "outputId": "7773f47a-60e9-47e8-c577-f48b1cc364e8",
        "colab": {
          "base_uri": "https://localhost:8080/",
          "height": 50
        }
      },
      "source": [
        "grad.clamp(10) #(min)，使它的最小值为10，即小于10的都变为10"
      ],
      "execution_count": 0,
      "outputs": [
        {
          "output_type": "execute_result",
          "data": {
            "text/plain": [
              "tensor([[10.0000, 14.0579, 10.0000],\n",
              "        [10.0000, 11.9355, 10.0000]])"
            ]
          },
          "metadata": {
            "tags": []
          },
          "execution_count": 13
        }
      ]
    },
    {
      "cell_type": "code",
      "metadata": {
        "id": "_DH3ZRUbQGxE",
        "colab_type": "code",
        "outputId": "91399dca-6e4a-47ba-ed4b-b650aa338944",
        "colab": {
          "base_uri": "https://localhost:8080/",
          "height": 50
        }
      },
      "source": [
        "grad.clamp(8,10) #(min,max)，使范围在8-10之间"
      ],
      "execution_count": 0,
      "outputs": [
        {
          "output_type": "execute_result",
          "data": {
            "text/plain": [
              "tensor([[ 8.2453, 10.0000,  8.0000],\n",
              "        [ 8.0000, 10.0000,  8.0000]])"
            ]
          },
          "metadata": {
            "tags": []
          },
          "execution_count": 15
        }
      ]
    }
  ]
}