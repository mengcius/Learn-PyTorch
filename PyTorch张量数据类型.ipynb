{
  "nbformat": 4,
  "nbformat_minor": 0,
  "metadata": {
    "colab": {
      "name": "PyTorch张量数据类型.ipynb",
      "version": "0.3.2",
      "provenance": [],
      "collapsed_sections": [],
      "include_colab_link": true
    },
    "kernelspec": {
      "name": "python3",
      "display_name": "Python 3"
    },
    "accelerator": "GPU"
  },
  "cells": [
    {
      "cell_type": "markdown",
      "metadata": {
        "id": "view-in-github",
        "colab_type": "text"
      },
      "source": [
        "<a href=\"https://colab.research.google.com/github/mengcius/pytorch-learn/blob/master/PyTorch%E5%BC%A0%E9%87%8F%E6%95%B0%E6%8D%AE%E7%B1%BB%E5%9E%8B.ipynb\" target=\"_parent\"><img src=\"https://colab.research.google.com/assets/colab-badge.svg\" alt=\"Open In Colab\"/></a>"
      ]
    },
    {
      "cell_type": "markdown",
      "metadata": {
        "id": "NvMSiPx2jCxh",
        "colab_type": "text"
      },
      "source": [
        "## PyTorch张量数据类型"
      ]
    },
    {
      "cell_type": "code",
      "metadata": {
        "id": "twusrNfgf1Mr",
        "colab_type": "code",
        "outputId": "80d741e2-5a93-4925-ece5-6910e8055f44",
        "colab": {
          "base_uri": "https://localhost:8080/",
          "height": 50
        }
      },
      "source": [
        "import torch\n",
        "import numpy as np\n",
        "print(torch.__version__)\n",
        "print('gpu:', torch.cuda.is_available())"
      ],
      "execution_count": 0,
      "outputs": [
        {
          "output_type": "stream",
          "text": [
            "1.1.0\n",
            "gpu: True\n"
          ],
          "name": "stdout"
        }
      ]
    },
    {
      "cell_type": "markdown",
      "metadata": {
        "id": "xxoEEsv9jMK4",
        "colab_type": "text"
      },
      "source": [
        "### 数据类型推断"
      ]
    },
    {
      "cell_type": "code",
      "metadata": {
        "id": "vBq2PLeugMQS",
        "colab_type": "code",
        "outputId": "8494fdd2-1c9b-42d2-9321-843ca8099cba",
        "colab": {
          "base_uri": "https://localhost:8080/",
          "height": 100
        }
      },
      "source": [
        "a = torch.randn(2,3) # randn是随机正态分布初始化，(2,3)两维的矩阵\n",
        "print(a)\n",
        "\n",
        "print(a.type()) # 打印类型，返回string\n",
        "print(isinstance(a,torch.FloatTensor)) # 类型判断，合法化检验\n",
        "type(a) # torch自带的，返回基本数据类型，不常用"
      ],
      "execution_count": 0,
      "outputs": [
        {
          "output_type": "stream",
          "text": [
            "tensor([[ 0.7119, -0.5383, -1.0185],\n",
            "        [ 0.7789, -1.1768, -0.6493]])\n",
            "torch.FloatTensor\n",
            "True\n"
          ],
          "name": "stdout"
        },
        {
          "output_type": "execute_result",
          "data": {
            "text/plain": [
              "torch.Tensor"
            ]
          },
          "metadata": {
            "tags": []
          },
          "execution_count": 7
        }
      ]
    },
    {
      "cell_type": "markdown",
      "metadata": {
        "id": "mnofP0Q2jt7P",
        "colab_type": "text"
      },
      "source": [
        "### GUP类型与CPU类型不一样\n",
        "数值一样，放的位置不一样，类型不一样"
      ]
    },
    {
      "cell_type": "code",
      "metadata": {
        "id": "P-19vWxJgjAH",
        "colab_type": "code",
        "outputId": "61144678-0a13-424c-f6e5-19e5fdd248d9",
        "colab": {
          "base_uri": "https://localhost:8080/",
          "height": 50
        }
      },
      "source": [
        "print(isinstance(a,torch.cuda.FloatTensor))\n",
        "\n",
        "a=a.cuda() # 返回一个gpu上的引用\n",
        "isinstance(a,torch.cuda.FloatTensor)"
      ],
      "execution_count": 0,
      "outputs": [
        {
          "output_type": "stream",
          "text": [
            "False\n"
          ],
          "name": "stdout"
        },
        {
          "output_type": "execute_result",
          "data": {
            "text/plain": [
              "True"
            ]
          },
          "metadata": {
            "tags": []
          },
          "execution_count": 8
        }
      ]
    },
    {
      "cell_type": "markdown",
      "metadata": {
        "id": "B3oZGxKin8Fk",
        "colab_type": "text"
      },
      "source": [
        "### 标量（0 维）\n",
        "Dimension 0 / rank 0，直接输入数值。没有[ ]"
      ]
    },
    {
      "cell_type": "code",
      "metadata": {
        "id": "mDJRybBVkB42",
        "colab_type": "code",
        "outputId": "11b05e6a-e940-4a1e-a627-7734f797b9d0",
        "colab": {
          "base_uri": "https://localhost:8080/",
          "height": 50
        }
      },
      "source": [
        "a=torch.tensor(1) # 不加点.就是int64的long型，加.就是float32型\n",
        "print(a)\n",
        "print(a.type())"
      ],
      "execution_count": 0,
      "outputs": [
        {
          "output_type": "stream",
          "text": [
            "tensor(1)\n",
            "torch.LongTensor\n"
          ],
          "name": "stdout"
        }
      ]
    },
    {
      "cell_type": "code",
      "metadata": {
        "id": "r3Cp38WKoUYs",
        "colab_type": "code",
        "outputId": "da0dc38c-7624-47bb-9026-504dc754bec8",
        "colab": {
          "base_uri": "https://localhost:8080/",
          "height": 33
        }
      },
      "source": [
        "torch.tensor(1.3)"
      ],
      "execution_count": 0,
      "outputs": [
        {
          "output_type": "execute_result",
          "data": {
            "text/plain": [
              "tensor(1.3000)"
            ]
          },
          "metadata": {
            "tags": []
          },
          "execution_count": 11
        }
      ]
    },
    {
      "cell_type": "markdown",
      "metadata": {
        "id": "co4U1BxWp-sC",
        "colab_type": "text"
      },
      "source": [
        "### 形状和维数推断\n",
        "Dim维数：指Size的长度，看有行列吗，如[*,#]就是2，标量是0\n",
        "\n",
        "Size/shape：指Tensor形状，看有几行几列，如[2,3]，torch.Size([2, 3])\n",
        "\n",
        "Tensor：指整个具体数值，如tensor([1.1000, 2.2000])"
      ]
    },
    {
      "cell_type": "code",
      "metadata": {
        "id": "uiiAtOfroaF1",
        "colab_type": "code",
        "outputId": "8fb07741-ca55-4138-e35d-489629c2837f",
        "colab": {
          "base_uri": "https://localhost:8080/",
          "height": 33
        }
      },
      "source": [
        "b=torch.tensor(2.2) # 0维\n",
        "b.shape # 形状，shape，size"
      ],
      "execution_count": 0,
      "outputs": [
        {
          "output_type": "execute_result",
          "data": {
            "text/plain": [
              "torch.Size([])"
            ]
          },
          "metadata": {
            "tags": []
          },
          "execution_count": 13
        }
      ]
    },
    {
      "cell_type": "code",
      "metadata": {
        "id": "nMF-zU4DpPs3",
        "colab_type": "code",
        "outputId": "7a0ff021-08f0-4c82-d5df-5dc1f12ca99b",
        "colab": {
          "base_uri": "https://localhost:8080/",
          "height": 33
        }
      },
      "source": [
        "a.size() # 形状，size()是成员函数，有括号调用它"
      ],
      "execution_count": 0,
      "outputs": [
        {
          "output_type": "execute_result",
          "data": {
            "text/plain": [
              "torch.Size([2, 3])"
            ]
          },
          "metadata": {
            "tags": []
          },
          "execution_count": 16
        }
      ]
    },
    {
      "cell_type": "code",
      "metadata": {
        "id": "5NjHaJIFozal",
        "colab_type": "code",
        "outputId": "53f95fef-1b54-430f-8f02-3509501813f3",
        "colab": {
          "base_uri": "https://localhost:8080/",
          "height": 33
        }
      },
      "source": [
        "len(b.shape) # 维数，shape是成员"
      ],
      "execution_count": 0,
      "outputs": [
        {
          "output_type": "execute_result",
          "data": {
            "text/plain": [
              "0"
            ]
          },
          "metadata": {
            "tags": []
          },
          "execution_count": 15
        }
      ]
    },
    {
      "cell_type": "markdown",
      "metadata": {
        "id": "6Ujo_5sOqcF8",
        "colab_type": "text"
      },
      "source": [
        "### 1 维\n",
        "Dim 1 / rank 1，数学里叫向量，pytorch里不管几维都是Tensor。引入维数要加[ ]。\n",
        "\n",
        "1维的数一般用在偏置bias；神经网络线性层需要将一张图片展平来作为输入；pytorch0.3版的loss返回为1维[]，而新版就改为了标量。\n",
        "\n",
        ".tensor()接受的是数据的内容；.FloatTensor()接受的是数据的shape维数，初始化就用randn。"
      ]
    },
    {
      "cell_type": "code",
      "metadata": {
        "id": "nEBc44hmpa5r",
        "colab_type": "code",
        "outputId": "f8383ca6-cde4-41ec-fd9c-347a7969436e",
        "colab": {
          "base_uri": "https://localhost:8080/",
          "height": 33
        }
      },
      "source": [
        "torch.tensor([1.1]) # 长度为1的向量也是向量，虽然它也可以表达标量，但为了概念混乱还是要和标量区分开"
      ],
      "execution_count": 0,
      "outputs": [
        {
          "output_type": "execute_result",
          "data": {
            "text/plain": [
              "tensor([1.1000])"
            ]
          },
          "metadata": {
            "tags": []
          },
          "execution_count": 21
        }
      ]
    },
    {
      "cell_type": "code",
      "metadata": {
        "id": "hKlRxEnBshhO",
        "colab_type": "code",
        "outputId": "10fce232-b9b3-4adb-c64c-6acce3577f99",
        "colab": {
          "base_uri": "https://localhost:8080/",
          "height": 33
        }
      },
      "source": [
        "torch.tensor([1.1,2.2]) # 长度为2的向量"
      ],
      "execution_count": 0,
      "outputs": [
        {
          "output_type": "execute_result",
          "data": {
            "text/plain": [
              "tensor([1.1000, 2.2000])"
            ]
          },
          "metadata": {
            "tags": []
          },
          "execution_count": 19
        }
      ]
    },
    {
      "cell_type": "code",
      "metadata": {
        "id": "yzBK2UF8smzX",
        "colab_type": "code",
        "outputId": "36e545d0-52db-41aa-ff98-316c1a692b26",
        "colab": {
          "base_uri": "https://localhost:8080/",
          "height": 33
        }
      },
      "source": [
        "torch.FloatTensor(2) # 长度为2的向量"
      ],
      "execution_count": 0,
      "outputs": [
        {
          "output_type": "execute_result",
          "data": {
            "text/plain": [
              "tensor([3.0531e+13, 0.0000e+00])"
            ]
          },
          "metadata": {
            "tags": []
          },
          "execution_count": 24
        }
      ]
    },
    {
      "cell_type": "markdown",
      "metadata": {
        "id": "cBd8NLpZtCM5",
        "colab_type": "text"
      },
      "source": [
        "从numpy引入数据"
      ]
    },
    {
      "cell_type": "code",
      "metadata": {
        "id": "GaLGaoo_s7sR",
        "colab_type": "code",
        "outputId": "342f0911-fe3d-4556-8ede-651bf96bc261",
        "colab": {
          "base_uri": "https://localhost:8080/",
          "height": 50
        }
      },
      "source": [
        "data=np.ones(2) # 长度为2的向量\n",
        "print(data)\n",
        "data"
      ],
      "execution_count": 0,
      "outputs": [
        {
          "output_type": "stream",
          "text": [
            "[1. 1.]\n"
          ],
          "name": "stdout"
        },
        {
          "output_type": "execute_result",
          "data": {
            "text/plain": [
              "array([1., 1.])"
            ]
          },
          "metadata": {
            "tags": []
          },
          "execution_count": 29
        }
      ]
    },
    {
      "cell_type": "markdown",
      "metadata": {
        "id": "7x6a6qlvvqlN",
        "colab_type": "text"
      },
      "source": [
        "numpy转为torch"
      ]
    },
    {
      "cell_type": "code",
      "metadata": {
        "id": "3HB6RDyatVO-",
        "colab_type": "code",
        "outputId": "24f6abda-dff8-4b2f-b952-aaed03d230b2",
        "colab": {
          "base_uri": "https://localhost:8080/",
          "height": 33
        }
      },
      "source": [
        "torch.from_numpy(data) # numpy转为torch"
      ],
      "execution_count": 0,
      "outputs": [
        {
          "output_type": "execute_result",
          "data": {
            "text/plain": [
              "tensor([1., 1.], dtype=torch.float64)"
            ]
          },
          "metadata": {
            "tags": []
          },
          "execution_count": 36
        }
      ]
    },
    {
      "cell_type": "code",
      "metadata": {
        "id": "bYxsk2lVvpI4",
        "colab_type": "code",
        "outputId": "699e979f-25c4-470d-b53d-fbb7c0359f9e",
        "colab": {
          "base_uri": "https://localhost:8080/",
          "height": 33
        }
      },
      "source": [
        "data.shape"
      ],
      "execution_count": 0,
      "outputs": [
        {
          "output_type": "execute_result",
          "data": {
            "text/plain": [
              "(2,)"
            ]
          },
          "metadata": {
            "tags": []
          },
          "execution_count": 37
        }
      ]
    },
    {
      "cell_type": "code",
      "metadata": {
        "id": "dKWZ2aKAzztO",
        "colab_type": "code",
        "outputId": "6e052216-ba43-484a-df8b-994a674c4272",
        "colab": {
          "base_uri": "https://localhost:8080/",
          "height": 33
        }
      },
      "source": [
        "len(data.shape)"
      ],
      "execution_count": 0,
      "outputs": [
        {
          "output_type": "execute_result",
          "data": {
            "text/plain": [
              "1"
            ]
          },
          "metadata": {
            "tags": []
          },
          "execution_count": 38
        }
      ]
    },
    {
      "cell_type": "markdown",
      "metadata": {
        "id": "W2KPziF20oau",
        "colab_type": "text"
      },
      "source": [
        "### 2 维"
      ]
    },
    {
      "cell_type": "code",
      "metadata": {
        "id": "IHhuAvGu0B5q",
        "colab_type": "code",
        "colab": {}
      },
      "source": [
        ""
      ],
      "execution_count": 0,
      "outputs": []
    }
  ]
}