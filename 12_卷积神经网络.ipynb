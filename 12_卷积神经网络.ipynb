{
  "nbformat": 4,
  "nbformat_minor": 0,
  "metadata": {
    "colab": {
      "name": "12_卷积神经网络.ipynb",
      "version": "0.3.2",
      "provenance": [],
      "collapsed_sections": [],
      "toc_visible": true,
      "include_colab_link": true
    },
    "kernelspec": {
      "name": "python3",
      "display_name": "Python 3"
    },
    "accelerator": "GPU"
  },
  "cells": [
    {
      "cell_type": "markdown",
      "metadata": {
        "id": "view-in-github",
        "colab_type": "text"
      },
      "source": [
        "<a href=\"https://colab.research.google.com/github/mengcius/pytorch-learn/blob/master/12_%E5%8D%B7%E7%A7%AF%E7%A5%9E%E7%BB%8F%E7%BD%91%E7%BB%9C.ipynb\" target=\"_parent\"><img src=\"https://colab.research.google.com/assets/colab-badge.svg\" alt=\"Open In Colab\"/></a>"
      ]
    },
    {
      "cell_type": "markdown",
      "metadata": {
        "id": "IJhnBzUljKKK",
        "colab_type": "text"
      },
      "source": [
        "## 12_卷积神经网络"
      ]
    },
    {
      "cell_type": "markdown",
      "metadata": {
        "id": "gAwmT4BCIRGH",
        "colab_type": "text"
      },
      "source": [
        "### 卷积网络层"
      ]
    },
    {
      "cell_type": "code",
      "metadata": {
        "id": "Kt0lJLZXDVL0",
        "colab_type": "code",
        "colab": {}
      },
      "source": [
        "import torch\n",
        "import torch.nn as nn\n",
        "import torch.nn.functional as F"
      ],
      "execution_count": 0,
      "outputs": []
    },
    {
      "cell_type": "markdown",
      "metadata": {
        "id": "FTxGP0MIjnAz",
        "colab_type": "text"
      },
      "source": [
        "类风格实现（nn.Xxx）：要先实例化再调用"
      ]
    },
    {
      "cell_type": "code",
      "metadata": {
        "id": "5rtOBQFKLGeP",
        "colab_type": "code",
        "outputId": "1de3a0f4-150c-4d15-9587-420982195510",
        "colab": {
          "base_uri": "https://localhost:8080/",
          "height": 33
        }
      },
      "source": [
        "x=torch.rand(1,1,28,28) #核个数，输入通道数，核大小\n",
        "layer=nn.Conv2d(1,3,kernel_size=3,stride=1,padding=0) #卷积层，类风格实现：输入通道数，核数量\n",
        "\n",
        "out=layer.forward(x) #卷积前向运算（不建议用）\n",
        "out.shape"
      ],
      "execution_count": 0,
      "outputs": [
        {
          "output_type": "execute_result",
          "data": {
            "text/plain": [
              "torch.Size([1, 3, 26, 26])"
            ]
          },
          "metadata": {
            "tags": []
          },
          "execution_count": 4
        }
      ]
    },
    {
      "cell_type": "code",
      "metadata": {
        "id": "Nrf4O7PwLIMA",
        "colab_type": "code",
        "outputId": "c79e2881-dd87-478a-c9be-b3310264b1d3",
        "colab": {
          "base_uri": "https://localhost:8080/",
          "height": 33
        }
      },
      "source": [
        "out=layer(x) #卷积前向运算，用封装好的方法，直接是实例+()\n",
        "out.shape"
      ],
      "execution_count": 0,
      "outputs": [
        {
          "output_type": "execute_result",
          "data": {
            "text/plain": [
              "torch.Size([1, 3, 26, 26])"
            ]
          },
          "metadata": {
            "tags": []
          },
          "execution_count": 5
        }
      ]
    },
    {
      "cell_type": "code",
      "metadata": {
        "id": "c1vCMXmALGx4",
        "colab_type": "code",
        "outputId": "e06f253b-d2bf-4c5e-e590-444ea0488397",
        "colab": {
          "base_uri": "https://localhost:8080/",
          "height": 251
        }
      },
      "source": [
        "layer.weight #查看网络层里的参数，[3,1,3,3]核数量 输入通道 核大小，w b会自动跟新"
      ],
      "execution_count": 0,
      "outputs": [
        {
          "output_type": "execute_result",
          "data": {
            "text/plain": [
              "Parameter containing:\n",
              "tensor([[[[-0.3300,  0.0198, -0.1243],\n",
              "          [ 0.0597, -0.0743,  0.2338],\n",
              "          [-0.2747,  0.2101,  0.2337]]],\n",
              "\n",
              "\n",
              "        [[[-0.2405,  0.1064,  0.0402],\n",
              "          [ 0.3295,  0.1337,  0.0645],\n",
              "          [ 0.0190, -0.0427,  0.1558]]],\n",
              "\n",
              "\n",
              "        [[[-0.3241,  0.0522, -0.0070],\n",
              "          [ 0.0812, -0.2457, -0.1421],\n",
              "          [ 0.1151,  0.0057, -0.1088]]]], requires_grad=True)"
            ]
          },
          "metadata": {
            "tags": []
          },
          "execution_count": 6
        }
      ]
    },
    {
      "cell_type": "markdown",
      "metadata": {
        "id": "_wnwntTvfg17",
        "colab_type": "text"
      },
      "source": [
        "函数风格实现（F.xxx）：自己管理这里tensor、运算过程，仅仅用了它GUP加速的过程，不用实例化。\n",
        "\n",
        "pytorch默认大写是类，小写是接口"
      ]
    },
    {
      "cell_type": "code",
      "metadata": {
        "id": "bTGcgMjsfEaj",
        "colab_type": "code",
        "outputId": "f98e2b78-bcdc-4a91-ecb7-9a07046c5493",
        "colab": {
          "base_uri": "https://localhost:8080/",
          "height": 33
        }
      },
      "source": [
        "w=torch.rand(16,3,5,5) #核个数，输入通道数，核大小\n",
        "b=torch.rand(16)\n",
        "x=torch.randn(1,3,28,28) #核个数，输入通道数，核大小\n",
        "\n",
        "out=F.conv2d(x,w,b,stride=1,padding=1) #CNN的一层，底层函数风格实现\n",
        "out.shape"
      ],
      "execution_count": 0,
      "outputs": [
        {
          "output_type": "execute_result",
          "data": {
            "text/plain": [
              "torch.Size([1, 16, 26, 26])"
            ]
          },
          "metadata": {
            "tags": []
          },
          "execution_count": 11
        }
      ]
    },
    {
      "cell_type": "markdown",
      "metadata": {
        "id": "g4jjUtXhkrHH",
        "colab_type": "text"
      },
      "source": [
        "### 上下采样"
      ]
    },
    {
      "cell_type": "markdown",
      "metadata": {
        "id": "z8SBvZsWuBGw",
        "colab_type": "text"
      },
      "source": [
        "池化"
      ]
    },
    {
      "cell_type": "code",
      "metadata": {
        "id": "T_NLxKaQhvNy",
        "colab_type": "code",
        "colab": {}
      },
      "source": [
        "x=torch.rand(1,16,14,14)"
      ],
      "execution_count": 0,
      "outputs": []
    },
    {
      "cell_type": "code",
      "metadata": {
        "id": "MP8K20vMllkW",
        "colab_type": "code",
        "outputId": "0af53c62-d266-4cf5-f1cb-985cc6171d5c",
        "colab": {
          "base_uri": "https://localhost:8080/",
          "height": 33
        }
      },
      "source": [
        "layer=nn.MaxPool2d(2,stride=2) #最大值池化，类风格实现：窗口大小，步长\n",
        "out=layer(x)\n",
        "out.shape #减半了"
      ],
      "execution_count": 0,
      "outputs": [
        {
          "output_type": "execute_result",
          "data": {
            "text/plain": [
              "torch.Size([1, 16, 7, 7])"
            ]
          },
          "metadata": {
            "tags": []
          },
          "execution_count": 5
        }
      ]
    },
    {
      "cell_type": "code",
      "metadata": {
        "id": "TmrCHIp6sy1J",
        "colab_type": "code",
        "outputId": "5c29f13a-8421-4893-f7ef-69ad7c10a209",
        "colab": {
          "base_uri": "https://localhost:8080/",
          "height": 33
        }
      },
      "source": [
        "layer=F.avg_pool2d(x,2,stride=2) #最大值池化，函数风格实现\n",
        "out.shape"
      ],
      "execution_count": 0,
      "outputs": [
        {
          "output_type": "execute_result",
          "data": {
            "text/plain": [
              "torch.Size([1, 16, 7, 7])"
            ]
          },
          "metadata": {
            "tags": []
          },
          "execution_count": 6
        }
      ]
    },
    {
      "cell_type": "markdown",
      "metadata": {
        "id": "rm3q9v03t9r-",
        "colab_type": "text"
      },
      "source": [
        "上采样"
      ]
    },
    {
      "cell_type": "code",
      "metadata": {
        "id": "RHnFO52etNu3",
        "colab_type": "code",
        "outputId": "232a45a4-c41f-45b8-b005-4cfe3ae75dbc",
        "colab": {
          "base_uri": "https://localhost:8080/",
          "height": 33
        }
      },
      "source": [
        "out=F.interpolate(x,scale_factor=3,mode='nearest') #插值法上采样：tensor，放大倍数，插值方法（近邻、双性、三性）\n",
        "out.shape #"
      ],
      "execution_count": 0,
      "outputs": [
        {
          "output_type": "execute_result",
          "data": {
            "text/plain": [
              "torch.Size([1, 16, 42, 42])"
            ]
          },
          "metadata": {
            "tags": []
          },
          "execution_count": 20
        }
      ]
    },
    {
      "cell_type": "markdown",
      "metadata": {
        "id": "e9HjPBYYuFAs",
        "colab_type": "text"
      },
      "source": [
        "### ReLU函数"
      ]
    },
    {
      "cell_type": "code",
      "metadata": {
        "id": "OMpiiwO4tNk8",
        "colab_type": "code",
        "outputId": "dc1c35f5-aa1c-4712-db81-bbeecfab1282",
        "colab": {
          "base_uri": "https://localhost:8080/",
          "height": 33
        }
      },
      "source": [
        "x.shape"
      ],
      "execution_count": 0,
      "outputs": [
        {
          "output_type": "execute_result",
          "data": {
            "text/plain": [
              "torch.Size([1, 16, 14, 14])"
            ]
          },
          "metadata": {
            "tags": []
          },
          "execution_count": 12
        }
      ]
    },
    {
      "cell_type": "code",
      "metadata": {
        "id": "yMmq3ww5uJtd",
        "colab_type": "code",
        "outputId": "5fe2010d-2d8e-48aa-a80a-d9a307c129bc",
        "colab": {
          "base_uri": "https://localhost:8080/",
          "height": 33
        }
      },
      "source": [
        "layer=nn.ReLU(inplace=True) #ReLU函数，维度不变，inplace=True就是让结果替换原来的x的地址，节省内存\n",
        "out=layer(x)\n",
        "out.shape"
      ],
      "execution_count": 0,
      "outputs": [
        {
          "output_type": "execute_result",
          "data": {
            "text/plain": [
              "torch.Size([1, 16, 14, 14])"
            ]
          },
          "metadata": {
            "tags": []
          },
          "execution_count": 13
        }
      ]
    },
    {
      "cell_type": "code",
      "metadata": {
        "id": "MnOg9YbDuWDw",
        "colab_type": "code",
        "outputId": "9a7f361b-af8a-4798-98d7-339d45bca04f",
        "colab": {
          "base_uri": "https://localhost:8080/",
          "height": 33
        }
      },
      "source": [
        "layer=F.relu(x)\n",
        "out.shape"
      ],
      "execution_count": 0,
      "outputs": [
        {
          "output_type": "execute_result",
          "data": {
            "text/plain": [
              "torch.Size([1, 16, 14, 14])"
            ]
          },
          "metadata": {
            "tags": []
          },
          "execution_count": 17
        }
      ]
    },
    {
      "cell_type": "markdown",
      "metadata": {
        "id": "dDwGj_PTKXL7",
        "colab_type": "text"
      },
      "source": [
        "### Batch Normalization"
      ]
    },
    {
      "cell_type": "markdown",
      "metadata": {
        "id": "Uun8f0kUX2Rp",
        "colab_type": "text"
      },
      "source": [
        "一维"
      ]
    },
    {
      "cell_type": "code",
      "metadata": {
        "id": "D34Ig_Xluxtt",
        "colab_type": "code",
        "outputId": "6fc78d3f-3d94-4494-f48f-d457da6c0d71",
        "colab": {
          "base_uri": "https://localhost:8080/",
          "height": 33
        }
      },
      "source": [
        "x=torch.rand(100,16,784) #均匀分布的均值是0.5，方差为1\n",
        "layer=nn.BatchNorm1d(16) #Batch Normal;用1d是因为1维的feature 28*28，16就是通道数\n",
        "out=layer(x) #统计出当前x的u和o^2\n",
        "out.shape"
      ],
      "execution_count": 0,
      "outputs": [
        {
          "output_type": "execute_result",
          "data": {
            "text/plain": [
              "torch.Size([100, 16, 784])"
            ]
          },
          "metadata": {
            "tags": []
          },
          "execution_count": 18
        }
      ]
    },
    {
      "cell_type": "code",
      "metadata": {
        "id": "c8Fh5JpyKsT2",
        "colab_type": "code",
        "outputId": "97e99f00-0aaa-4ccc-aa5e-06230a5cd4ab",
        "colab": {
          "base_uri": "https://localhost:8080/",
          "height": 50
        }
      },
      "source": [
        "layer.running_mean #更新全局的running_u，当只有一次运算时就是u，都在0.5附近"
      ],
      "execution_count": 0,
      "outputs": [
        {
          "output_type": "execute_result",
          "data": {
            "text/plain": [
              "tensor([0.0500, 0.0499, 0.0498, 0.0500, 0.0500, 0.0499, 0.0497, 0.0499, 0.0498,\n",
              "        0.0500, 0.0500, 0.0498, 0.0499, 0.0498, 0.0499, 0.0500])"
            ]
          },
          "metadata": {
            "tags": []
          },
          "execution_count": 5
        }
      ]
    },
    {
      "cell_type": "code",
      "metadata": {
        "id": "sllk9Nr1L7ml",
        "colab_type": "code",
        "outputId": "bf95629d-1a47-4d41-cb22-114cbdd0fa4f",
        "colab": {
          "base_uri": "https://localhost:8080/",
          "height": 50
        }
      },
      "source": [
        "layer.running_var #更新全局的running_o^2，方差为1左右"
      ],
      "execution_count": 0,
      "outputs": [
        {
          "output_type": "execute_result",
          "data": {
            "text/plain": [
              "tensor([0.9083, 0.9084, 0.9083, 0.9083, 0.9083, 0.9083, 0.9084, 0.9083, 0.9083,\n",
              "        0.9083, 0.9083, 0.9083, 0.9083, 0.9083, 0.9084, 0.9083])"
            ]
          },
          "metadata": {
            "tags": []
          },
          "execution_count": 6
        }
      ]
    },
    {
      "cell_type": "markdown",
      "metadata": {
        "id": "DvwOjNUIRIFo",
        "colab_type": "text"
      },
      "source": [
        "二维"
      ]
    },
    {
      "cell_type": "code",
      "metadata": {
        "id": "-TfCeeCiL-vb",
        "colab_type": "code",
        "outputId": "0bda665c-6d19-41c5-afdf-e20f2eabd9b7",
        "colab": {
          "base_uri": "https://localhost:8080/",
          "height": 33
        }
      },
      "source": [
        "x=torch.rand(1,16,7,7)\n",
        "x.shape"
      ],
      "execution_count": 0,
      "outputs": [
        {
          "output_type": "execute_result",
          "data": {
            "text/plain": [
              "torch.Size([1, 16, 7, 7])"
            ]
          },
          "metadata": {
            "tags": []
          },
          "execution_count": 9
        }
      ]
    },
    {
      "cell_type": "code",
      "metadata": {
        "id": "tjf3xBHaQJ-5",
        "colab_type": "code",
        "outputId": "3ab350b4-31b3-401a-8145-563e1d5cccec",
        "colab": {
          "base_uri": "https://localhost:8080/",
          "height": 33
        }
      },
      "source": [
        "layer=nn.BatchNorm2d(16)\n",
        "out=layer(x)\n",
        "out.shape #大小不变"
      ],
      "execution_count": 0,
      "outputs": [
        {
          "output_type": "execute_result",
          "data": {
            "text/plain": [
              "torch.Size([1, 16, 7, 7])"
            ]
          },
          "metadata": {
            "tags": []
          },
          "execution_count": 10
        }
      ]
    },
    {
      "cell_type": "code",
      "metadata": {
        "id": "padUzDWgMkhl",
        "colab_type": "code",
        "outputId": "8100974b-da78-4710-a04d-8b75d24ebfea",
        "colab": {
          "base_uri": "https://localhost:8080/",
          "height": 84
        }
      },
      "source": [
        "layer.weight #相当于r，需要梯度"
      ],
      "execution_count": 0,
      "outputs": [
        {
          "output_type": "execute_result",
          "data": {
            "text/plain": [
              "Parameter containing:\n",
              "tensor([0.3847, 0.9785, 0.7068, 0.7617, 0.5684, 0.7968, 0.0674, 0.8322, 0.9962,\n",
              "        0.2803, 0.3346, 0.1811, 0.4323, 0.6628, 0.6418, 0.6469],\n",
              "       requires_grad=True)"
            ]
          },
          "metadata": {
            "tags": []
          },
          "execution_count": 11
        }
      ]
    },
    {
      "cell_type": "code",
      "metadata": {
        "id": "v5zwLZ6KRv4w",
        "colab_type": "code",
        "outputId": "20bb9289-8e76-4b41-a66a-8ecbaf911ff3",
        "colab": {
          "base_uri": "https://localhost:8080/",
          "height": 67
        }
      },
      "source": [
        "layer.bias #相当于B"
      ],
      "execution_count": 0,
      "outputs": [
        {
          "output_type": "execute_result",
          "data": {
            "text/plain": [
              "Parameter containing:\n",
              "tensor([0., 0., 0., 0., 0., 0., 0., 0., 0., 0., 0., 0., 0., 0., 0., 0.],\n",
              "       requires_grad=True)"
            ]
          },
          "metadata": {
            "tags": []
          },
          "execution_count": 12
        }
      ]
    },
    {
      "cell_type": "code",
      "metadata": {
        "id": "V8op_RJyR0sx",
        "colab_type": "code",
        "outputId": "d6bda720-ef16-4f2d-c47f-5278ac719a6e",
        "colab": {
          "base_uri": "https://localhost:8080/",
          "height": 472
        }
      },
      "source": [
        "vars(layer) #Class variables"
      ],
      "execution_count": 0,
      "outputs": [
        {
          "output_type": "execute_result",
          "data": {
            "text/plain": [
              "{'_backend': <torch.nn.backends.thnn.THNNFunctionBackend at 0x7f5edd095668>,\n",
              " '_backward_hooks': OrderedDict(),\n",
              " '_buffers': OrderedDict([('running_mean',\n",
              "               tensor([0.0450, 0.0558, 0.0435, 0.0471, 0.0516, 0.0510, 0.0461, 0.0421, 0.0493,\n",
              "                       0.0516, 0.0499, 0.0498, 0.0552, 0.0517, 0.0464, 0.0504])),\n",
              "              ('running_var',\n",
              "               tensor([0.9090, 0.9087, 0.9091, 0.9075, 0.9097, 0.9088, 0.9078, 0.9065, 0.9085,\n",
              "                       0.9097, 0.9072, 0.9109, 0.9090, 0.9070, 0.9080, 0.9054])),\n",
              "              ('num_batches_tracked', tensor(1))]),\n",
              " '_forward_hooks': OrderedDict(),\n",
              " '_forward_pre_hooks': OrderedDict(),\n",
              " '_load_state_dict_pre_hooks': OrderedDict(),\n",
              " '_modules': OrderedDict(),\n",
              " '_parameters': OrderedDict([('weight', Parameter containing:\n",
              "               tensor([0.3847, 0.9785, 0.7068, 0.7617, 0.5684, 0.7968, 0.0674, 0.8322, 0.9962,\n",
              "                       0.2803, 0.3346, 0.1811, 0.4323, 0.6628, 0.6418, 0.6469],\n",
              "                      requires_grad=True)), ('bias', Parameter containing:\n",
              "               tensor([0., 0., 0., 0., 0., 0., 0., 0., 0., 0., 0., 0., 0., 0., 0., 0.],\n",
              "                      requires_grad=True))]),\n",
              " '_state_dict_hooks': OrderedDict(),\n",
              " 'affine': True,\n",
              " 'eps': 1e-05,\n",
              " 'momentum': 0.1,\n",
              " 'num_features': 16,\n",
              " 'track_running_stats': True,\n",
              " 'training': True}"
            ]
          },
          "metadata": {
            "tags": []
          },
          "execution_count": 13
        }
      ]
    },
    {
      "cell_type": "markdown",
      "metadata": {
        "id": "fHz9aF4lTTEx",
        "colab_type": "text"
      },
      "source": [
        "测试里的Batch Norm"
      ]
    },
    {
      "cell_type": "code",
      "metadata": {
        "id": "V8otessgSGI-",
        "colab_type": "code",
        "outputId": "dec3f847-06d8-46b1-cbe9-e7c94d4884fb",
        "colab": {
          "base_uri": "https://localhost:8080/",
          "height": 33
        }
      },
      "source": [
        "layer.eval()\n",
        "nn.BatchNorm1d(16,eps=1e-05,momentum=0.1,affine=True,track_running_stats=True)\n",
        "out=layer(x)\n",
        "out.shape"
      ],
      "execution_count": 0,
      "outputs": [
        {
          "output_type": "execute_result",
          "data": {
            "text/plain": [
              "torch.Size([1, 16, 7, 7])"
            ]
          },
          "metadata": {
            "tags": []
          },
          "execution_count": 17
        }
      ]
    },
    {
      "cell_type": "markdown",
      "metadata": {
        "id": "R17F4Qx8YetA",
        "colab_type": "text"
      },
      "source": [
        "### ResNet的残差单元"
      ]
    },
    {
      "cell_type": "code",
      "metadata": {
        "id": "1vOyNV5MYf-c",
        "colab_type": "code",
        "colab": {}
      },
      "source": [
        "import  torch\n",
        "from    torch import  nn\n",
        "from    torch.nn import functional as F\n",
        "\n",
        "# from    torchvision.models import resnet18\n",
        "\n",
        "# 残差单元（适用于浅层网络，中间有两层卷积层）\n",
        "class ResBlk(nn.Module):\n",
        "    \"\"\"\n",
        "    resnet block\n",
        "    \"\"\"\n",
        "\n",
        "    def __init__(self, ch_in, ch_out):\n",
        "        \"\"\"\n",
        "        :param ch_in:\n",
        "        :param ch_out:\n",
        "        \"\"\"\n",
        "        super(ResBlk, self).__init__()\n",
        "\n",
        "        self.conv1 = nn.Conv2d(ch_in, ch_out, kernel_size=3, stride=1, padding=1)\n",
        "        self.bn1 = nn.BatchNorm2d(ch_out)\n",
        "        self.conv2 = nn.Conv2d(ch_out, ch_out, kernel_size=3, stride=1, padding=1)\n",
        "        self.bn2 = nn.BatchNorm2d(ch_out)\n",
        "\n",
        "        self.extra = nn.Sequential()\n",
        "        if ch_out != ch_in: # 确保x跳连的输出是ch_out，以便与卷积层像素相加\n",
        "            # [b, ch_in, h, w] => [b, ch_out, h, w]\n",
        "            self.extra = nn.Sequential(\n",
        "                nn.Conv2d(ch_in, ch_out, kernel_size=1, stride=1),\n",
        "                nn.BatchNorm2d(ch_out)\n",
        "            )\n",
        "\n",
        "    def forward(self, x):\n",
        "        \"\"\"\n",
        "        :param x: [b, ch, h, w]\n",
        "        :return:\n",
        "        \"\"\"\n",
        "        out = F.relu(self.bn1(self.conv1(x))) # 这里加relu\n",
        "        out = self.bn2(self.conv2(out))\n",
        "        # short cut，extra module: [b, ch_in, h, w] => [b, ch_out, h, w]\n",
        "        out = self.extra(x) + out # 元素相加（element-wise add）\n",
        "\n",
        "        return out"
      ],
      "execution_count": 0,
      "outputs": []
    },
    {
      "cell_type": "markdown",
      "metadata": {
        "id": "tZaju0Oziocs",
        "colab_type": "text"
      },
      "source": [
        "### ResNet网络\n",
        "ResNet18跑CIFAR10"
      ]
    },
    {
      "cell_type": "code",
      "metadata": {
        "id": "lOj-v6Jkim-0",
        "colab_type": "code",
        "colab": {
          "base_uri": "https://localhost:8080/",
          "height": 1000
        },
        "outputId": "ecdcf8d8-70e8-472b-8d48-64f1db6d34a0"
      },
      "source": [
        "import  torch\n",
        "from    torch import  nn\n",
        "from    torch.nn import functional as F\n",
        "from    torch.utils.data import DataLoader\n",
        "from    torchvision import datasets\n",
        "from    torchvision import transforms\n",
        "from    torch import nn, optim\n",
        "\n",
        "# from    torchvision.models import resnet18\n",
        "\n",
        "# 残差单元（适用于浅层网络，中间有两层卷积层）\n",
        "class ResBlk(nn.Module):\n",
        "    \"\"\"\n",
        "    resnet block\n",
        "    \"\"\"\n",
        "\n",
        "    def __init__(self, ch_in, ch_out):\n",
        "        \"\"\"\n",
        "        :param ch_in:\n",
        "        :param ch_out:\n",
        "        \"\"\"\n",
        "        super(ResBlk, self).__init__()\n",
        "\n",
        "        self.conv1 = nn.Conv2d(ch_in, ch_out, kernel_size=3, stride=1, padding=1)\n",
        "        self.bn1 = nn.BatchNorm2d(ch_out)\n",
        "        self.conv2 = nn.Conv2d(ch_out, ch_out, kernel_size=3, stride=1, padding=1)\n",
        "        self.bn2 = nn.BatchNorm2d(ch_out)\n",
        "\n",
        "        self.extra = nn.Sequential()\n",
        "        if ch_out != ch_in: # 确保x跳连的输出是ch_out，以便与卷积层像素相加\n",
        "            # [b, ch_in, h, w] => [b, ch_out, h, w]\n",
        "            self.extra = nn.Sequential(\n",
        "                nn.Conv2d(ch_in, ch_out, kernel_size=1, stride=1),\n",
        "                nn.BatchNorm2d(ch_out)\n",
        "            )\n",
        "\n",
        "    def forward(self, x):\n",
        "        \"\"\"\n",
        "        :param x: [b, ch, h, w]\n",
        "        :return:\n",
        "        \"\"\"\n",
        "        out = F.relu(self.bn1(self.conv1(x))) # 这里加relu\n",
        "        out = self.bn2(self.conv2(out))\n",
        "        # short cut，extra module: [b, ch_in, h, w] => [b, ch_out, h, w]\n",
        "        out = self.extra(x) + out # 元素相加（element-wise add）\n",
        "\n",
        "        return out\n",
        "\n",
        "\n",
        "# ResNet18网络结构\n",
        "class ResNet18(nn.Module):\n",
        "\n",
        "    def __init__(self):\n",
        "        super(ResNet18, self).__init__()\n",
        "\n",
        "        self.conv1 = nn.Sequential(\n",
        "            nn.Conv2d(3, 16, kernel_size=3, stride=1, padding=1),\n",
        "            nn.BatchNorm2d(16)\n",
        "        )\n",
        "        # followed 4 blocks\n",
        "        # [b, 64, h, w] => [b, 128, h ,w]\n",
        "        self.blk1 = ResBlk(16, 16)\n",
        "        # [b, 128, h, w] => [b, 256, h, w]\n",
        "        self.blk2 = ResBlk(16, 32)\n",
        "        # # [b, 256, h, w] => [b, 512, h, w]\n",
        "        # self.blk3 = ResBlk(128, 256)\n",
        "        # # [b, 512, h, w] => [b, 1024, h, w]\n",
        "        # self.blk4 = ResBlk(256, 512)\n",
        "\n",
        "        self.outlayer = nn.Linear(32*32*32, 10)\n",
        "\n",
        "    def forward(self, x):\n",
        "        \"\"\"\n",
        "        :param x:\n",
        "        :return:\n",
        "        \"\"\"\n",
        "        x = F.relu(self.conv1(x))\n",
        "\n",
        "        # [b, 64, h, w] => [b, 1024, h, w]\n",
        "        x = self.blk1(x)\n",
        "        x = self.blk2(x)\n",
        "        # x = self.blk3(x)\n",
        "        # x = self.blk4(x)\n",
        "\n",
        "        # print(x.shape)\n",
        "        x = x.view(x.size(0), -1)\n",
        "        x = self.outlayer(x)\n",
        "\n",
        "        return x\n",
        "\n",
        "\n",
        "def main():\n",
        "    batchsz = 32\n",
        "\n",
        "    cifar_train = datasets.CIFAR10('cifar', True, transform=transforms.Compose([\n",
        "        transforms.Resize((32, 32)),\n",
        "        transforms.ToTensor()\n",
        "    ]), download=True)\n",
        "    cifar_train = DataLoader(cifar_train, batch_size=batchsz, shuffle=True)\n",
        "\n",
        "    cifar_test = datasets.CIFAR10('cifar', False, transform=transforms.Compose([\n",
        "        transforms.Resize((32, 32)),\n",
        "        transforms.ToTensor()\n",
        "    ]), download=True)\n",
        "    cifar_test = DataLoader(cifar_test, batch_size=batchsz, shuffle=True)\n",
        "\n",
        "\n",
        "    x, label = iter(cifar_train).next()\n",
        "    print('x:', x.shape, 'label:', label.shape)\n",
        "\n",
        "    device = torch.device('cuda')\n",
        "    # model = Lenet5().to(device)\n",
        "    model = ResNet18().to(device)\n",
        "\n",
        "    criteon = nn.CrossEntropyLoss().to(device)\n",
        "    optimizer = optim.Adam(model.parameters(), lr=1e-3)\n",
        "    print(model)\n",
        "\n",
        "    for epoch in range(1000):\n",
        "\n",
        "        model.train()\n",
        "        for batchidx, (x, label) in enumerate(cifar_train):\n",
        "            # [b, 3, 32, 32]\n",
        "            # [b]\n",
        "            x, label = x.to(device), label.to(device)\n",
        "\n",
        "            logits = model(x)\n",
        "            # logits: [b, 10]\n",
        "            # label:  [b]\n",
        "            # loss: tensor scalar\n",
        "            loss = criteon(logits, label)\n",
        "\n",
        "            # backprop\n",
        "            optimizer.zero_grad()\n",
        "            loss.backward()\n",
        "            optimizer.step()\n",
        "\n",
        "        #\n",
        "        print(epoch, 'loss:', loss.item())\n",
        "\n",
        "\n",
        "        model.eval()\n",
        "        with torch.no_grad():\n",
        "            # test\n",
        "            total_correct = 0\n",
        "            total_num = 0\n",
        "            for x, label in cifar_test:\n",
        "                # [b, 3, 32, 32]\n",
        "                # [b]\n",
        "                x, label = x.to(device), label.to(device)\n",
        "\n",
        "                # [b, 10]\n",
        "                logits = model(x)\n",
        "                # [b]\n",
        "                pred = logits.argmax(dim=1)\n",
        "                # [b] vs [b] => scalar tensor\n",
        "                correct = torch.eq(pred, label).float().sum().item()\n",
        "                total_correct += correct\n",
        "                total_num += x.size(0)\n",
        "                # print(correct)\n",
        "\n",
        "            acc = total_correct / total_num\n",
        "            print(epoch, 'acc:', acc)\n",
        "\n",
        "\n",
        "if __name__ == '__main__':\n",
        "    main()"
      ],
      "execution_count": 0,
      "outputs": [
        {
          "output_type": "stream",
          "text": [
            "\r0it [00:00, ?it/s]"
          ],
          "name": "stderr"
        },
        {
          "output_type": "stream",
          "text": [
            "Downloading https://www.cs.toronto.edu/~kriz/cifar-10-python.tar.gz to cifar/cifar-10-python.tar.gz\n"
          ],
          "name": "stdout"
        },
        {
          "output_type": "stream",
          "text": [
            "170500096it [00:06, 27783743.02it/s]                               \n"
          ],
          "name": "stderr"
        },
        {
          "output_type": "stream",
          "text": [
            "Files already downloaded and verified\n",
            "x: torch.Size([32, 3, 32, 32]) label: torch.Size([32])\n",
            "ResNet18(\n",
            "  (conv1): Sequential(\n",
            "    (0): Conv2d(3, 16, kernel_size=(3, 3), stride=(1, 1), padding=(1, 1))\n",
            "    (1): BatchNorm2d(16, eps=1e-05, momentum=0.1, affine=True, track_running_stats=True)\n",
            "  )\n",
            "  (blk1): ResBlk(\n",
            "    (conv1): Conv2d(16, 16, kernel_size=(3, 3), stride=(1, 1), padding=(1, 1))\n",
            "    (bn1): BatchNorm2d(16, eps=1e-05, momentum=0.1, affine=True, track_running_stats=True)\n",
            "    (conv2): Conv2d(16, 16, kernel_size=(3, 3), stride=(1, 1), padding=(1, 1))\n",
            "    (bn2): BatchNorm2d(16, eps=1e-05, momentum=0.1, affine=True, track_running_stats=True)\n",
            "    (extra): Sequential()\n",
            "  )\n",
            "  (blk2): ResBlk(\n",
            "    (conv1): Conv2d(16, 32, kernel_size=(3, 3), stride=(1, 1), padding=(1, 1))\n",
            "    (bn1): BatchNorm2d(32, eps=1e-05, momentum=0.1, affine=True, track_running_stats=True)\n",
            "    (conv2): Conv2d(32, 32, kernel_size=(3, 3), stride=(1, 1), padding=(1, 1))\n",
            "    (bn2): BatchNorm2d(32, eps=1e-05, momentum=0.1, affine=True, track_running_stats=True)\n",
            "    (extra): Sequential(\n",
            "      (0): Conv2d(16, 32, kernel_size=(1, 1), stride=(1, 1))\n",
            "      (1): BatchNorm2d(32, eps=1e-05, momentum=0.1, affine=True, track_running_stats=True)\n",
            "    )\n",
            "  )\n",
            "  (outlayer): Linear(in_features=32768, out_features=10, bias=True)\n",
            ")\n",
            "0 loss: 1.5689066648483276\n",
            "0 acc: 0.5463\n",
            "1 loss: 0.4720211923122406\n",
            "1 acc: 0.5897\n",
            "2 loss: 1.0085821151733398\n",
            "2 acc: 0.615\n",
            "3 loss: 0.6026808619499207\n",
            "3 acc: 0.5989\n",
            "4 loss: 0.833814263343811\n",
            "4 acc: 0.5939\n",
            "5 loss: 0.5865252614021301\n",
            "5 acc: 0.6259\n",
            "6 loss: 0.29089391231536865\n",
            "6 acc: 0.6246\n",
            "7 loss: 0.3529692590236664\n",
            "7 acc: 0.6145\n",
            "8 loss: 0.32114699482917786\n",
            "8 acc: 0.6095\n",
            "9 loss: 0.26456528902053833\n",
            "9 acc: 0.5967\n",
            "10 loss: 0.05757981538772583\n",
            "10 acc: 0.6057\n",
            "11 loss: 0.6052832007408142\n",
            "11 acc: 0.6022\n",
            "12 loss: 0.2594645023345947\n",
            "12 acc: 0.6056\n",
            "13 loss: 0.3285031318664551\n",
            "13 acc: 0.6026\n",
            "14 loss: 0.1915207803249359\n",
            "14 acc: 0.5982\n",
            "15 loss: 0.18464431166648865\n",
            "15 acc: 0.5958\n",
            "16 loss: 0.3418786823749542\n",
            "16 acc: 0.5944\n",
            "17 loss: 0.059285640716552734\n",
            "17 acc: 0.5957\n",
            "18 loss: 0.07600599527359009\n",
            "18 acc: 0.5932\n"
          ],
          "name": "stdout"
        }
      ]
    }
  ]
}