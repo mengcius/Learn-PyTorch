{
  "nbformat": 4,
  "nbformat_minor": 0,
  "metadata": {
    "colab": {
      "name": "12_卷积神经网络.ipynb",
      "version": "0.3.2",
      "provenance": [],
      "collapsed_sections": [],
      "include_colab_link": true
    },
    "kernelspec": {
      "name": "python3",
      "display_name": "Python 3"
    }
  },
  "cells": [
    {
      "cell_type": "markdown",
      "metadata": {
        "id": "view-in-github",
        "colab_type": "text"
      },
      "source": [
        "<a href=\"https://colab.research.google.com/github/mengcius/pytorch-learn/blob/master/12_%E5%8D%B7%E7%A7%AF%E7%A5%9E%E7%BB%8F%E7%BD%91%E7%BB%9C.ipynb\" target=\"_parent\"><img src=\"https://colab.research.google.com/assets/colab-badge.svg\" alt=\"Open In Colab\"/></a>"
      ]
    },
    {
      "cell_type": "markdown",
      "metadata": {
        "id": "IJhnBzUljKKK",
        "colab_type": "text"
      },
      "source": [
        "## 12_卷积神经网络"
      ]
    },
    {
      "cell_type": "markdown",
      "metadata": {
        "id": "gAwmT4BCIRGH",
        "colab_type": "text"
      },
      "source": [
        "### 卷积网络层"
      ]
    },
    {
      "cell_type": "code",
      "metadata": {
        "id": "Kt0lJLZXDVL0",
        "colab_type": "code",
        "colab": {}
      },
      "source": [
        "import torch\n",
        "import torch.nn as nn\n",
        "import torch.nn.functional as F"
      ],
      "execution_count": 0,
      "outputs": []
    },
    {
      "cell_type": "markdown",
      "metadata": {
        "id": "FTxGP0MIjnAz",
        "colab_type": "text"
      },
      "source": [
        "类风格实现（nn.Xxx）：要先实例化再调用"
      ]
    },
    {
      "cell_type": "code",
      "metadata": {
        "id": "5rtOBQFKLGeP",
        "colab_type": "code",
        "colab": {
          "base_uri": "https://localhost:8080/",
          "height": 33
        },
        "outputId": "1de3a0f4-150c-4d15-9587-420982195510"
      },
      "source": [
        "x=torch.rand(1,1,28,28) #核个数，输入通道数，核大小\n",
        "layer=nn.Conv2d(1,3,kernel_size=3,stride=1,padding=0) #卷积层，类风格实现：输入通道数，核数量\n",
        "\n",
        "out=layer.forward(x) #卷积前向运算（不建议用）\n",
        "out.shape"
      ],
      "execution_count": 4,
      "outputs": [
        {
          "output_type": "execute_result",
          "data": {
            "text/plain": [
              "torch.Size([1, 3, 26, 26])"
            ]
          },
          "metadata": {
            "tags": []
          },
          "execution_count": 4
        }
      ]
    },
    {
      "cell_type": "code",
      "metadata": {
        "id": "Nrf4O7PwLIMA",
        "colab_type": "code",
        "colab": {
          "base_uri": "https://localhost:8080/",
          "height": 33
        },
        "outputId": "c79e2881-dd87-478a-c9be-b3310264b1d3"
      },
      "source": [
        "out=layer(x) #卷积前向运算，用封装好的方法，直接是实例+()\n",
        "out.shape"
      ],
      "execution_count": 5,
      "outputs": [
        {
          "output_type": "execute_result",
          "data": {
            "text/plain": [
              "torch.Size([1, 3, 26, 26])"
            ]
          },
          "metadata": {
            "tags": []
          },
          "execution_count": 5
        }
      ]
    },
    {
      "cell_type": "code",
      "metadata": {
        "id": "c1vCMXmALGx4",
        "colab_type": "code",
        "colab": {
          "base_uri": "https://localhost:8080/",
          "height": 251
        },
        "outputId": "e06f253b-d2bf-4c5e-e590-444ea0488397"
      },
      "source": [
        "layer.weight #查看网络层里的参数，[3,1,3,3]核数量 输入通道 核大小，w b会自动跟新"
      ],
      "execution_count": 6,
      "outputs": [
        {
          "output_type": "execute_result",
          "data": {
            "text/plain": [
              "Parameter containing:\n",
              "tensor([[[[-0.3300,  0.0198, -0.1243],\n",
              "          [ 0.0597, -0.0743,  0.2338],\n",
              "          [-0.2747,  0.2101,  0.2337]]],\n",
              "\n",
              "\n",
              "        [[[-0.2405,  0.1064,  0.0402],\n",
              "          [ 0.3295,  0.1337,  0.0645],\n",
              "          [ 0.0190, -0.0427,  0.1558]]],\n",
              "\n",
              "\n",
              "        [[[-0.3241,  0.0522, -0.0070],\n",
              "          [ 0.0812, -0.2457, -0.1421],\n",
              "          [ 0.1151,  0.0057, -0.1088]]]], requires_grad=True)"
            ]
          },
          "metadata": {
            "tags": []
          },
          "execution_count": 6
        }
      ]
    },
    {
      "cell_type": "markdown",
      "metadata": {
        "id": "_wnwntTvfg17",
        "colab_type": "text"
      },
      "source": [
        "函数风格实现（F.xxx）：自己管理这里tensor、运算过程，仅仅用了它GUP加速的过程，不用实例化。\n",
        "\n",
        "pytorch默认大写是类，小写是接口"
      ]
    },
    {
      "cell_type": "code",
      "metadata": {
        "id": "bTGcgMjsfEaj",
        "colab_type": "code",
        "colab": {
          "base_uri": "https://localhost:8080/",
          "height": 33
        },
        "outputId": "f98e2b78-bcdc-4a91-ecb7-9a07046c5493"
      },
      "source": [
        "w=torch.rand(16,3,5,5) #核个数，输入通道数，核大小\n",
        "b=torch.rand(16)\n",
        "x=torch.randn(1,3,28,28) #核个数，输入通道数，核大小\n",
        "\n",
        "out=F.conv2d(x,w,b,stride=1,padding=1) #CNN的一层，底层函数风格实现\n",
        "out.shape"
      ],
      "execution_count": 11,
      "outputs": [
        {
          "output_type": "execute_result",
          "data": {
            "text/plain": [
              "torch.Size([1, 16, 26, 26])"
            ]
          },
          "metadata": {
            "tags": []
          },
          "execution_count": 11
        }
      ]
    },
    {
      "cell_type": "markdown",
      "metadata": {
        "id": "g4jjUtXhkrHH",
        "colab_type": "text"
      },
      "source": [
        "### 池化"
      ]
    },
    {
      "cell_type": "code",
      "metadata": {
        "id": "T_NLxKaQhvNy",
        "colab_type": "code",
        "colab": {}
      },
      "source": [
        ""
      ],
      "execution_count": 0,
      "outputs": []
    },
    {
      "cell_type": "code",
      "metadata": {
        "id": "MP8K20vMllkW",
        "colab_type": "code",
        "colab": {}
      },
      "source": [
        ""
      ],
      "execution_count": 0,
      "outputs": []
    }
  ]
}