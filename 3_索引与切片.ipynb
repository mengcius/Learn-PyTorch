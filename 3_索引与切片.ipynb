{
  "nbformat": 4,
  "nbformat_minor": 0,
  "metadata": {
    "colab": {
      "name": "3.索引与切片.ipynb",
      "version": "0.3.2",
      "provenance": [],
      "collapsed_sections": [],
      "include_colab_link": true
    },
    "kernelspec": {
      "name": "python3",
      "display_name": "Python 3"
    }
  },
  "cells": [
    {
      "cell_type": "markdown",
      "metadata": {
        "id": "view-in-github",
        "colab_type": "text"
      },
      "source": [
        "<a href=\"https://colab.research.google.com/github/mengcius/pytorch-learn/blob/master/3_%E7%B4%A2%E5%BC%95%E4%B8%8E%E5%88%87%E7%89%87.ipynb\" target=\"_parent\"><img src=\"https://colab.research.google.com/assets/colab-badge.svg\" alt=\"Open In Colab\"/></a>"
      ]
    },
    {
      "cell_type": "markdown",
      "metadata": {
        "id": "MgbSHxoOooeo",
        "colab_type": "text"
      },
      "source": [
        "## 3.索引与切片"
      ]
    },
    {
      "cell_type": "markdown",
      "metadata": {
        "id": "-fL33rmIowg7",
        "colab_type": "text"
      },
      "source": [
        "### 直接索引\n",
        "\n",
        "直接给定索引 [ ]"
      ]
    },
    {
      "cell_type": "code",
      "metadata": {
        "id": "4zGXjGsppOeB",
        "colab_type": "code",
        "colab": {}
      },
      "source": [
        "import torch\n",
        "import numpy as np"
      ],
      "execution_count": 0,
      "outputs": []
    },
    {
      "cell_type": "code",
      "metadata": {
        "id": "HV3ghJ5LogYT",
        "colab_type": "code",
        "outputId": "2a28d62c-0565-4367-c248-a5b8769204a0",
        "colab": {
          "base_uri": "https://localhost:8080/",
          "height": 33
        }
      },
      "source": [
        "a=torch.rand(4,3,28,28) # batch,c,h,w\n",
        "a[0] #从最左边开始索引，第一个维度，这里指第0张图片\n",
        "a[0].shape"
      ],
      "execution_count": 0,
      "outputs": [
        {
          "output_type": "execute_result",
          "data": {
            "text/plain": [
              "torch.Size([3, 28, 28])"
            ]
          },
          "metadata": {
            "tags": []
          },
          "execution_count": 5
        }
      ]
    },
    {
      "cell_type": "code",
      "metadata": {
        "id": "pw5gWKl3pGNQ",
        "colab_type": "code",
        "outputId": "9d0b97ee-f5d4-44e2-ec23-312b1880d873",
        "colab": {
          "base_uri": "https://localhost:8080/",
          "height": 33
        }
      },
      "source": [
        "a[0,0].shape #第0张图片的第0个通道"
      ],
      "execution_count": 0,
      "outputs": [
        {
          "output_type": "execute_result",
          "data": {
            "text/plain": [
              "torch.Size([28, 28])"
            ]
          },
          "metadata": {
            "tags": []
          },
          "execution_count": 6
        }
      ]
    },
    {
      "cell_type": "code",
      "metadata": {
        "id": "D8lTBkeEp2Mu",
        "colab_type": "code",
        "outputId": "d6952719-cc5d-422a-d8e9-b76acdb9e920",
        "colab": {
          "base_uri": "https://localhost:8080/",
          "height": 33
        }
      },
      "source": [
        "a[0,0,2,4] #第0张图片的第0个通道的第2行第4列像素，注意这里返回的是0维的标量，不同于[0.8918]"
      ],
      "execution_count": 0,
      "outputs": [
        {
          "output_type": "execute_result",
          "data": {
            "text/plain": [
              "tensor(0.8918)"
            ]
          },
          "metadata": {
            "tags": []
          },
          "execution_count": 9
        }
      ]
    },
    {
      "cell_type": "markdown",
      "metadata": {
        "id": "MX41zCEU5nbk",
        "colab_type": "text"
      },
      "source": [
        "### 切片，选取前面或后面连续的一部分\n",
        "连续取前面一部分用 :+数字 可以理解为->，只有 : 表示取全部，取后面用 数字+: 。"
      ]
    },
    {
      "cell_type": "code",
      "metadata": {
        "id": "rg9AvIfFp9NA",
        "colab_type": "code",
        "outputId": "f3266ca8-ee96-45fd-f4c7-f114d557f439",
        "colab": {
          "base_uri": "https://localhost:8080/",
          "height": 33
        }
      },
      "source": [
        "a=torch.rand(4,3,28,28) # batch,c,h,w\n",
        "a.shape"
      ],
      "execution_count": 0,
      "outputs": [
        {
          "output_type": "execute_result",
          "data": {
            "text/plain": [
              "torch.Size([4, 3, 28, 28])"
            ]
          },
          "metadata": {
            "tags": []
          },
          "execution_count": 10
        }
      ]
    },
    {
      "cell_type": "code",
      "metadata": {
        "id": "pUS--nmw6vI4",
        "colab_type": "code",
        "outputId": "58cf6ca5-5574-4c03-ca7d-ea4d258b06cd",
        "colab": {
          "base_uri": "https://localhost:8080/",
          "height": 33
        }
      },
      "source": [
        "a[:2].shape #第1维度的取前2个，第0、1个，没有取到第2个，相当于:右面是开区间"
      ],
      "execution_count": 0,
      "outputs": [
        {
          "output_type": "execute_result",
          "data": {
            "text/plain": [
              "torch.Size([2, 3, 28, 28])"
            ]
          },
          "metadata": {
            "tags": []
          },
          "execution_count": 11
        }
      ]
    },
    {
      "cell_type": "code",
      "metadata": {
        "id": "w745Xh387za7",
        "colab_type": "code",
        "outputId": "7bb46ec3-c442-4f1c-f40a-73fcbb0a7381",
        "colab": {
          "base_uri": "https://localhost:8080/",
          "height": 33
        }
      },
      "source": [
        "a[:2,:,27:,-2:].shape #-1代表最后一个，:左面是闭区间，第27、-2(26)个（0-27）"
      ],
      "execution_count": 0,
      "outputs": [
        {
          "output_type": "execute_result",
          "data": {
            "text/plain": [
              "torch.Size([2, 3, 1, 2])"
            ]
          },
          "metadata": {
            "tags": []
          },
          "execution_count": 15
        }
      ]
    },
    {
      "cell_type": "code",
      "metadata": {
        "id": "TvBzsT0y8rvT",
        "colab_type": "code",
        "outputId": "41108e9d-04ca-49b4-d0f5-cdaa32e9763e",
        "colab": {
          "base_uri": "https://localhost:8080/",
          "height": 217
        }
      },
      "source": [
        "a[:2,:,27:,-2:]"
      ],
      "execution_count": 0,
      "outputs": [
        {
          "output_type": "execute_result",
          "data": {
            "text/plain": [
              "tensor([[[[0.7316, 0.7230]],\n",
              "\n",
              "         [[0.5899, 0.6945]],\n",
              "\n",
              "         [[0.6761, 0.1977]]],\n",
              "\n",
              "\n",
              "        [[[0.0406, 0.4303]],\n",
              "\n",
              "         [[0.8266, 0.2562]],\n",
              "\n",
              "         [[0.3794, 0.4430]]]])"
            ]
          },
          "metadata": {
            "tags": []
          },
          "execution_count": 14
        }
      ]
    },
    {
      "cell_type": "markdown",
      "metadata": {
        "id": "3cqd3MCT9Nzv",
        "colab_type": "text"
      },
      "source": [
        "### 间隔采样\n",
        "[start:end) 从开始到结束，左闭右开\n",
        "\n",
        "[start:end:step)有间隔时有两个 : ，0:28:2，2就是间隔，不写时默认为1\n",
        "\n",
        "\n"
      ]
    },
    {
      "cell_type": "code",
      "metadata": {
        "id": "bUBHvNs_8ucl",
        "colab_type": "code",
        "outputId": "3a5df9e8-bb86-44ca-b0f1-4623cac8ca43",
        "colab": {
          "base_uri": "https://localhost:8080/",
          "height": 33
        }
      },
      "source": [
        "a[:,:,0:28:2,0:28:2].shape"
      ],
      "execution_count": 0,
      "outputs": [
        {
          "output_type": "execute_result",
          "data": {
            "text/plain": [
              "torch.Size([4, 3, 14, 14])"
            ]
          },
          "metadata": {
            "tags": []
          },
          "execution_count": 16
        }
      ]
    },
    {
      "cell_type": "code",
      "metadata": {
        "id": "EXuiqOdj_qj7",
        "colab_type": "code",
        "outputId": "3e352043-9f25-4f4a-d57f-aedc0ce22bfc",
        "colab": {
          "base_uri": "https://localhost:8080/",
          "height": 33
        }
      },
      "source": [
        "a[:,:,::2,::2].shape"
      ],
      "execution_count": 0,
      "outputs": [
        {
          "output_type": "execute_result",
          "data": {
            "text/plain": [
              "torch.Size([4, 3, 14, 14])"
            ]
          },
          "metadata": {
            "tags": []
          },
          "execution_count": 17
        }
      ]
    },
    {
      "cell_type": "markdown",
      "metadata": {
        "id": "RV7wdh6iAK0P",
        "colab_type": "text"
      },
      "source": [
        "### 指定维度索引\n",
        "\n",
        "index_select，第一个参数是第几维，第二个参数选取此维度上元素的索引范围，要将list转为tersor"
      ]
    },
    {
      "cell_type": "code",
      "metadata": {
        "id": "_MvR8oyR_7ZW",
        "colab_type": "code",
        "outputId": "3f567ba2-4cca-4cfd-b729-50a00dfe4932",
        "colab": {
          "base_uri": "https://localhost:8080/",
          "height": 33
        }
      },
      "source": [
        "a.index_select(0,torch.tensor([0,2])).shape #选第几个维度，对此维度取第0、2"
      ],
      "execution_count": 0,
      "outputs": [
        {
          "output_type": "execute_result",
          "data": {
            "text/plain": [
              "torch.Size([2, 3, 28, 28])"
            ]
          },
          "metadata": {
            "tags": []
          },
          "execution_count": 18
        }
      ]
    },
    {
      "cell_type": "code",
      "metadata": {
        "id": "_pE4s8vYAt9r",
        "colab_type": "code",
        "outputId": "a4ed2ac6-0f17-4df2-f346-84f1d95b44dc",
        "colab": {
          "base_uri": "https://localhost:8080/",
          "height": 33
        }
      },
      "source": [
        "a.index_select(1,torch.tensor([1,2])).shape"
      ],
      "execution_count": 0,
      "outputs": [
        {
          "output_type": "execute_result",
          "data": {
            "text/plain": [
              "torch.Size([4, 2, 28, 28])"
            ]
          },
          "metadata": {
            "tags": []
          },
          "execution_count": 19
        }
      ]
    },
    {
      "cell_type": "code",
      "metadata": {
        "id": "hRw6fVP9Fqe5",
        "colab_type": "code",
        "outputId": "49b377d2-260b-4dd6-97e8-69a833a0e2a7",
        "colab": {
          "base_uri": "https://localhost:8080/",
          "height": 33
        }
      },
      "source": [
        "a.index_select(2,torch.arange(8)).shape #arange是0-7等差数列"
      ],
      "execution_count": 0,
      "outputs": [
        {
          "output_type": "execute_result",
          "data": {
            "text/plain": [
              "torch.Size([4, 3, 8, 28])"
            ]
          },
          "metadata": {
            "tags": []
          },
          "execution_count": 23
        }
      ]
    },
    {
      "cell_type": "markdown",
      "metadata": {
        "id": "82SQkumhHZiX",
        "colab_type": "text"
      },
      "source": [
        "### 任意维度\n",
        "... 指所有维度"
      ]
    },
    {
      "cell_type": "code",
      "metadata": {
        "id": "hP-MM7LVF2S0",
        "colab_type": "code",
        "outputId": "2e6cb07d-f2b6-45b7-c320-44f975c5ac34",
        "colab": {
          "base_uri": "https://localhost:8080/",
          "height": 33
        }
      },
      "source": [
        "a[...].shape"
      ],
      "execution_count": 0,
      "outputs": [
        {
          "output_type": "execute_result",
          "data": {
            "text/plain": [
              "torch.Size([4, 3, 28, 28])"
            ]
          },
          "metadata": {
            "tags": []
          },
          "execution_count": 24
        }
      ]
    },
    {
      "cell_type": "code",
      "metadata": {
        "id": "zQ_IGKovKI_w",
        "colab_type": "code",
        "outputId": "0c2fa9a0-f691-4baa-d8f2-6939b913c979",
        "colab": {
          "base_uri": "https://localhost:8080/",
          "height": 33
        }
      },
      "source": [
        "a[0,...].shape"
      ],
      "execution_count": 0,
      "outputs": [
        {
          "output_type": "execute_result",
          "data": {
            "text/plain": [
              "torch.Size([3, 28, 28])"
            ]
          },
          "metadata": {
            "tags": []
          },
          "execution_count": 25
        }
      ]
    },
    {
      "cell_type": "code",
      "metadata": {
        "id": "hu76X0rVKL68",
        "colab_type": "code",
        "outputId": "a0502e3c-aaff-4b52-8ba9-169e5e633b22",
        "colab": {
          "base_uri": "https://localhost:8080/",
          "height": 33
        }
      },
      "source": [
        "a[:,1,...].shape"
      ],
      "execution_count": 0,
      "outputs": [
        {
          "output_type": "execute_result",
          "data": {
            "text/plain": [
              "torch.Size([4, 28, 28])"
            ]
          },
          "metadata": {
            "tags": []
          },
          "execution_count": 26
        }
      ]
    },
    {
      "cell_type": "code",
      "metadata": {
        "id": "0wkscp2AKQI4",
        "colab_type": "code",
        "outputId": "aa1488f2-0142-4817-c2ff-df16e8b93237",
        "colab": {
          "base_uri": "https://localhost:8080/",
          "height": 33
        }
      },
      "source": [
        "a[...,:3].shape #取第3维度的前3个"
      ],
      "execution_count": 0,
      "outputs": [
        {
          "output_type": "execute_result",
          "data": {
            "text/plain": [
              "torch.Size([4, 3, 28, 3])"
            ]
          },
          "metadata": {
            "tags": []
          },
          "execution_count": 27
        }
      ]
    },
    {
      "cell_type": "markdown",
      "metadata": {
        "id": "q583nqi6LURd",
        "colab_type": "text"
      },
      "source": [
        "### mask掩码索引\n",
        "\n",
        "缺点是数据会默认打平，打平是因为大于0.5的元素个数是根据内容才能确定的"
      ]
    },
    {
      "cell_type": "code",
      "metadata": {
        "id": "zWmC9vyIK_rz",
        "colab_type": "code",
        "outputId": "704cdb6b-67ad-4acf-bc6c-21bef09ed3c7",
        "colab": {
          "base_uri": "https://localhost:8080/",
          "height": 67
        }
      },
      "source": [
        "x=torch.randn(3,4)\n",
        "x"
      ],
      "execution_count": 0,
      "outputs": [
        {
          "output_type": "execute_result",
          "data": {
            "text/plain": [
              "tensor([[-0.7588,  0.0759,  0.6084,  1.6877],\n",
              "        [-1.3070,  1.1828, -1.0166,  0.4488],\n",
              "        [ 0.8180,  0.2789,  1.3226, -2.7183]])"
            ]
          },
          "metadata": {
            "tags": []
          },
          "execution_count": 29
        }
      ]
    },
    {
      "cell_type": "code",
      "metadata": {
        "id": "Ywd3IwHiLgrx",
        "colab_type": "code",
        "outputId": "724dec36-b8b8-4c92-ed56-883c6078cd3d",
        "colab": {
          "base_uri": "https://localhost:8080/",
          "height": 67
        }
      },
      "source": [
        "mask=x.ge(0.5) #ge：大于等于0.5的元素置为1，把这个矩阵作为mask\n",
        "mask"
      ],
      "execution_count": 0,
      "outputs": [
        {
          "output_type": "execute_result",
          "data": {
            "text/plain": [
              "tensor([[0, 0, 1, 1],\n",
              "        [0, 1, 0, 0],\n",
              "        [1, 0, 1, 0]], dtype=torch.uint8)"
            ]
          },
          "metadata": {
            "tags": []
          },
          "execution_count": 32
        }
      ]
    },
    {
      "cell_type": "code",
      "metadata": {
        "id": "U_KeO8K9LoTI",
        "colab_type": "code",
        "outputId": "1bd6c0bc-e5ab-4fca-f5a1-8966724e60bb",
        "colab": {
          "base_uri": "https://localhost:8080/",
          "height": 33
        }
      },
      "source": [
        "torch.masked_select(x,mask) #打平为[1,12]，在里面取出与mask中1的位置对应的元素"
      ],
      "execution_count": 0,
      "outputs": [
        {
          "output_type": "execute_result",
          "data": {
            "text/plain": [
              "tensor([0.6084, 1.6877, 1.1828, 0.8180, 1.3226])"
            ]
          },
          "metadata": {
            "tags": []
          },
          "execution_count": 33
        }
      ]
    },
    {
      "cell_type": "code",
      "metadata": {
        "id": "OzSwvYYwMNqR",
        "colab_type": "code",
        "outputId": "12539e4e-b334-467a-afd6-d4ebc86ea341",
        "colab": {
          "base_uri": "https://localhost:8080/",
          "height": 33
        }
      },
      "source": [
        "torch.masked_select(x,mask).shape"
      ],
      "execution_count": 0,
      "outputs": [
        {
          "output_type": "execute_result",
          "data": {
            "text/plain": [
              "torch.Size([5])"
            ]
          },
          "metadata": {
            "tags": []
          },
          "execution_count": 35
        }
      ]
    },
    {
      "cell_type": "markdown",
      "metadata": {
        "id": "d7I_bCQyNIhS",
        "colab_type": "text"
      },
      "source": [
        "### 选择打平的索引\n",
        "\n"
      ]
    },
    {
      "cell_type": "code",
      "metadata": {
        "id": "gYFDT9yLM5fk",
        "colab_type": "code",
        "outputId": "d9ecf218-f084-4319-86ea-2bf902f24d9c",
        "colab": {
          "base_uri": "https://localhost:8080/",
          "height": 50
        }
      },
      "source": [
        "src=torch.tensor([[4,3,5],[6,7,8]])\n",
        "src"
      ],
      "execution_count": 0,
      "outputs": [
        {
          "output_type": "execute_result",
          "data": {
            "text/plain": [
              "tensor([[4, 3, 5],\n",
              "        [6, 7, 8]])"
            ]
          },
          "metadata": {
            "tags": []
          },
          "execution_count": 39
        }
      ]
    },
    {
      "cell_type": "code",
      "metadata": {
        "id": "AHp9XsbqNha7",
        "colab_type": "code",
        "outputId": "72526942-09e1-4515-afc2-b7c93adf0d6b",
        "colab": {
          "base_uri": "https://localhost:8080/",
          "height": 33
        }
      },
      "source": [
        "torch.take(src,torch.tensor([0,2,5])) #选择打平[2,3]->[1,6]后的索引"
      ],
      "execution_count": 0,
      "outputs": [
        {
          "output_type": "execute_result",
          "data": {
            "text/plain": [
              "tensor([4, 5, 8])"
            ]
          },
          "metadata": {
            "tags": []
          },
          "execution_count": 38
        }
      ]
    }
  ]
}