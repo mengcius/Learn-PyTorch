{
  "nbformat": 4,
  "nbformat_minor": 0,
  "metadata": {
    "colab": {
      "name": "1.张量数据类型.ipynb",
      "version": "0.3.2",
      "provenance": [],
      "collapsed_sections": [],
      "include_colab_link": true
    },
    "kernelspec": {
      "name": "python3",
      "display_name": "Python 3"
    },
    "accelerator": "GPU"
  },
  "cells": [
    {
      "cell_type": "markdown",
      "metadata": {
        "id": "view-in-github",
        "colab_type": "text"
      },
      "source": [
        "<a href=\"https://colab.research.google.com/github/mengcius/pytorch-learn/blob/master/1_%E5%BC%A0%E9%87%8F%E6%95%B0%E6%8D%AE%E7%B1%BB%E5%9E%8B.ipynb\" target=\"_parent\"><img src=\"https://colab.research.google.com/assets/colab-badge.svg\" alt=\"Open In Colab\"/></a>"
      ]
    },
    {
      "cell_type": "markdown",
      "metadata": {
        "id": "NvMSiPx2jCxh",
        "colab_type": "text"
      },
      "source": [
        "### 1.PyTorch张量数据类型"
      ]
    },
    {
      "cell_type": "code",
      "metadata": {
        "id": "twusrNfgf1Mr",
        "colab_type": "code",
        "outputId": "1cf1d5ba-e49e-48e3-8358-b34c25892d18",
        "colab": {
          "base_uri": "https://localhost:8080/",
          "height": 50
        }
      },
      "source": [
        "import torch\n",
        "import numpy as np\n",
        "print(torch.__version__)\n",
        "print('gpu:', torch.cuda.is_available())"
      ],
      "execution_count": 0,
      "outputs": [
        {
          "output_type": "stream",
          "text": [
            "1.1.0\n",
            "gpu: True\n"
          ],
          "name": "stdout"
        }
      ]
    },
    {
      "cell_type": "markdown",
      "metadata": {
        "id": "xxoEEsv9jMK4",
        "colab_type": "text"
      },
      "source": [
        "### 数据类型推断"
      ]
    },
    {
      "cell_type": "code",
      "metadata": {
        "id": "vBq2PLeugMQS",
        "colab_type": "code",
        "outputId": "209ba5aa-3bc7-41a6-a823-707ca3a53527",
        "colab": {
          "base_uri": "https://localhost:8080/",
          "height": 100
        }
      },
      "source": [
        "a = torch.randn(2,3) # randn是随机正态分布初始化，(2,3)两维的矩阵\n",
        "print(a)\n",
        "\n",
        "print(a.type()) # 打印类型，返回string\n",
        "print(isinstance(a,torch.FloatTensor)) # 类型判断，合法化检验\n",
        "type(a) # torch自带的，返回基本数据类型，不常用"
      ],
      "execution_count": 0,
      "outputs": [
        {
          "output_type": "stream",
          "text": [
            "tensor([[-0.4501, -0.7879,  0.1924],\n",
            "        [ 0.0773,  0.4953,  0.0527]])\n",
            "torch.FloatTensor\n",
            "True\n"
          ],
          "name": "stdout"
        },
        {
          "output_type": "execute_result",
          "data": {
            "text/plain": [
              "torch.Tensor"
            ]
          },
          "metadata": {
            "tags": []
          },
          "execution_count": 43
        }
      ]
    },
    {
      "cell_type": "markdown",
      "metadata": {
        "id": "mnofP0Q2jt7P",
        "colab_type": "text"
      },
      "source": [
        "### 转为GPU类型\n",
        "GPU类型与CPU类型不一样，数值一样但放的位置不一样，则类型不一样"
      ]
    },
    {
      "cell_type": "code",
      "metadata": {
        "id": "P-19vWxJgjAH",
        "colab_type": "code",
        "outputId": "18a520ef-0ac2-48fb-c862-1415fa38641f",
        "colab": {
          "base_uri": "https://localhost:8080/",
          "height": 67
        }
      },
      "source": [
        "print(isinstance(a,torch.cuda.FloatTensor))\n",
        "\n",
        "a=a.cuda() # 法1：转为GPU类型，返回一个gpu上的引用\n",
        "print(isinstance(a,torch.cuda.FloatTensor))\n",
        "\n",
        "device = torch.device('cuda')\n",
        "a = a.to(device) # 法2：转为GPU类型\n",
        "print(isinstance(a,torch.cuda.FloatTensor))"
      ],
      "execution_count": 0,
      "outputs": [
        {
          "output_type": "stream",
          "text": [
            "True\n",
            "True\n",
            "True\n"
          ],
          "name": "stdout"
        }
      ]
    },
    {
      "cell_type": "markdown",
      "metadata": {
        "id": "co4U1BxWp-sC",
        "colab_type": "text"
      },
      "source": [
        "### 形状和维数推断\n",
        "Dim维数：指Size的长度，看有行列吗，如[*,#]就是2，标量是0\n",
        "\n",
        "Size/shape：指Tensor形状，看有几行几列，如[2,3]，torch.Size([2, 3])\n",
        "\n",
        "Tensor：指整个具体数值，如tensor([1.1000, 2.2000])"
      ]
    },
    {
      "cell_type": "code",
      "metadata": {
        "id": "uiiAtOfroaF1",
        "colab_type": "code",
        "outputId": "897ea14c-6a26-4f6c-f485-ece69c7a34ff",
        "colab": {
          "base_uri": "https://localhost:8080/",
          "height": 33
        }
      },
      "source": [
        "b=torch.tensor(2.2) # 0维\n",
        "b.shape # 形状，shape，size"
      ],
      "execution_count": 0,
      "outputs": [
        {
          "output_type": "execute_result",
          "data": {
            "text/plain": [
              "torch.Size([])"
            ]
          },
          "metadata": {
            "tags": []
          },
          "execution_count": 6
        }
      ]
    },
    {
      "cell_type": "code",
      "metadata": {
        "id": "5NjHaJIFozal",
        "colab_type": "code",
        "outputId": "53f95fef-1b54-430f-8f02-3509501813f3",
        "colab": {
          "base_uri": "https://localhost:8080/",
          "height": 33
        }
      },
      "source": [
        "len(b.shape) # 维数，shape是成员"
      ],
      "execution_count": 0,
      "outputs": [
        {
          "output_type": "execute_result",
          "data": {
            "text/plain": [
              "0"
            ]
          },
          "metadata": {
            "tags": []
          },
          "execution_count": 15
        }
      ]
    },
    {
      "cell_type": "code",
      "metadata": {
        "id": "nMF-zU4DpPs3",
        "colab_type": "code",
        "outputId": "ca6878b2-82a7-48cd-e744-0428c769f902",
        "colab": {
          "base_uri": "https://localhost:8080/",
          "height": 33
        }
      },
      "source": [
        "a=torch.randn(2,3)\n",
        "a.size() # 形状，size()是成员函数，有括号调用它"
      ],
      "execution_count": 0,
      "outputs": [
        {
          "output_type": "execute_result",
          "data": {
            "text/plain": [
              "torch.Size([2, 3])"
            ]
          },
          "metadata": {
            "tags": []
          },
          "execution_count": 22
        }
      ]
    },
    {
      "cell_type": "code",
      "metadata": {
        "id": "AARsuSi-N9N7",
        "colab_type": "code",
        "outputId": "b3b9aa66-57f9-442c-80cc-de9767a5ef72",
        "colab": {
          "base_uri": "https://localhost:8080/",
          "height": 33
        }
      },
      "source": [
        "a.shape "
      ],
      "execution_count": 0,
      "outputs": [
        {
          "output_type": "execute_result",
          "data": {
            "text/plain": [
              "torch.Size([2, 3])"
            ]
          },
          "metadata": {
            "tags": []
          },
          "execution_count": 24
        }
      ]
    },
    {
      "cell_type": "code",
      "metadata": {
        "id": "Ey5vYv7OGWg4",
        "colab_type": "code",
        "outputId": "017660f5-965c-455d-8ddd-eb1019990a1b",
        "colab": {
          "base_uri": "https://localhost:8080/",
          "height": 33
        }
      },
      "source": [
        "len(a.shape) # 维数"
      ],
      "execution_count": 0,
      "outputs": [
        {
          "output_type": "execute_result",
          "data": {
            "text/plain": [
              "2"
            ]
          },
          "metadata": {
            "tags": []
          },
          "execution_count": 9
        }
      ]
    },
    {
      "cell_type": "markdown",
      "metadata": {
        "id": "B3oZGxKin8Fk",
        "colab_type": "text"
      },
      "source": [
        "### 标量（0 维）\n",
        "Dimension 0 / rank 0，直接输入数值。没有[ ]"
      ]
    },
    {
      "cell_type": "code",
      "metadata": {
        "id": "mDJRybBVkB42",
        "colab_type": "code",
        "outputId": "e1103fcf-d357-45a2-8d04-5df6723c1f75",
        "colab": {
          "base_uri": "https://localhost:8080/",
          "height": 50
        }
      },
      "source": [
        "a=torch.tensor(1) # 不加点.就是int64的long型，加.就是float32型\n",
        "print(a)\n",
        "print(a.type())"
      ],
      "execution_count": 0,
      "outputs": [
        {
          "output_type": "stream",
          "text": [
            "tensor(1)\n",
            "torch.LongTensor\n"
          ],
          "name": "stdout"
        }
      ]
    },
    {
      "cell_type": "code",
      "metadata": {
        "id": "r3Cp38WKoUYs",
        "colab_type": "code",
        "outputId": "6b7cf135-d6c5-4270-af20-c9d2573be80c",
        "colab": {
          "base_uri": "https://localhost:8080/",
          "height": 33
        }
      },
      "source": [
        "torch.tensor(1.3)"
      ],
      "execution_count": 0,
      "outputs": [
        {
          "output_type": "execute_result",
          "data": {
            "text/plain": [
              "tensor(1.3000)"
            ]
          },
          "metadata": {
            "tags": []
          },
          "execution_count": 5
        }
      ]
    },
    {
      "cell_type": "markdown",
      "metadata": {
        "id": "6Ujo_5sOqcF8",
        "colab_type": "text"
      },
      "source": [
        "### 1 维\n",
        "Dim 1 / rank 1，数学里叫向量，pytorch里不管几维都是Tensor。引入维数要加[ ]。\n",
        "\n",
        "1维的数一般用在偏置bias；神经网络线性层需要将一张图片展平来作为输入；pytorch0.3版的loss返回为1维[]，而新版就改为了标量。\n",
        "\n",
        ".tensor()接受的是数据的内容；.FloatTensor()接受的是数据的shape维数，初始化就用randn。"
      ]
    },
    {
      "cell_type": "code",
      "metadata": {
        "id": "nEBc44hmpa5r",
        "colab_type": "code",
        "outputId": "819879e5-c917-4e58-d004-acb06ebdb0d3",
        "colab": {
          "base_uri": "https://localhost:8080/",
          "height": 33
        }
      },
      "source": [
        "torch.tensor([1.1]) # 长度为1的向量也是向量，虽然它也可以表达标量，但为了概念混乱还是要和标量区分开"
      ],
      "execution_count": 0,
      "outputs": [
        {
          "output_type": "execute_result",
          "data": {
            "text/plain": [
              "tensor([1.1000])"
            ]
          },
          "metadata": {
            "tags": []
          },
          "execution_count": 10
        }
      ]
    },
    {
      "cell_type": "code",
      "metadata": {
        "id": "hKlRxEnBshhO",
        "colab_type": "code",
        "outputId": "da22443a-73af-4ebe-c7b7-84fd98e62daa",
        "colab": {
          "base_uri": "https://localhost:8080/",
          "height": 33
        }
      },
      "source": [
        "torch.tensor([1.1,2.2]) # 长度为2的向量"
      ],
      "execution_count": 0,
      "outputs": [
        {
          "output_type": "execute_result",
          "data": {
            "text/plain": [
              "tensor([1.1000, 2.2000])"
            ]
          },
          "metadata": {
            "tags": []
          },
          "execution_count": 11
        }
      ]
    },
    {
      "cell_type": "code",
      "metadata": {
        "id": "yzBK2UF8smzX",
        "colab_type": "code",
        "outputId": "e878eceb-9587-44f5-e238-458e40096cd1",
        "colab": {
          "base_uri": "https://localhost:8080/",
          "height": 33
        }
      },
      "source": [
        "torch.FloatTensor(2) # 长度为2的向量"
      ],
      "execution_count": 0,
      "outputs": [
        {
          "output_type": "execute_result",
          "data": {
            "text/plain": [
              "tensor([4.1556e+12, 0.0000e+00])"
            ]
          },
          "metadata": {
            "tags": []
          },
          "execution_count": 12
        }
      ]
    },
    {
      "cell_type": "markdown",
      "metadata": {
        "id": "cBd8NLpZtCM5",
        "colab_type": "text"
      },
      "source": [
        "从numpy引入数据"
      ]
    },
    {
      "cell_type": "code",
      "metadata": {
        "id": "GaLGaoo_s7sR",
        "colab_type": "code",
        "outputId": "3791c92d-a1ce-405e-9fb3-83d22c316c29",
        "colab": {
          "base_uri": "https://localhost:8080/",
          "height": 50
        }
      },
      "source": [
        "data=np.ones(2) # 长度为2的向量\n",
        "print(data)\n",
        "data"
      ],
      "execution_count": 0,
      "outputs": [
        {
          "output_type": "stream",
          "text": [
            "[1. 1.]\n"
          ],
          "name": "stdout"
        },
        {
          "output_type": "execute_result",
          "data": {
            "text/plain": [
              "array([1., 1.])"
            ]
          },
          "metadata": {
            "tags": []
          },
          "execution_count": 13
        }
      ]
    },
    {
      "cell_type": "markdown",
      "metadata": {
        "id": "7x6a6qlvvqlN",
        "colab_type": "text"
      },
      "source": [
        "numpy转为torch"
      ]
    },
    {
      "cell_type": "code",
      "metadata": {
        "id": "3HB6RDyatVO-",
        "colab_type": "code",
        "outputId": "bdc683e5-4c3f-4d06-ca8c-e81c7a24434f",
        "colab": {
          "base_uri": "https://localhost:8080/",
          "height": 33
        }
      },
      "source": [
        "torch.from_numpy(data) # numpy转为torch"
      ],
      "execution_count": 0,
      "outputs": [
        {
          "output_type": "execute_result",
          "data": {
            "text/plain": [
              "tensor([1., 1.], dtype=torch.float64)"
            ]
          },
          "metadata": {
            "tags": []
          },
          "execution_count": 14
        }
      ]
    },
    {
      "cell_type": "code",
      "metadata": {
        "id": "bYxsk2lVvpI4",
        "colab_type": "code",
        "outputId": "f51bdc68-a460-403f-daad-ef7b9974636b",
        "colab": {
          "base_uri": "https://localhost:8080/",
          "height": 33
        }
      },
      "source": [
        "data.shape"
      ],
      "execution_count": 0,
      "outputs": [
        {
          "output_type": "execute_result",
          "data": {
            "text/plain": [
              "(2,)"
            ]
          },
          "metadata": {
            "tags": []
          },
          "execution_count": 15
        }
      ]
    },
    {
      "cell_type": "code",
      "metadata": {
        "id": "dKWZ2aKAzztO",
        "colab_type": "code",
        "outputId": "63869f4f-88f0-4371-f893-d5a8c1f784f9",
        "colab": {
          "base_uri": "https://localhost:8080/",
          "height": 33
        }
      },
      "source": [
        "len(data.shape)"
      ],
      "execution_count": 0,
      "outputs": [
        {
          "output_type": "execute_result",
          "data": {
            "text/plain": [
              "1"
            ]
          },
          "metadata": {
            "tags": []
          },
          "execution_count": 16
        }
      ]
    },
    {
      "cell_type": "markdown",
      "metadata": {
        "id": "W2KPziF20oau",
        "colab_type": "text"
      },
      "source": [
        "\n",
        "### 2 维\n",
        "如网络的输入图像矩阵[batch,718]"
      ]
    },
    {
      "cell_type": "code",
      "metadata": {
        "id": "IHhuAvGu0B5q",
        "colab_type": "code",
        "outputId": "aa9295de-f50f-40b4-c992-a4a875952993",
        "colab": {
          "base_uri": "https://localhost:8080/",
          "height": 50
        }
      },
      "source": [
        "a=torch.randn(2,3) # 随机正态分布\n",
        "a"
      ],
      "execution_count": 0,
      "outputs": [
        {
          "output_type": "execute_result",
          "data": {
            "text/plain": [
              "tensor([[-0.5858, -0.8323, -0.6999],\n",
              "        [ 2.1577,  1.4279,  0.1812]])"
            ]
          },
          "metadata": {
            "tags": []
          },
          "execution_count": 25
        }
      ]
    },
    {
      "cell_type": "code",
      "metadata": {
        "id": "x8samEH1ORUA",
        "colab_type": "code",
        "outputId": "9ed9b7da-4503-42ec-c8a3-cc5065c509c2",
        "colab": {
          "base_uri": "https://localhost:8080/",
          "height": 33
        }
      },
      "source": [
        "a.size()"
      ],
      "execution_count": 0,
      "outputs": [
        {
          "output_type": "execute_result",
          "data": {
            "text/plain": [
              "torch.Size([2, 3])"
            ]
          },
          "metadata": {
            "tags": []
          },
          "execution_count": 26
        }
      ]
    },
    {
      "cell_type": "code",
      "metadata": {
        "id": "ckiH7jGJM9u_",
        "colab_type": "code",
        "outputId": "1d6e7e3d-49a5-40a5-e892-f7814f978b07",
        "colab": {
          "base_uri": "https://localhost:8080/",
          "height": 33
        }
      },
      "source": [
        "a.shape"
      ],
      "execution_count": 0,
      "outputs": [
        {
          "output_type": "execute_result",
          "data": {
            "text/plain": [
              "torch.Size([2, 3])"
            ]
          },
          "metadata": {
            "tags": []
          },
          "execution_count": 19
        }
      ]
    },
    {
      "cell_type": "code",
      "metadata": {
        "id": "IEeVHxHANU8d",
        "colab_type": "code",
        "outputId": "9c4424ae-1f4c-4294-8f41-377d06a25e4e",
        "colab": {
          "base_uri": "https://localhost:8080/",
          "height": 84
        }
      },
      "source": [
        "print(a.size(0))\n",
        "print(a.size(1))\n",
        "print(a.shape[0])\n",
        "print(a.shape[1])"
      ],
      "execution_count": 0,
      "outputs": [
        {
          "output_type": "stream",
          "text": [
            "2\n",
            "3\n",
            "2\n",
            "3\n"
          ],
          "name": "stdout"
        }
      ]
    },
    {
      "cell_type": "markdown",
      "metadata": {
        "id": "nNMHcXuEPo7h",
        "colab_type": "text"
      },
      "source": [
        "### 3 维\n",
        "适合RNN的文字输入 [10,20,100]：10个单词、20个句子、每单词100个特征"
      ]
    },
    {
      "cell_type": "code",
      "metadata": {
        "id": "nMlMZZaANhtv",
        "colab_type": "code",
        "outputId": "10b76d41-7c5e-45da-ef12-bd14dcdb2d22",
        "colab": {
          "base_uri": "https://localhost:8080/",
          "height": 50
        }
      },
      "source": [
        "a=torch.randn(1,2,3) # 随机均匀分布，0-1间\n",
        "a # 第一个维度为1，所以最外面的中括号里有一个元素"
      ],
      "execution_count": 0,
      "outputs": [
        {
          "output_type": "execute_result",
          "data": {
            "text/plain": [
              "tensor([[[-0.2602, -0.9290, -1.7684],\n",
              "         [ 1.5547, -1.6179, -1.0734]]])"
            ]
          },
          "metadata": {
            "tags": []
          },
          "execution_count": 27
        }
      ]
    },
    {
      "cell_type": "code",
      "metadata": {
        "id": "7oGF44NCP04H",
        "colab_type": "code",
        "outputId": "43224899-6dc8-493b-9bd0-2d4e9d4d21aa",
        "colab": {
          "base_uri": "https://localhost:8080/",
          "height": 33
        }
      },
      "source": [
        "a.size()"
      ],
      "execution_count": 0,
      "outputs": [
        {
          "output_type": "execute_result",
          "data": {
            "text/plain": [
              "torch.Size([1, 2, 3])"
            ]
          },
          "metadata": {
            "tags": []
          },
          "execution_count": 28
        }
      ]
    },
    {
      "cell_type": "code",
      "metadata": {
        "id": "faq3Go_iS_ix",
        "colab_type": "code",
        "outputId": "6a2eade6-9729-40a5-d9b8-739f7e6bb3e9",
        "colab": {
          "base_uri": "https://localhost:8080/",
          "height": 50
        }
      },
      "source": [
        "a[0]"
      ],
      "execution_count": 0,
      "outputs": [
        {
          "output_type": "execute_result",
          "data": {
            "text/plain": [
              "tensor([[-0.2602, -0.9290, -1.7684],\n",
              "        [ 1.5547, -1.6179, -1.0734]])"
            ]
          },
          "metadata": {
            "tags": []
          },
          "execution_count": 31
        }
      ]
    },
    {
      "cell_type": "code",
      "metadata": {
        "id": "Eme-OPrjTD7w",
        "colab_type": "code",
        "outputId": "63001a9f-4b84-4327-a872-9c49c0e8b94e",
        "colab": {
          "base_uri": "https://localhost:8080/",
          "height": 33
        }
      },
      "source": [
        "list(a.shape) #把shape返回的类型torch.Size直接转为list"
      ],
      "execution_count": 0,
      "outputs": [
        {
          "output_type": "execute_result",
          "data": {
            "text/plain": [
              "[1, 2, 3]"
            ]
          },
          "metadata": {
            "tags": []
          },
          "execution_count": 32
        }
      ]
    },
    {
      "cell_type": "markdown",
      "metadata": {
        "id": "yDZl24FzsH6i",
        "colab_type": "text"
      },
      "source": [
        "### 4 维\n",
        "适合CNN里彩色图片的输入，[batch,c,h,w]"
      ]
    },
    {
      "cell_type": "code",
      "metadata": {
        "id": "ab-W-ov_Tfdd",
        "colab_type": "code",
        "outputId": "4e11de99-db11-49de-fc18-791e294b49a8",
        "colab": {
          "base_uri": "https://localhost:8080/",
          "height": 301
        }
      },
      "source": [
        "a=torch.randn(1,3,5,5)\n",
        "a"
      ],
      "execution_count": 0,
      "outputs": [
        {
          "output_type": "execute_result",
          "data": {
            "text/plain": [
              "tensor([[[[ 1.4470, -0.6711,  0.1644, -0.4992,  0.6585],\n",
              "          [ 0.5644, -1.0187,  2.1814,  1.2801,  0.5476],\n",
              "          [-0.6059, -0.9888,  0.1079, -0.6363, -0.4275],\n",
              "          [-0.3597,  0.1857, -0.1193, -0.2643,  0.0285],\n",
              "          [ 0.0800,  1.3303, -0.7817, -1.5925,  0.0633]],\n",
              "\n",
              "         [[ 3.2000, -0.6776, -0.7467, -1.6329, -0.9923],\n",
              "          [-0.0510, -0.1238,  0.7909,  0.1247, -0.5297],\n",
              "          [-1.1373, -1.1427,  0.1506, -1.2995, -0.1222],\n",
              "          [ 0.2495,  1.8472,  0.0956,  0.1645,  0.1028],\n",
              "          [ 0.7881,  1.0822, -0.4555, -0.9690, -0.8317]],\n",
              "\n",
              "         [[-0.3532, -0.4538,  1.3515,  1.5554, -0.2043],\n",
              "          [ 2.3563, -0.0954,  0.3800, -1.4728,  0.1570],\n",
              "          [ 0.3729, -1.2788,  0.2015,  2.6024, -0.6739],\n",
              "          [-0.8144,  0.2691, -1.1654, -1.7682,  1.1866],\n",
              "          [-1.0817,  1.0890,  2.2866, -0.7912, -1.6249]]]])"
            ]
          },
          "metadata": {
            "tags": []
          },
          "execution_count": 37
        }
      ]
    },
    {
      "cell_type": "code",
      "metadata": {
        "id": "UXTm-yj2sTen",
        "colab_type": "code",
        "outputId": "b2b57f8a-17b2-4acb-cf31-ea22f14e3f75",
        "colab": {
          "base_uri": "https://localhost:8080/",
          "height": 33
        }
      },
      "source": [
        "a.numel() #numel，大小，指tensor占用内存的数量，就是所有元素的数量"
      ],
      "execution_count": 0,
      "outputs": [
        {
          "output_type": "execute_result",
          "data": {
            "text/plain": [
              "75"
            ]
          },
          "metadata": {
            "tags": []
          },
          "execution_count": 39
        }
      ]
    },
    {
      "cell_type": "code",
      "metadata": {
        "id": "ayycRzB0tPFs",
        "colab_type": "code",
        "outputId": "8a8289fc-5ac2-4139-a6e6-07afa3c6fbb2",
        "colab": {
          "base_uri": "https://localhost:8080/",
          "height": 33
        }
      },
      "source": [
        "a.dim() #维数，更直观"
      ],
      "execution_count": 0,
      "outputs": [
        {
          "output_type": "execute_result",
          "data": {
            "text/plain": [
              "4"
            ]
          },
          "metadata": {
            "tags": []
          },
          "execution_count": 41
        }
      ]
    },
    {
      "cell_type": "code",
      "metadata": {
        "id": "1NugaAMGuEjy",
        "colab_type": "code",
        "outputId": "2506ad80-4f0b-43b7-beb6-1f2e56cf500d",
        "colab": {
          "base_uri": "https://localhost:8080/",
          "height": 33
        }
      },
      "source": [
        "len(a.shape)"
      ],
      "execution_count": 0,
      "outputs": [
        {
          "output_type": "execute_result",
          "data": {
            "text/plain": [
              "4"
            ]
          },
          "metadata": {
            "tags": []
          },
          "execution_count": 42
        }
      ]
    }
  ]
}