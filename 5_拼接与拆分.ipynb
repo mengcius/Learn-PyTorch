{
  "nbformat": 4,
  "nbformat_minor": 0,
  "metadata": {
    "colab": {
      "name": "5.拼接与拆分.ipynb",
      "version": "0.3.2",
      "provenance": [],
      "collapsed_sections": [],
      "include_colab_link": true
    },
    "kernelspec": {
      "name": "python3",
      "display_name": "Python 3"
    }
  },
  "cells": [
    {
      "cell_type": "markdown",
      "metadata": {
        "id": "view-in-github",
        "colab_type": "text"
      },
      "source": [
        "<a href=\"https://colab.research.google.com/github/mengcius/pytorch-learn/blob/master/5_%E6%8B%BC%E6%8E%A5%E4%B8%8E%E6%8B%86%E5%88%86.ipynb\" target=\"_parent\"><img src=\"https://colab.research.google.com/assets/colab-badge.svg\" alt=\"Open In Colab\"/></a>"
      ]
    },
    {
      "cell_type": "markdown",
      "metadata": {
        "id": "wRSW4TXZx-yT",
        "colab_type": "text"
      },
      "source": [
        "## 5.拼接与拆分"
      ]
    },
    {
      "cell_type": "markdown",
      "metadata": {
        "id": "biOqDjNEyS_r",
        "colab_type": "text"
      },
      "source": [
        "### cat 拼接\n",
        "\n",
        "合并两个tensor，只能在都一个维度上拼接，除了要合并的那维其他维度上的shape要一样。"
      ]
    },
    {
      "cell_type": "code",
      "metadata": {
        "id": "rh5bmJ7myZwg",
        "colab_type": "code",
        "colab": {}
      },
      "source": [
        "import torch"
      ],
      "execution_count": 0,
      "outputs": []
    },
    {
      "cell_type": "code",
      "metadata": {
        "id": "WqtzqAnUx9V-",
        "colab_type": "code",
        "colab": {}
      },
      "source": [
        "a=torch.rand(4,32,8) #只有要合并那一个维度不一样\n",
        "b=torch.rand(5,32,8)"
      ],
      "execution_count": 0,
      "outputs": []
    },
    {
      "cell_type": "code",
      "metadata": {
        "id": "FtGWRQduykl3",
        "colab_type": "code",
        "colab": {
          "base_uri": "https://localhost:8080/",
          "height": 33
        },
        "outputId": "0134507d-5161-44f4-be9d-3419a6ab3cdc"
      },
      "source": [
        "torch.cat([a,b],dim=0).shape #dim=决定在哪个维度上合并拼接"
      ],
      "execution_count": 9,
      "outputs": [
        {
          "output_type": "execute_result",
          "data": {
            "text/plain": [
              "torch.Size([9, 32, 8])"
            ]
          },
          "metadata": {
            "tags": []
          },
          "execution_count": 9
        }
      ]
    },
    {
      "cell_type": "markdown",
      "metadata": {
        "id": "SbC2Cckh05wb",
        "colab_type": "text"
      },
      "source": [
        "### stack 增加维度来拼接\n",
        "\n",
        "创建一个新的维度来集合两个tensor，其他维度不变，两个的维度要完全一样。\n",
        "\n",
        "适合加一个维度来区分开两个tensor内容的情况。"
      ]
    },
    {
      "cell_type": "code",
      "metadata": {
        "id": "9zFtLacA05bC",
        "colab_type": "code",
        "colab": {}
      },
      "source": [
        "a=torch.rand(4,3,16,32) #维度都一样\n",
        "b=torch.rand(4,3,16,32)"
      ],
      "execution_count": 0,
      "outputs": []
    },
    {
      "cell_type": "code",
      "metadata": {
        "id": "UB2zBLSXzCUx",
        "colab_type": "code",
        "colab": {
          "base_uri": "https://localhost:8080/",
          "height": 33
        },
        "outputId": "a537174f-7d5d-402a-b7fd-347f6a2d6555"
      },
      "source": [
        "torch.stack([a,b],dim=2).shape #新加了一个维度，size为2，代表为0时是a的16，为1时是b的16"
      ],
      "execution_count": 17,
      "outputs": [
        {
          "output_type": "execute_result",
          "data": {
            "text/plain": [
              "torch.Size([4, 3, 2, 16, 32])"
            ]
          },
          "metadata": {
            "tags": []
          },
          "execution_count": 17
        }
      ]
    },
    {
      "cell_type": "markdown",
      "metadata": {
        "id": "AUFv1qFw6BCI",
        "colab_type": "text"
      },
      "source": [
        "### split 按长度拆分\n",
        "将一个维度下的size拆分"
      ]
    },
    {
      "cell_type": "code",
      "metadata": {
        "id": "m5sEEE8-2wWt",
        "colab_type": "code",
        "colab": {
          "base_uri": "https://localhost:8080/",
          "height": 33
        },
        "outputId": "2defd8b7-1943-4547-f21f-f3b8e43caf60"
      },
      "source": [
        "a=torch.rand(4,3,16,32)\n",
        "b=torch.rand(4,3,16,32)\n",
        "ab=torch.stack([a,b],dim=2)\n",
        "ab.shape"
      ],
      "execution_count": 18,
      "outputs": [
        {
          "output_type": "execute_result",
          "data": {
            "text/plain": [
              "torch.Size([4, 3, 2, 16, 32])"
            ]
          },
          "metadata": {
            "tags": []
          },
          "execution_count": 18
        }
      ]
    },
    {
      "cell_type": "code",
      "metadata": {
        "id": "WfTxROPc7xbR",
        "colab_type": "code",
        "colab": {
          "base_uri": "https://localhost:8080/",
          "height": 33
        },
        "outputId": "271b0b45-4e5d-4b14-a4e1-63da0c540d16"
      },
      "source": [
        "aa,bb=ab.split(8,dim=3) #按长度8拆分第3维度\n",
        "aa.shape,bb.shape\n",
        "# ab.shape"
      ],
      "execution_count": 46,
      "outputs": [
        {
          "output_type": "execute_result",
          "data": {
            "text/plain": [
              "(torch.Size([4, 3, 2, 8, 32]), torch.Size([4, 3, 2, 8, 32]))"
            ]
          },
          "metadata": {
            "tags": []
          },
          "execution_count": 46
        }
      ]
    },
    {
      "cell_type": "code",
      "metadata": {
        "id": "9fjANDrR7mUa",
        "colab_type": "code",
        "colab": {
          "base_uri": "https://localhost:8080/",
          "height": 67
        },
        "outputId": "5fe6dac9-733d-4b4c-8011-e34f460f4e08"
      },
      "source": [
        "aa,bb,cc=ab.split([2,1,1],dim=0) #分3端长度\n",
        "aa.shape,bb.shape,cc.shape"
      ],
      "execution_count": 34,
      "outputs": [
        {
          "output_type": "execute_result",
          "data": {
            "text/plain": [
              "(torch.Size([2, 3, 2, 16, 32]),\n",
              " torch.Size([1, 3, 2, 16, 32]),\n",
              " torch.Size([1, 3, 2, 16, 32]))"
            ]
          },
          "metadata": {
            "tags": []
          },
          "execution_count": 34
        }
      ]
    },
    {
      "cell_type": "markdown",
      "metadata": {
        "id": "jsFPZuDvAJZ3",
        "colab_type": "text"
      },
      "source": [
        "### chunk 按数量拆分"
      ]
    },
    {
      "cell_type": "code",
      "metadata": {
        "id": "pUFYVLuZAJIk",
        "colab_type": "code",
        "colab": {
          "base_uri": "https://localhost:8080/",
          "height": 33
        },
        "outputId": "8c659b15-d7f2-4f4b-e9cb-e232e7ba1db9"
      },
      "source": [
        "a=torch.rand(4,3,16,32)\n",
        "b=torch.rand(4,3,16,32)\n",
        "ab=torch.stack([a,b],dim=2)\n",
        "ab.shape"
      ],
      "execution_count": 35,
      "outputs": [
        {
          "output_type": "execute_result",
          "data": {
            "text/plain": [
              "torch.Size([4, 3, 2, 16, 32])"
            ]
          },
          "metadata": {
            "tags": []
          },
          "execution_count": 35
        }
      ]
    },
    {
      "cell_type": "code",
      "metadata": {
        "id": "NWbgIhEyAE-M",
        "colab_type": "code",
        "colab": {
          "base_uri": "https://localhost:8080/",
          "height": 33
        },
        "outputId": "17789635-9fc4-4afe-817d-9ba3abde99e2"
      },
      "source": [
        "aa,bb=ab.chunk(2,dim=2) #拆分第2维度为2块\n",
        "aa.shape,bb.shape"
      ],
      "execution_count": 37,
      "outputs": [
        {
          "output_type": "execute_result",
          "data": {
            "text/plain": [
              "(torch.Size([4, 3, 1, 16, 32]), torch.Size([4, 3, 1, 16, 32]))"
            ]
          },
          "metadata": {
            "tags": []
          },
          "execution_count": 37
        }
      ]
    },
    {
      "cell_type": "code",
      "metadata": {
        "id": "sHQJsW4J8TKM",
        "colab_type": "code",
        "colab": {
          "base_uri": "https://localhost:8080/",
          "height": 33
        },
        "outputId": "3589c9f6-b306-4c06-b3c3-829da0c8bde5"
      },
      "source": [
        "aa,bb=ab.chunk(2,dim=3) \n",
        "aa.shape,bb.shape"
      ],
      "execution_count": 43,
      "outputs": [
        {
          "output_type": "execute_result",
          "data": {
            "text/plain": [
              "(torch.Size([4, 3, 2, 8, 32]), torch.Size([4, 3, 2, 8, 32]))"
            ]
          },
          "metadata": {
            "tags": []
          },
          "execution_count": 43
        }
      ]
    },
    {
      "cell_type": "code",
      "metadata": {
        "id": "gWPzbSypBZBY",
        "colab_type": "code",
        "colab": {
          "base_uri": "https://localhost:8080/",
          "height": 84
        },
        "outputId": "aab56ee8-91f6-4705-ca33-2f63de3461c6"
      },
      "source": [
        "aa,bb,cc,dd=ab.chunk(4,dim=3) \n",
        "aa.shape,bb.shape,cc.shape,dd.shape"
      ],
      "execution_count": 44,
      "outputs": [
        {
          "output_type": "execute_result",
          "data": {
            "text/plain": [
              "(torch.Size([4, 3, 2, 4, 32]),\n",
              " torch.Size([4, 3, 2, 4, 32]),\n",
              " torch.Size([4, 3, 2, 4, 32]),\n",
              " torch.Size([4, 3, 2, 4, 32]))"
            ]
          },
          "metadata": {
            "tags": []
          },
          "execution_count": 44
        }
      ]
    }
  ]
}