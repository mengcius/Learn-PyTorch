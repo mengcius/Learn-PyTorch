{
  "nbformat": 4,
  "nbformat_minor": 0,
  "metadata": {
    "colab": {
      "name": "2.创建Tensor.ipynb",
      "version": "0.3.2",
      "provenance": [],
      "collapsed_sections": [],
      "include_colab_link": true
    },
    "kernelspec": {
      "name": "python3",
      "display_name": "Python 3"
    }
  },
  "cells": [
    {
      "cell_type": "markdown",
      "metadata": {
        "id": "view-in-github",
        "colab_type": "text"
      },
      "source": [
        "<a href=\"https://colab.research.google.com/github/mengcius/pytorch-learn/blob/master/2_%E5%88%9B%E5%BB%BATensor.ipynb\" target=\"_parent\"><img src=\"https://colab.research.google.com/assets/colab-badge.svg\" alt=\"Open In Colab\"/></a>"
      ]
    },
    {
      "cell_type": "markdown",
      "metadata": {
        "id": "Pk9KNTpC_MfU",
        "colab_type": "text"
      },
      "source": [
        "## 2.PyTorch创建Tensor\n",
        "\n",
        "### 从numpy导入"
      ]
    },
    {
      "cell_type": "code",
      "metadata": {
        "id": "StxCtg8WJM53",
        "colab_type": "code",
        "colab": {}
      },
      "source": [
        "import torch\n",
        "import numpy as np"
      ],
      "execution_count": 0,
      "outputs": []
    },
    {
      "cell_type": "code",
      "metadata": {
        "id": "yGkoIMMW1yFX",
        "colab_type": "code",
        "outputId": "d10d5f03-bb4a-437f-b29f-ab2738cfdd28",
        "colab": {
          "base_uri": "https://localhost:8080/",
          "height": 33
        }
      },
      "source": [
        "a=np.array([2,3.3])\n",
        "torch.from_numpy(a) #转为torch的类型"
      ],
      "execution_count": 0,
      "outputs": [
        {
          "output_type": "execute_result",
          "data": {
            "text/plain": [
              "tensor([2.0000, 3.3000], dtype=torch.float64)"
            ]
          },
          "metadata": {
            "tags": []
          },
          "execution_count": 5
        }
      ]
    },
    {
      "cell_type": "code",
      "metadata": {
        "id": "svnZxnOzJFSu",
        "colab_type": "code",
        "outputId": "6a0aafd4-2464-447f-d492-835b94e447a2",
        "colab": {
          "base_uri": "https://localhost:8080/",
          "height": 50
        }
      },
      "source": [
        "a=np.ones([2,3])\n",
        "torch.from_numpy(a)"
      ],
      "execution_count": 0,
      "outputs": [
        {
          "output_type": "execute_result",
          "data": {
            "text/plain": [
              "tensor([[1., 1., 1.],\n",
              "        [1., 1., 1.]], dtype=torch.float64)"
            ]
          },
          "metadata": {
            "tags": []
          },
          "execution_count": 6
        }
      ]
    },
    {
      "cell_type": "code",
      "metadata": {
        "id": "T8P6H7JnJmX9",
        "colab_type": "code",
        "outputId": "06322c22-4067-4b65-b908-ffee291ed834",
        "colab": {
          "base_uri": "https://localhost:8080/",
          "height": 33
        }
      },
      "source": [
        "a=np.array([2,3.3])\n",
        "a"
      ],
      "execution_count": 0,
      "outputs": [
        {
          "output_type": "execute_result",
          "data": {
            "text/plain": [
              "array([2. , 3.3])"
            ]
          },
          "metadata": {
            "tags": []
          },
          "execution_count": 12
        }
      ]
    },
    {
      "cell_type": "markdown",
      "metadata": {
        "id": "sEmorZ5OaBda",
        "colab_type": "text"
      },
      "source": [
        "### 从List导入\n",
        "\n",
        "直接写数据，数据少时可以用"
      ]
    },
    {
      "cell_type": "code",
      "metadata": {
        "id": "6lv6gVtwJtqn",
        "colab_type": "code",
        "outputId": "5ec1d3e5-db3a-4916-8766-61f88d38e8d8",
        "colab": {
          "base_uri": "https://localhost:8080/",
          "height": 33
        }
      },
      "source": [
        "torch.tensor([2.,3.3]) #tensor接受数据，建议使用这种方法"
      ],
      "execution_count": 0,
      "outputs": [
        {
          "output_type": "execute_result",
          "data": {
            "text/plain": [
              "tensor([2.0000, 3.3000])"
            ]
          },
          "metadata": {
            "tags": []
          },
          "execution_count": 14
        }
      ]
    },
    {
      "cell_type": "code",
      "metadata": {
        "id": "85NOtRH9as5J",
        "colab_type": "code",
        "outputId": "4bb08f10-637a-4aa5-a799-39c647818407",
        "colab": {
          "base_uri": "https://localhost:8080/",
          "height": 50
        }
      },
      "source": [
        "torch.FloatTensor(2,3) #FloatTensor接受维度，建议使用这种方法"
      ],
      "execution_count": 0,
      "outputs": [
        {
          "output_type": "execute_result",
          "data": {
            "text/plain": [
              "tensor([[5.6178e-36, 0.0000e+00, 4.4842e-44],\n",
              "        [0.0000e+00,        nan, 0.0000e+00]])"
            ]
          },
          "metadata": {
            "tags": []
          },
          "execution_count": 20
        }
      ]
    },
    {
      "cell_type": "markdown",
      "metadata": {
        "id": "mmM84Vb4cdQA",
        "colab_type": "text"
      },
      "source": [
        "下面的方法不建议使用，易混淆"
      ]
    },
    {
      "cell_type": "code",
      "metadata": {
        "id": "Jpo1WvNNbpWd",
        "colab_type": "code",
        "outputId": "21b50a4c-7557-4ae6-e95b-7bc832d2962a",
        "colab": {
          "base_uri": "https://localhost:8080/",
          "height": 33
        }
      },
      "source": [
        "torch.FloatTensor([2.,3.3]) #FloatTensor也能接受数据"
      ],
      "execution_count": 0,
      "outputs": [
        {
          "output_type": "execute_result",
          "data": {
            "text/plain": [
              "tensor([2.0000, 3.3000])"
            ]
          },
          "metadata": {
            "tags": []
          },
          "execution_count": 21
        }
      ]
    },
    {
      "cell_type": "code",
      "metadata": {
        "id": "Ji5Cn0Mkab4L",
        "colab_type": "code",
        "outputId": "d5b3f5c3-e44b-42c0-8892-6d529af274f4",
        "colab": {
          "base_uri": "https://localhost:8080/",
          "height": 33
        }
      },
      "source": [
        "torch.Tensor([2.,3.3]) #Tensor接受数据，有[ ]"
      ],
      "execution_count": 0,
      "outputs": [
        {
          "output_type": "execute_result",
          "data": {
            "text/plain": [
              "tensor([2.0000, 3.3000])"
            ]
          },
          "metadata": {
            "tags": []
          },
          "execution_count": 15
        }
      ]
    },
    {
      "cell_type": "code",
      "metadata": {
        "id": "KHt7siRUanWO",
        "colab_type": "code",
        "outputId": "20176245-e3b1-4289-d41c-99cb18533a91",
        "colab": {
          "base_uri": "https://localhost:8080/",
          "height": 50
        }
      },
      "source": [
        "torch.Tensor(2,3) #Tensor接受维度，没有[ ]，2行3列"
      ],
      "execution_count": 0,
      "outputs": [
        {
          "output_type": "execute_result",
          "data": {
            "text/plain": [
              "tensor([[5.6177e-36, 0.0000e+00, 4.4842e-44],\n",
              "        [0.0000e+00,        nan, 0.0000e+00]])"
            ]
          },
          "metadata": {
            "tags": []
          },
          "execution_count": 19
        }
      ]
    },
    {
      "cell_type": "markdown",
      "metadata": {
        "id": "zzvcUmwfmLyG",
        "colab_type": "text"
      },
      "source": [
        "### 设置默认类型\n",
        "\n",
        ".tensor和.Tensor默认代表.FloatTensor类型。\n",
        "\n",
        "增强学习一般使用double，精度更高，其他一般使用float"
      ]
    },
    {
      "cell_type": "code",
      "metadata": {
        "id": "ALuV7E8GkaH8",
        "colab_type": "code",
        "outputId": "06a9b63e-29ec-4956-ee5f-c0ebbb402518",
        "colab": {
          "base_uri": "https://localhost:8080/",
          "height": 33
        }
      },
      "source": [
        "torch.tensor([1.2,3]).type()"
      ],
      "execution_count": 0,
      "outputs": [
        {
          "output_type": "execute_result",
          "data": {
            "text/plain": [
              "'torch.FloatTensor'"
            ]
          },
          "metadata": {
            "tags": []
          },
          "execution_count": 30
        }
      ]
    },
    {
      "cell_type": "code",
      "metadata": {
        "id": "4F_j2E_CmzSc",
        "colab_type": "code",
        "outputId": "0e9f3604-a5a1-4652-cc10-a83a86dea385",
        "colab": {
          "base_uri": "https://localhost:8080/",
          "height": 33
        }
      },
      "source": [
        "torch.set_default_tensor_type(torch.DoubleTensor) #设置默认类型\n",
        "torch.tensor([1.2,3]).type()"
      ],
      "execution_count": 0,
      "outputs": [
        {
          "output_type": "execute_result",
          "data": {
            "text/plain": [
              "'torch.DoubleTensor'"
            ]
          },
          "metadata": {
            "tags": []
          },
          "execution_count": 31
        }
      ]
    },
    {
      "cell_type": "markdown",
      "metadata": {
        "id": "LEeaCXN1cuwm",
        "colab_type": "text"
      },
      "source": [
        "### 生成未初始化的数据\n",
        "有时希望申请的内存空间不需要提前初始化，只做个容器，注意未初始化的tensor后面一定要跟着写入数据的后续步骤。未初始化就给神经网络的，会报错（nan inf等）。有3种方法：\n",
        "\n",
        "torch.empty()\n",
        "\n",
        "torch.FloatTensor(d1, d2, d3)\n",
        "\n",
        "torch.IntTensor(d1, d2, d3)"
      ]
    },
    {
      "cell_type": "code",
      "metadata": {
        "id": "eC1GN6Z3b1wg",
        "colab_type": "code",
        "outputId": "e663ec7c-181c-4884-8d68-c5faf28cc62c",
        "colab": {
          "base_uri": "https://localhost:8080/",
          "height": 33
        }
      },
      "source": [
        "torch.empty(1) #数据是随机无规则的，极大、极小或0"
      ],
      "execution_count": 0,
      "outputs": [
        {
          "output_type": "execute_result",
          "data": {
            "text/plain": [
              "tensor([5.6184e-36])"
            ]
          },
          "metadata": {
            "tags": []
          },
          "execution_count": 23
        }
      ]
    },
    {
      "cell_type": "code",
      "metadata": {
        "id": "3BMrvA8sjYQ8",
        "colab_type": "code",
        "outputId": "7008043e-bec8-4c17-993f-3695e3de0d49",
        "colab": {
          "base_uri": "https://localhost:8080/",
          "height": 50
        }
      },
      "source": [
        "torch.Tensor(2,3)"
      ],
      "execution_count": 0,
      "outputs": [
        {
          "output_type": "execute_result",
          "data": {
            "text/plain": [
              "tensor([[5.6187e-36, 0.0000e+00, 4.4842e-44],\n",
              "        [0.0000e+00,        nan, 0.0000e+00]])"
            ]
          },
          "metadata": {
            "tags": []
          },
          "execution_count": 24
        }
      ]
    },
    {
      "cell_type": "code",
      "metadata": {
        "id": "BJBblB43kNt7",
        "colab_type": "code",
        "outputId": "a72b7ab4-6743-425e-a79c-28b28bb583aa",
        "colab": {
          "base_uri": "https://localhost:8080/",
          "height": 50
        }
      },
      "source": [
        "torch.FloatTensor(2,3)"
      ],
      "execution_count": 0,
      "outputs": [
        {
          "output_type": "execute_result",
          "data": {
            "text/plain": [
              "tensor([[5.6187e-36, 0.0000e+00, 4.4842e-44],\n",
              "        [0.0000e+00,        nan, 0.0000e+00]])"
            ]
          },
          "metadata": {
            "tags": []
          },
          "execution_count": 26
        }
      ]
    },
    {
      "cell_type": "code",
      "metadata": {
        "id": "GjjCmOFFkSTF",
        "colab_type": "code",
        "outputId": "7991e002-54e3-42a2-c817-0a80c6637793",
        "colab": {
          "base_uri": "https://localhost:8080/",
          "height": 50
        }
      },
      "source": [
        "torch.IntTensor(2,3)"
      ],
      "execution_count": 0,
      "outputs": [
        {
          "output_type": "execute_result",
          "data": {
            "text/plain": [
              "tensor([[82771648,        0,       32],\n",
              "        [       0,       -1,        0]], dtype=torch.int32)"
            ]
          },
          "metadata": {
            "tags": []
          },
          "execution_count": 29
        }
      ]
    },
    {
      "cell_type": "markdown",
      "metadata": {
        "id": "pHxHshpInH8H",
        "colab_type": "text"
      },
      "source": [
        "### 随机初始化\n",
        "普通无规则的初始化可能会有一些问题，推荐使用随机初始化。\n",
        "\n",
        "rand：随机的使用0-1间均匀分布的数值，不包括1\n"
      ]
    },
    {
      "cell_type": "code",
      "metadata": {
        "id": "mQ5qDSkxm_Mq",
        "colab_type": "code",
        "outputId": "d6a6ac5a-1365-4a00-ef3e-bed0697be2fd",
        "colab": {
          "base_uri": "https://localhost:8080/",
          "height": 67
        }
      },
      "source": [
        "torch.rand(3,3) #接受shape参数"
      ],
      "execution_count": 0,
      "outputs": [
        {
          "output_type": "execute_result",
          "data": {
            "text/plain": [
              "tensor([[0.3180, 0.5997, 0.5236],\n",
              "        [0.6629, 0.9012, 0.6812],\n",
              "        [0.2276, 0.9720, 0.6694]])"
            ]
          },
          "metadata": {
            "tags": []
          },
          "execution_count": 32
        }
      ]
    },
    {
      "cell_type": "markdown",
      "metadata": {
        "id": "jkadUxjLBdbd",
        "colab_type": "text"
      },
      "source": [
        "*_like，模仿给的tensor的shape"
      ]
    },
    {
      "cell_type": "code",
      "metadata": {
        "id": "jqwsP2Quqgm4",
        "colab_type": "code",
        "outputId": "7b552d87-1a6b-46e3-e2f7-93afa01a53f0",
        "colab": {
          "base_uri": "https://localhost:8080/",
          "height": 67
        }
      },
      "source": [
        "a=torch.rand(3,3)\n",
        "torch.rand_like(a) #rand_like直接接受一个tensor(使用的了它的shape)"
      ],
      "execution_count": 0,
      "outputs": [
        {
          "output_type": "execute_result",
          "data": {
            "text/plain": [
              "tensor([[0.4213, 0.1917, 0.2355],\n",
              "        [0.8828, 0.3387, 0.3266],\n",
              "        [0.9887, 0.2965, 0.7633]])"
            ]
          },
          "metadata": {
            "tags": []
          },
          "execution_count": 33
        }
      ]
    },
    {
      "cell_type": "code",
      "metadata": {
        "id": "QRdJFh8mq3uQ",
        "colab_type": "code",
        "outputId": "22ae7c90-9eb5-4870-b460-97ce234907b2",
        "colab": {
          "base_uri": "https://localhost:8080/",
          "height": 67
        }
      },
      "source": [
        "torch.randint(1,10,[3,3]) #randint采样整数项，3个参数：min max shape"
      ],
      "execution_count": 0,
      "outputs": [
        {
          "output_type": "execute_result",
          "data": {
            "text/plain": [
              "tensor([[8, 4, 7],\n",
              "        [6, 7, 7],\n",
              "        [8, 6, 6]])"
            ]
          },
          "metadata": {
            "tags": []
          },
          "execution_count": 34
        }
      ]
    },
    {
      "cell_type": "markdown",
      "metadata": {
        "id": "fs7vkIK3szkd",
        "colab_type": "text"
      },
      "source": [
        "### 正态分布\n",
        "randn，最常用的是均值为0，方差为1的正态分布"
      ]
    },
    {
      "cell_type": "code",
      "metadata": {
        "id": "aVUgS_-esHmb",
        "colab_type": "code",
        "outputId": "05ce330e-7da5-4f22-d205-439bd86d6478",
        "colab": {
          "base_uri": "https://localhost:8080/",
          "height": 67
        }
      },
      "source": [
        "torch.randn(3,3) #默认均值为0，方差为1"
      ],
      "execution_count": 0,
      "outputs": [
        {
          "output_type": "execute_result",
          "data": {
            "text/plain": [
              "tensor([[ 0.0914,  0.2476,  0.1246],\n",
              "        [-1.2668,  0.2263, -0.9290],\n",
              "        [ 0.2216,  0.6743,  0.2789]])"
            ]
          },
          "metadata": {
            "tags": []
          },
          "execution_count": 35
        }
      ]
    },
    {
      "cell_type": "markdown",
      "metadata": {
        "id": "4ReWatg35-Uw",
        "colab_type": "text"
      },
      "source": [
        "自定义均值和方差"
      ]
    },
    {
      "cell_type": "code",
      "metadata": {
        "id": "hahHf7u-5rG_",
        "colab_type": "code",
        "outputId": "77954edd-f783-4f4c-a103-ab34b8ba3abc",
        "colab": {
          "base_uri": "https://localhost:8080/",
          "height": 50
        }
      },
      "source": [
        "#full生成10个0；arange方差是从1到0不断减少，即[1,0.9,...,0.1]，不包含右边界0。\n",
        "torch.normal(mean=torch.full([10],0),std=torch.arange(1,0,-0.1))"
      ],
      "execution_count": 0,
      "outputs": [
        {
          "output_type": "execute_result",
          "data": {
            "text/plain": [
              "tensor([-0.7571, -0.4181, -0.4790,  1.4926,  0.2363,  0.3513, -0.1105, -0.2969,\n",
              "         0.1454, -0.0479])"
            ]
          },
          "metadata": {
            "tags": []
          },
          "execution_count": 37
        }
      ]
    },
    {
      "cell_type": "markdown",
      "metadata": {
        "id": "Qcae3G738Fyk",
        "colab_type": "text"
      },
      "source": [
        "### 全部赋一个值"
      ]
    },
    {
      "cell_type": "code",
      "metadata": {
        "id": "rInBzAW175Zm",
        "colab_type": "code",
        "outputId": "ac8b7872-fa7c-4254-dde5-b7e671e09da1",
        "colab": {
          "base_uri": "https://localhost:8080/",
          "height": 50
        }
      },
      "source": [
        "torch.full([2,3],7) #全赋为7"
      ],
      "execution_count": 0,
      "outputs": [
        {
          "output_type": "execute_result",
          "data": {
            "text/plain": [
              "tensor([[7., 7., 7.],\n",
              "        [7., 7., 7.]])"
            ]
          },
          "metadata": {
            "tags": []
          },
          "execution_count": 38
        }
      ]
    },
    {
      "cell_type": "code",
      "metadata": {
        "id": "Zjijzvac8SM2",
        "colab_type": "code",
        "outputId": "25e521f8-d6f9-44e4-c96a-5f27b76a527e",
        "colab": {
          "base_uri": "https://localhost:8080/",
          "height": 33
        }
      },
      "source": [
        "torch.full([],7) #0维，标量"
      ],
      "execution_count": 0,
      "outputs": [
        {
          "output_type": "execute_result",
          "data": {
            "text/plain": [
              "tensor(7.)"
            ]
          },
          "metadata": {
            "tags": []
          },
          "execution_count": 39
        }
      ]
    },
    {
      "cell_type": "code",
      "metadata": {
        "id": "1XtZ0c-78x1S",
        "colab_type": "code",
        "outputId": "6db7ce95-7bf8-4662-f4db-523a5378a7f2",
        "colab": {
          "base_uri": "https://localhost:8080/",
          "height": 33
        }
      },
      "source": [
        "torch.full([1],7) #1维"
      ],
      "execution_count": 0,
      "outputs": [
        {
          "output_type": "execute_result",
          "data": {
            "text/plain": [
              "tensor([7.])"
            ]
          },
          "metadata": {
            "tags": []
          },
          "execution_count": 40
        }
      ]
    },
    {
      "cell_type": "markdown",
      "metadata": {
        "id": "-8bPaWRB9C2z",
        "colab_type": "text"
      },
      "source": [
        "### 等差数列"
      ]
    },
    {
      "cell_type": "code",
      "metadata": {
        "id": "qhR41DTW80cU",
        "colab_type": "code",
        "outputId": "a49705cb-0048-427a-cbb9-3d5c13f670b5",
        "colab": {
          "base_uri": "https://localhost:8080/",
          "height": 33
        }
      },
      "source": [
        "torch.arange(0,10) #递增的等差数列，默认差为1，左必右开[0,10)"
      ],
      "execution_count": 0,
      "outputs": [
        {
          "output_type": "execute_result",
          "data": {
            "text/plain": [
              "tensor([0, 1, 2, 3, 4, 5, 6, 7, 8, 9])"
            ]
          },
          "metadata": {
            "tags": []
          },
          "execution_count": 41
        }
      ]
    },
    {
      "cell_type": "code",
      "metadata": {
        "id": "dPLylQsg9Wg2",
        "colab_type": "code",
        "outputId": "8fde27a7-cf34-4fa7-f901-325e3d2e22e5",
        "colab": {
          "base_uri": "https://localhost:8080/",
          "height": 33
        }
      },
      "source": [
        "torch.arange(0,10,2) #设置差为2 "
      ],
      "execution_count": 0,
      "outputs": [
        {
          "output_type": "execute_result",
          "data": {
            "text/plain": [
              "tensor([0, 2, 4, 6, 8])"
            ]
          },
          "metadata": {
            "tags": []
          },
          "execution_count": 43
        }
      ]
    },
    {
      "cell_type": "code",
      "metadata": {
        "id": "UiTyws319bKJ",
        "colab_type": "code",
        "outputId": "d737bf93-25e1-49d9-d4a4-d2dc1856ee84",
        "colab": {
          "base_uri": "https://localhost:8080/",
          "height": 87
        }
      },
      "source": [
        "torch.range(0,10) #torch中不建议使用range"
      ],
      "execution_count": 0,
      "outputs": [
        {
          "output_type": "stream",
          "text": [
            "/usr/local/lib/python3.6/dist-packages/ipykernel_launcher.py:1: UserWarning: torch.range is deprecated in favor of torch.arange and will be removed in 0.5. Note that arange generates values in [start; end), not [start; end].\n",
            "  \"\"\"Entry point for launching an IPython kernel.\n"
          ],
          "name": "stderr"
        },
        {
          "output_type": "execute_result",
          "data": {
            "text/plain": [
              "tensor([ 0.,  1.,  2.,  3.,  4.,  5.,  6.,  7.,  8.,  9., 10.])"
            ]
          },
          "metadata": {
            "tags": []
          },
          "execution_count": 45
        }
      ]
    },
    {
      "cell_type": "markdown",
      "metadata": {
        "id": "xJeip78E9skx",
        "colab_type": "text"
      },
      "source": [
        "### 等分切割"
      ]
    },
    {
      "cell_type": "markdown",
      "metadata": {
        "id": "DzzyrMvB_Bt1",
        "colab_type": "text"
      },
      "source": [
        "linspace，等分切割"
      ]
    },
    {
      "cell_type": "code",
      "metadata": {
        "id": "IG2Uck8G9muW",
        "colab_type": "code",
        "outputId": "733077ae-3413-4ddf-c9a8-0075b74d7c33",
        "colab": {
          "base_uri": "https://localhost:8080/",
          "height": 33
        }
      },
      "source": [
        "torch.linspace(0,10,steps=4) #将[0,10]等分切割成4份"
      ],
      "execution_count": 0,
      "outputs": [
        {
          "output_type": "execute_result",
          "data": {
            "text/plain": [
              "tensor([ 0.0000,  3.3333,  6.6667, 10.0000])"
            ]
          },
          "metadata": {
            "tags": []
          },
          "execution_count": 47
        }
      ]
    },
    {
      "cell_type": "code",
      "metadata": {
        "id": "-Vs2avCO-k_W",
        "colab_type": "code",
        "outputId": "0502e265-d838-43da-d146-456a0a1a8321",
        "colab": {
          "base_uri": "https://localhost:8080/",
          "height": 50
        }
      },
      "source": [
        "torch.linspace(0,10,steps=10)"
      ],
      "execution_count": 0,
      "outputs": [
        {
          "output_type": "execute_result",
          "data": {
            "text/plain": [
              "tensor([ 0.0000,  1.1111,  2.2222,  3.3333,  4.4444,  5.5556,  6.6667,  7.7778,\n",
              "         8.8889, 10.0000])"
            ]
          },
          "metadata": {
            "tags": []
          },
          "execution_count": 48
        }
      ]
    },
    {
      "cell_type": "code",
      "metadata": {
        "id": "QmRX1ASs-tMY",
        "colab_type": "code",
        "outputId": "293bacae-dda2-4032-9c73-e63554c5f314",
        "colab": {
          "base_uri": "https://localhost:8080/",
          "height": 33
        }
      },
      "source": [
        "torch.linspace(0,10,steps=11) #11份正好"
      ],
      "execution_count": 0,
      "outputs": [
        {
          "output_type": "execute_result",
          "data": {
            "text/plain": [
              "tensor([ 0.,  1.,  2.,  3.,  4.,  5.,  6.,  7.,  8.,  9., 10.])"
            ]
          },
          "metadata": {
            "tags": []
          },
          "execution_count": 49
        }
      ]
    },
    {
      "cell_type": "markdown",
      "metadata": {
        "id": "WaongvbK-5W0",
        "colab_type": "text"
      },
      "source": [
        "logspace，等分切割后取对数，它的base参数可以设置为2,10,e等参数"
      ]
    },
    {
      "cell_type": "code",
      "metadata": {
        "id": "tcoV0497-v4Q",
        "colab_type": "code",
        "outputId": "5f90399b-5bd7-4d2e-de97-4162be3719bc",
        "colab": {
          "base_uri": "https://localhost:8080/",
          "height": 50
        }
      },
      "source": [
        "torch.logspace(0,1,steps=10) #等分10份，默认以10为底，"
      ],
      "execution_count": 0,
      "outputs": [
        {
          "output_type": "execute_result",
          "data": {
            "text/plain": [
              "tensor([ 1.0000,  1.2915,  1.6681,  2.1544,  2.7826,  3.5938,  4.6416,  5.9948,\n",
              "         7.7426, 10.0000])"
            ]
          },
          "metadata": {
            "tags": []
          },
          "execution_count": 57
        }
      ]
    },
    {
      "cell_type": "markdown",
      "metadata": {
        "id": "BVbgGXR1AJC-",
        "colab_type": "text"
      },
      "source": [
        "### 生成全部是1/0/eye"
      ]
    },
    {
      "cell_type": "code",
      "metadata": {
        "id": "-ahAkceB_RNY",
        "colab_type": "code",
        "outputId": "104cdf08-d527-41e8-8ba0-06b5d1aff7ce",
        "colab": {
          "base_uri": "https://localhost:8080/",
          "height": 50
        }
      },
      "source": [
        "torch.ones(2,3) #生成全部是1，参数给shape"
      ],
      "execution_count": 0,
      "outputs": [
        {
          "output_type": "execute_result",
          "data": {
            "text/plain": [
              "tensor([[1., 1., 1.],\n",
              "        [1., 1., 1.]])"
            ]
          },
          "metadata": {
            "tags": []
          },
          "execution_count": 58
        }
      ]
    },
    {
      "cell_type": "code",
      "metadata": {
        "id": "kq_REMVVAhC9",
        "colab_type": "code",
        "outputId": "bd828729-8bd5-49af-93d1-e8dc6e7df891",
        "colab": {
          "base_uri": "https://localhost:8080/",
          "height": 50
        }
      },
      "source": [
        "torch.zeros(2,3) #生成全部是1，参数给shape"
      ],
      "execution_count": 0,
      "outputs": [
        {
          "output_type": "execute_result",
          "data": {
            "text/plain": [
              "tensor([[0., 0., 0.],\n",
              "        [0., 0., 0.]])"
            ]
          },
          "metadata": {
            "tags": []
          },
          "execution_count": 59
        }
      ]
    },
    {
      "cell_type": "code",
      "metadata": {
        "id": "nR-NWrgHAnSb",
        "colab_type": "code",
        "outputId": "82a387ac-2ffd-4df3-96f3-c51804b1e6da",
        "colab": {
          "base_uri": "https://localhost:8080/",
          "height": 50
        }
      },
      "source": [
        "torch.eye(2,3) #生成全部是1，参数给shape，shape不是对角矩阵的话多余部分默认填0"
      ],
      "execution_count": 0,
      "outputs": [
        {
          "output_type": "execute_result",
          "data": {
            "text/plain": [
              "tensor([[1., 0., 0.],\n",
              "        [0., 1., 0.]])"
            ]
          },
          "metadata": {
            "tags": []
          },
          "execution_count": 60
        }
      ]
    },
    {
      "cell_type": "code",
      "metadata": {
        "id": "72S-2s3pAzsJ",
        "colab_type": "code",
        "outputId": "d0467328-8547-4c2a-9e1d-e87f9b65d4e6",
        "colab": {
          "base_uri": "https://localhost:8080/",
          "height": 67
        }
      },
      "source": [
        "torch.eye(3) #参数给一个，生成对角矩阵"
      ],
      "execution_count": 0,
      "outputs": [
        {
          "output_type": "execute_result",
          "data": {
            "text/plain": [
              "tensor([[1., 0., 0.],\n",
              "        [0., 1., 0.],\n",
              "        [0., 0., 1.]])"
            ]
          },
          "metadata": {
            "tags": []
          },
          "execution_count": 61
        }
      ]
    },
    {
      "cell_type": "code",
      "metadata": {
        "id": "BE__lGx_BDdy",
        "colab_type": "code",
        "outputId": "199d1015-8c1c-482f-8315-03ea25270c93",
        "colab": {
          "base_uri": "https://localhost:8080/",
          "height": 67
        }
      },
      "source": [
        "a=torch.zeros(3,3)\n",
        "torch.ones_like(a)"
      ],
      "execution_count": 0,
      "outputs": [
        {
          "output_type": "execute_result",
          "data": {
            "text/plain": [
              "tensor([[1., 1., 1.],\n",
              "        [1., 1., 1.],\n",
              "        [1., 1., 1.]])"
            ]
          },
          "metadata": {
            "tags": []
          },
          "execution_count": 62
        }
      ]
    },
    {
      "cell_type": "markdown",
      "metadata": {
        "id": "I7xGWlVWC1br",
        "colab_type": "text"
      },
      "source": [
        "numpy中表示"
      ]
    },
    {
      "cell_type": "code",
      "metadata": {
        "id": "_AFUe8OTBVZn",
        "colab_type": "code",
        "outputId": "1021456b-83aa-4ffd-c7a3-808199e011d7",
        "colab": {
          "base_uri": "https://localhost:8080/",
          "height": 50
        }
      },
      "source": [
        "np.zeros((2,3))\n",
        "np.ones((2,3),int)\n",
        "np.empty((2,3),int)"
      ],
      "execution_count": 0,
      "outputs": [
        {
          "output_type": "execute_result",
          "data": {
            "text/plain": [
              "array([[1, 1, 1],\n",
              "       [1, 1, 1]])"
            ]
          },
          "metadata": {
            "tags": []
          },
          "execution_count": 72
        }
      ]
    },
    {
      "cell_type": "markdown",
      "metadata": {
        "id": "dnCpwjpiBs_R",
        "colab_type": "text"
      },
      "source": [
        "### 随机打散\n",
        "random.shuffle，希望两个可以协同打散，两者打乱时也保持配对\n"
      ]
    },
    {
      "cell_type": "code",
      "metadata": {
        "id": "fcFTawN2BwuC",
        "colab_type": "code",
        "outputId": "e019beca-7e82-416c-fd55-e9663ab733ef",
        "colab": {
          "base_uri": "https://localhost:8080/",
          "height": 33
        }
      },
      "source": [
        "torch.randperm(10) #随机打散10个数"
      ],
      "execution_count": 0,
      "outputs": [
        {
          "output_type": "execute_result",
          "data": {
            "text/plain": [
              "tensor([8, 3, 4, 1, 7, 5, 2, 6, 9, 0])"
            ]
          },
          "metadata": {
            "tags": []
          },
          "execution_count": 73
        }
      ]
    },
    {
      "cell_type": "code",
      "metadata": {
        "id": "RxN051_1EiOG",
        "colab_type": "code",
        "outputId": "0131ec85-2f4c-4b0d-fece-848abd5da67d",
        "colab": {
          "base_uri": "https://localhost:8080/",
          "height": 67
        }
      },
      "source": [
        "a=torch.rand(2,3) #a和b配对，打乱时都只将第一维同时打乱\n",
        "b=torch.rand(2,2)\n",
        "a,b"
      ],
      "execution_count": 0,
      "outputs": [
        {
          "output_type": "execute_result",
          "data": {
            "text/plain": [
              "(tensor([[0.4668, 0.4583, 0.0470],\n",
              "         [0.7515, 0.9098, 0.5587]]), tensor([[0.1719, 0.8072],\n",
              "         [0.8556, 0.4060]]))"
            ]
          },
          "metadata": {
            "tags": []
          },
          "execution_count": 98
        }
      ]
    },
    {
      "cell_type": "code",
      "metadata": {
        "id": "yBkdSNu4DrWM",
        "colab_type": "code",
        "outputId": "fa0d0e76-68e3-471f-e663-6498612fbf06",
        "colab": {
          "base_uri": "https://localhost:8080/",
          "height": 33
        }
      },
      "source": [
        "idx=torch.randperm(2) #随机打散2个数，它俩当作随机种子，用来当作a的随机索引\n",
        "idx"
      ],
      "execution_count": 0,
      "outputs": [
        {
          "output_type": "execute_result",
          "data": {
            "text/plain": [
              "tensor([1, 0])"
            ]
          },
          "metadata": {
            "tags": []
          },
          "execution_count": 94
        }
      ]
    },
    {
      "cell_type": "code",
      "metadata": {
        "id": "uh2s_cVNELAN",
        "colab_type": "code",
        "outputId": "b54ece58-d51b-4e86-dd94-98f95b7590dd",
        "colab": {
          "base_uri": "https://localhost:8080/",
          "height": 50
        }
      },
      "source": [
        "a[idx] #a和b用同一个种子，同一个类别的一起匹配变化"
      ],
      "execution_count": 0,
      "outputs": [
        {
          "output_type": "execute_result",
          "data": {
            "text/plain": [
              "tensor([[0.7515, 0.9098, 0.5587],\n",
              "        [0.4668, 0.4583, 0.0470]])"
            ]
          },
          "metadata": {
            "tags": []
          },
          "execution_count": 99
        }
      ]
    },
    {
      "cell_type": "code",
      "metadata": {
        "id": "TT9HzZAkEOkm",
        "colab_type": "code",
        "outputId": "8062fd48-d348-4c19-afc3-af3806cf06f1",
        "colab": {
          "base_uri": "https://localhost:8080/",
          "height": 50
        }
      },
      "source": [
        "b[idx]"
      ],
      "execution_count": 0,
      "outputs": [
        {
          "output_type": "execute_result",
          "data": {
            "text/plain": [
              "tensor([[0.8556, 0.4060],\n",
              "        [0.1719, 0.8072]])"
            ]
          },
          "metadata": {
            "tags": []
          },
          "execution_count": 100
        }
      ]
    },
    {
      "cell_type": "code",
      "metadata": {
        "id": "W82KH8dHGj6X",
        "colab_type": "code",
        "outputId": "7c86ea0c-079f-4b5e-89c3-4550bd0e519f",
        "colab": {
          "base_uri": "https://localhost:8080/",
          "height": 67
        }
      },
      "source": [
        "a,b"
      ],
      "execution_count": 0,
      "outputs": [
        {
          "output_type": "execute_result",
          "data": {
            "text/plain": [
              "(tensor([[0.4668, 0.4583, 0.0470],\n",
              "         [0.7515, 0.9098, 0.5587]]), tensor([[0.1719, 0.8072],\n",
              "         [0.8556, 0.4060]]))"
            ]
          },
          "metadata": {
            "tags": []
          },
          "execution_count": 101
        }
      ]
    }
  ]
}