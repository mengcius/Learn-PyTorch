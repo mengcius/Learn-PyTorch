{
  "nbformat": 4,
  "nbformat_minor": 0,
  "metadata": {
    "colab": {
      "name": "5_梯度下降.ipynb",
      "version": "0.3.2",
      "provenance": [],
      "collapsed_sections": [],
      "include_colab_link": true
    },
    "kernelspec": {
      "name": "python3",
      "display_name": "Python 3"
    }
  },
  "cells": [
    {
      "cell_type": "markdown",
      "metadata": {
        "id": "view-in-github",
        "colab_type": "text"
      },
      "source": [
        "<a href=\"https://colab.research.google.com/github/mengcius/pytorch-learn/blob/master/5_%E6%A2%AF%E5%BA%A6%E4%B8%8B%E9%99%8D.ipynb\" target=\"_parent\"><img src=\"https://colab.research.google.com/assets/colab-badge.svg\" alt=\"Open In Colab\"/></a>"
      ]
    },
    {
      "cell_type": "markdown",
      "metadata": {
        "id": "0B3pohZOrrWx",
        "colab_type": "text"
      },
      "source": [
        "## 5_梯度下降"
      ]
    },
    {
      "cell_type": "code",
      "metadata": {
        "id": "wZFUKBXZrjdf",
        "colab_type": "code",
        "colab": {}
      },
      "source": [
        "import torch\n",
        "import torch.nn as nn\n",
        "import torch.nn.functional as F "
      ],
      "execution_count": 0,
      "outputs": []
    },
    {
      "cell_type": "markdown",
      "metadata": {
        "id": "bm1OQiwULdqD",
        "colab_type": "text"
      },
      "source": [
        "### sigmoid\n"
      ]
    },
    {
      "cell_type": "code",
      "metadata": {
        "id": "Uf_ldhFk3u1t",
        "colab_type": "code",
        "outputId": "f2b823a0-9a71-48bd-a260-7d547e1d072b",
        "colab": {
          "base_uri": "https://localhost:8080/",
          "height": 50
        }
      },
      "source": [
        "x=torch.linspace(-100,100,10) #线性等分向量\n",
        "x"
      ],
      "execution_count": 0,
      "outputs": [
        {
          "output_type": "execute_result",
          "data": {
            "text/plain": [
              "tensor([-100.0000,  -77.7778,  -55.5556,  -33.3333,  -11.1111,   11.1111,\n",
              "          33.3333,   55.5555,   77.7778,  100.0000])"
            ]
          },
          "metadata": {
            "tags": []
          },
          "execution_count": 3
        }
      ]
    },
    {
      "cell_type": "code",
      "metadata": {
        "id": "rrY8ZWtLEcec",
        "colab_type": "code",
        "outputId": "d3e1a36a-57a9-4997-e121-855d030b190b",
        "colab": {
          "base_uri": "https://localhost:8080/",
          "height": 50
        }
      },
      "source": [
        "torch.sigmoid(x)"
      ],
      "execution_count": 0,
      "outputs": [
        {
          "output_type": "execute_result",
          "data": {
            "text/plain": [
              "tensor([0.0000e+00, 1.6655e-34, 7.4564e-25, 3.3382e-15, 1.4945e-05, 9.9999e-01,\n",
              "        1.0000e+00, 1.0000e+00, 1.0000e+00, 1.0000e+00])"
            ]
          },
          "metadata": {
            "tags": []
          },
          "execution_count": 4
        }
      ]
    },
    {
      "cell_type": "code",
      "metadata": {
        "id": "rCtDHb66EcUx",
        "colab_type": "code",
        "outputId": "e1239b00-1984-4958-8758-8d446bb3f477",
        "colab": {
          "base_uri": "https://localhost:8080/",
          "height": 104
        }
      },
      "source": [
        "F.sigmoid(x) #不建议用torch.nn.functional中的sigmoid"
      ],
      "execution_count": 0,
      "outputs": [
        {
          "output_type": "stream",
          "text": [
            "/usr/local/lib/python3.6/dist-packages/torch/nn/functional.py:1386: UserWarning: nn.functional.sigmoid is deprecated. Use torch.sigmoid instead.\n",
            "  warnings.warn(\"nn.functional.sigmoid is deprecated. Use torch.sigmoid instead.\")\n"
          ],
          "name": "stderr"
        },
        {
          "output_type": "execute_result",
          "data": {
            "text/plain": [
              "tensor([0.0000e+00, 1.6655e-34, 7.4564e-25, 3.3382e-15, 1.4945e-05, 9.9999e-01,\n",
              "        1.0000e+00, 1.0000e+00, 1.0000e+00, 1.0000e+00])"
            ]
          },
          "metadata": {
            "tags": []
          },
          "execution_count": 7
        }
      ]
    },
    {
      "cell_type": "markdown",
      "metadata": {
        "id": "JGYQ5fNzNXwz",
        "colab_type": "text"
      },
      "source": [
        "### tanh"
      ]
    },
    {
      "cell_type": "code",
      "metadata": {
        "id": "trUjOTgaEcNd",
        "colab_type": "code",
        "outputId": "85edf4f8-9c8d-4c03-8454-3a2c96bc73fa",
        "colab": {
          "base_uri": "https://localhost:8080/",
          "height": 50
        }
      },
      "source": [
        "x=torch.linspace(-10,10,10)\n",
        "x"
      ],
      "execution_count": 0,
      "outputs": [
        {
          "output_type": "execute_result",
          "data": {
            "text/plain": [
              "tensor([-10.0000,  -7.7778,  -5.5556,  -3.3333,  -1.1111,   1.1111,   3.3333,\n",
              "          5.5556,   7.7778,  10.0000])"
            ]
          },
          "metadata": {
            "tags": []
          },
          "execution_count": 10
        }
      ]
    },
    {
      "cell_type": "code",
      "metadata": {
        "id": "3IULqXLEEcFK",
        "colab_type": "code",
        "outputId": "bd8746b4-5e0d-462c-e797-3692d78beee8",
        "colab": {
          "base_uri": "https://localhost:8080/",
          "height": 50
        }
      },
      "source": [
        "torch.tanh(x)"
      ],
      "execution_count": 0,
      "outputs": [
        {
          "output_type": "execute_result",
          "data": {
            "text/plain": [
              "tensor([-1.0000, -1.0000, -1.0000, -0.9975, -0.8045,  0.8045,  0.9975,  1.0000,\n",
              "         1.0000,  1.0000])"
            ]
          },
          "metadata": {
            "tags": []
          },
          "execution_count": 11
        }
      ]
    },
    {
      "cell_type": "markdown",
      "metadata": {
        "id": "oo0rQukbPXao",
        "colab_type": "text"
      },
      "source": [
        "### relu"
      ]
    },
    {
      "cell_type": "code",
      "metadata": {
        "id": "5_isHKT-N9V6",
        "colab_type": "code",
        "outputId": "16c2c9a9-ecc0-48e3-d93a-51213354d2d3",
        "colab": {
          "base_uri": "https://localhost:8080/",
          "height": 50
        }
      },
      "source": [
        "x=torch.linspace(-10,10,10)\n",
        "x"
      ],
      "execution_count": 0,
      "outputs": [
        {
          "output_type": "execute_result",
          "data": {
            "text/plain": [
              "tensor([-10.0000,  -7.7778,  -5.5556,  -3.3333,  -1.1111,   1.1111,   3.3333,\n",
              "          5.5556,   7.7778,  10.0000])"
            ]
          },
          "metadata": {
            "tags": []
          },
          "execution_count": 12
        }
      ]
    },
    {
      "cell_type": "code",
      "metadata": {
        "id": "mC4yJcXePcIV",
        "colab_type": "code",
        "outputId": "b973525a-4146-4a53-df17-c9164a9e4c32",
        "colab": {
          "base_uri": "https://localhost:8080/",
          "height": 50
        }
      },
      "source": [
        "torch.relu(x)"
      ],
      "execution_count": 0,
      "outputs": [
        {
          "output_type": "execute_result",
          "data": {
            "text/plain": [
              "tensor([ 0.0000,  0.0000,  0.0000,  0.0000,  0.0000,  1.1111,  3.3333,  5.5556,\n",
              "         7.7778, 10.0000])"
            ]
          },
          "metadata": {
            "tags": []
          },
          "execution_count": 13
        }
      ]
    },
    {
      "cell_type": "code",
      "metadata": {
        "id": "6y7SMs-EPet9",
        "colab_type": "code",
        "outputId": "321b6f6b-da1d-45d6-93f3-5c7e7cfc45eb",
        "colab": {
          "base_uri": "https://localhost:8080/",
          "height": 50
        }
      },
      "source": [
        "F.relu(x)"
      ],
      "execution_count": 0,
      "outputs": [
        {
          "output_type": "execute_result",
          "data": {
            "text/plain": [
              "tensor([ 0.0000,  0.0000,  0.0000,  0.0000,  0.0000,  1.1111,  3.3333,  5.5556,\n",
              "         7.7778, 10.0000])"
            ]
          },
          "metadata": {
            "tags": []
          },
          "execution_count": 14
        }
      ]
    },
    {
      "cell_type": "markdown",
      "metadata": {
        "id": "up1JOCwGUtnL",
        "colab_type": "text"
      },
      "source": [
        "### autograd.grad求mse_loss的梯度\n",
        "\n",
        "torch.nn.functional.mse_loss() 计算均方差损失\n",
        "\n",
        "torch.autograd.grad(loss, [w1, w2,...]) 求导，返回[w1 grad, w2 grad...]\n"
      ]
    },
    {
      "cell_type": "code",
      "metadata": {
        "id": "EdLjq0pcPiKp",
        "colab_type": "code",
        "outputId": "c9e200d9-2f3c-406c-d7e4-8b066cea155a",
        "colab": {
          "base_uri": "https://localhost:8080/",
          "height": 33
        }
      },
      "source": [
        "x=torch.ones(1)\n",
        "w=torch.full([1],2) #预测为y^=x*w，w=torch.full([1],2,requires_grad=True)\n",
        "x,w"
      ],
      "execution_count": 0,
      "outputs": [
        {
          "output_type": "execute_result",
          "data": {
            "text/plain": [
              "(tensor([1.]), tensor([2.]))"
            ]
          },
          "metadata": {
            "tags": []
          },
          "execution_count": 36
        }
      ]
    },
    {
      "cell_type": "code",
      "metadata": {
        "id": "qNvxS2AEWtIp",
        "colab_type": "code",
        "outputId": "1c6d2ae7-9f66-4e8e-c55f-e532cce299ff",
        "colab": {
          "base_uri": "https://localhost:8080/",
          "height": 33
        }
      },
      "source": [
        "mse=F.mse_loss(torch.ones(1),x*w) #均方差，实际值y-预测值y^的平方和\n",
        "mse"
      ],
      "execution_count": 0,
      "outputs": [
        {
          "output_type": "execute_result",
          "data": {
            "text/plain": [
              "tensor(1.)"
            ]
          },
          "metadata": {
            "tags": []
          },
          "execution_count": 37
        }
      ]
    },
    {
      "cell_type": "code",
      "metadata": {
        "id": "LO0_Z4FnYW4w",
        "colab_type": "code",
        "colab": {}
      },
      "source": [
        "torch.autograd.grad(mse,[w]) #让mse损失对w求导\n",
        "#报错w无需求导，要将w标注为可求导的\n",
        "#RuntimeError: element 0 of tensors does not require grad and does not have a grad_fn"
      ],
      "execution_count": 0,
      "outputs": []
    },
    {
      "cell_type": "code",
      "metadata": {
        "id": "E1CeiE-cYuV5",
        "colab_type": "code",
        "outputId": "66251550-ceeb-4a24-9e74-676ce03725e4",
        "colab": {
          "base_uri": "https://localhost:8080/",
          "height": 33
        }
      },
      "source": [
        "w.requires_grad_() #标注w是需要梯度信息的，或在一开始就w=torch.full([1],2,requires_grad=True)\n",
        "#因为torch是动态图，在w更新后，要再计算一次mse，重新更新图\n",
        "mse=F.mse_loss(torch.ones(1),x*w)\n",
        "torch.autograd.grad(mse,[w]) #让mse损失对w求导，返回w的梯度"
      ],
      "execution_count": 0,
      "outputs": [
        {
          "output_type": "execute_result",
          "data": {
            "text/plain": [
              "(tensor([2.]),)"
            ]
          },
          "metadata": {
            "tags": []
          },
          "execution_count": 40
        }
      ]
    },
    {
      "cell_type": "markdown",
      "metadata": {
        "id": "tAb2oEsocvcE",
        "colab_type": "text"
      },
      "source": [
        "### backward求mse_loss的梯度\n",
        "\n",
        "xloss.backward() 反向传播，无返回，但附在了w1.grad，w2.grad\n"
      ]
    },
    {
      "cell_type": "code",
      "metadata": {
        "id": "dhHC6vlnbAQP",
        "colab_type": "code",
        "outputId": "749c62af-cff2-4c49-f7a8-032029d839d3",
        "colab": {
          "base_uri": "https://localhost:8080/",
          "height": 33
        }
      },
      "source": [
        "x=torch.ones(1)\n",
        "w=torch.full([1],2,requires_grad=True) #预测为y^=x*w\n",
        "x,w"
      ],
      "execution_count": 0,
      "outputs": [
        {
          "output_type": "execute_result",
          "data": {
            "text/plain": [
              "(tensor([1.]), tensor([2.], requires_grad=True))"
            ]
          },
          "metadata": {
            "tags": []
          },
          "execution_count": 3
        }
      ]
    },
    {
      "cell_type": "code",
      "metadata": {
        "id": "ZnCbG7vkc8su",
        "colab_type": "code",
        "outputId": "540d5793-a129-498a-8460-ed211a441bb0",
        "colab": {
          "base_uri": "https://localhost:8080/",
          "height": 33
        }
      },
      "source": [
        "mse=F.mse_loss(torch.ones(1),x*w) #均方差\n",
        "mse.backward() #反向传播，会计算出图中需要计算的梯度，不返回值，会把各自的梯度附在grad成员变量上\n",
        "w.grad"
      ],
      "execution_count": 0,
      "outputs": [
        {
          "output_type": "execute_result",
          "data": {
            "text/plain": [
              "tensor([2.])"
            ]
          },
          "metadata": {
            "tags": []
          },
          "execution_count": 4
        }
      ]
    },
    {
      "cell_type": "code",
      "metadata": {
        "id": "2w1kJ--0ehfL",
        "colab_type": "code",
        "outputId": "1cb35111-d038-4647-d402-d0aeaebf38ae",
        "colab": {
          "base_uri": "https://localhost:8080/",
          "height": 33
        }
      },
      "source": [
        "w.grad.norm() "
      ],
      "execution_count": 0,
      "outputs": [
        {
          "output_type": "execute_result",
          "data": {
            "text/plain": [
              "tensor(2.)"
            ]
          },
          "metadata": {
            "tags": []
          },
          "execution_count": 5
        }
      ]
    },
    {
      "cell_type": "markdown",
      "metadata": {
        "id": "bVAdHSYwj04E",
        "colab_type": "text"
      },
      "source": [
        "### Softmax激活函数及其梯度\n",
        "\n",
        "F.softmax(a,dim=0) 求softmax\n"
      ]
    },
    {
      "cell_type": "code",
      "metadata": {
        "id": "wQ-4PIrwelMH",
        "colab_type": "code",
        "outputId": "8d8c2566-2d69-4199-eab3-9807a74f5a08",
        "colab": {
          "base_uri": "https://localhost:8080/",
          "height": 33
        }
      },
      "source": [
        "a=torch.rand(3)\n",
        "a.requires_grad_()"
      ],
      "execution_count": 0,
      "outputs": [
        {
          "output_type": "execute_result",
          "data": {
            "text/plain": [
              "tensor([0.6954, 0.7282, 0.5982], requires_grad=True)"
            ]
          },
          "metadata": {
            "tags": []
          },
          "execution_count": 2
        }
      ]
    },
    {
      "cell_type": "code",
      "metadata": {
        "id": "Yq4dZDxYonk6",
        "colab_type": "code",
        "outputId": "9c705cc7-182d-4b5a-d29e-2828a80f8d3f",
        "colab": {
          "base_uri": "https://localhost:8080/",
          "height": 33
        }
      },
      "source": [
        "p=F.softmax(a,dim=0) #求softmax激活后的值，可以指定维度，以便跳过batch那维\n",
        "p"
      ],
      "execution_count": 0,
      "outputs": [
        {
          "output_type": "execute_result",
          "data": {
            "text/plain": [
              "tensor([0.3400, 0.3514, 0.3086], grad_fn=<SoftmaxBackward>)"
            ]
          },
          "metadata": {
            "tags": []
          },
          "execution_count": 3
        }
      ]
    },
    {
      "cell_type": "code",
      "metadata": {
        "id": "rTDaZ7eOo5Qe",
        "colab_type": "code",
        "colab": {}
      },
      "source": [
        "p.backward() #有问题？之前执行了一次，再次执行需要保持图retain_graph=True ？\n",
        "#RuntimeError: grad can be implicitly created only for scalar outputs"
      ],
      "execution_count": 0,
      "outputs": []
    },
    {
      "cell_type": "code",
      "metadata": {
        "id": "lv4gn8GqpIIW",
        "colab_type": "code",
        "outputId": "9e50dd52-b6be-4d86-a647-1a986162ecc7",
        "colab": {
          "base_uri": "https://localhost:8080/",
          "height": 33
        }
      },
      "source": [
        "#求softmax对参数a的梯度\n",
        "torch.autograd.grad(p[1],[a],retain_graph=True) #p只能是长度为1的[1]或标量，[a]长度不限制"
      ],
      "execution_count": 0,
      "outputs": [
        {
          "output_type": "execute_result",
          "data": {
            "text/plain": [
              "(tensor([-0.1195,  0.2279, -0.1084]),)"
            ]
          },
          "metadata": {
            "tags": []
          },
          "execution_count": 5
        }
      ]
    },
    {
      "cell_type": "code",
      "metadata": {
        "id": "EFbUk380tPzP",
        "colab_type": "code",
        "outputId": "54b3d013-38ee-4c02-d425-409f61eee696",
        "colab": {
          "base_uri": "https://localhost:8080/",
          "height": 33
        }
      },
      "source": [
        "torch.autograd.grad(p[0],[a]) #当输入和输出的节点序号相同时，它的梯度才为正"
      ],
      "execution_count": 0,
      "outputs": [
        {
          "output_type": "execute_result",
          "data": {
            "text/plain": [
              "(tensor([ 0.2244, -0.1195, -0.1049]),)"
            ]
          },
          "metadata": {
            "tags": []
          },
          "execution_count": 7
        }
      ]
    },
    {
      "cell_type": "markdown",
      "metadata": {
        "id": "ANwwFKWTLR3I",
        "colab_type": "text"
      },
      "source": [
        "### 单一输出感知机"
      ]
    },
    {
      "cell_type": "code",
      "metadata": {
        "id": "M3uglBuVbm5e",
        "colab_type": "code",
        "colab": {
          "base_uri": "https://localhost:8080/",
          "height": 50
        },
        "outputId": "5342f3bd-5573-494b-a821-b9a0dc3cdec9"
      },
      "source": [
        "x=torch.randn(1,10)\n",
        "w=torch.randn(1,10,requires_grad=True)\n",
        "w"
      ],
      "execution_count": 15,
      "outputs": [
        {
          "output_type": "execute_result",
          "data": {
            "text/plain": [
              "tensor([[ 0.4849, -0.3153, -0.3720,  0.8757,  0.4986,  0.7716,  0.7317,  1.0519,\n",
              "         -2.2420,  0.3338]], requires_grad=True)"
            ]
          },
          "metadata": {
            "tags": []
          },
          "execution_count": 15
        }
      ]
    },
    {
      "cell_type": "code",
      "metadata": {
        "id": "MGufmwoptocd",
        "colab_type": "code",
        "colab": {
          "base_uri": "https://localhost:8080/",
          "height": 33
        },
        "outputId": "40395ed6-0765-4e3c-ec7e-c99c152bf2a0"
      },
      "source": [
        "o=torch.sigmoid(x@w.t()) #sigmoid激活函数，压缩到了[0,1]\n",
        "o,o.shape"
      ],
      "execution_count": 16,
      "outputs": [
        {
          "output_type": "execute_result",
          "data": {
            "text/plain": [
              "(tensor([[0.0064]], grad_fn=<SigmoidBackward>), torch.Size([1, 1]))"
            ]
          },
          "metadata": {
            "tags": []
          },
          "execution_count": 16
        }
      ]
    },
    {
      "cell_type": "code",
      "metadata": {
        "id": "gFPJiL6gYxXA",
        "colab_type": "code",
        "colab": {
          "base_uri": "https://localhost:8080/",
          "height": 33
        },
        "outputId": "83e64751-9d05-4999-d48e-683b154bab09"
      },
      "source": [
        "loss=F.mse_loss(torch.ones(1,1),o) #均方差损失,返回标量\n",
        "loss,loss.shape"
      ],
      "execution_count": 17,
      "outputs": [
        {
          "output_type": "execute_result",
          "data": {
            "text/plain": [
              "(tensor(0.9872, grad_fn=<MeanBackward0>), torch.Size([]))"
            ]
          },
          "metadata": {
            "tags": []
          },
          "execution_count": 17
        }
      ]
    },
    {
      "cell_type": "code",
      "metadata": {
        "id": "ezNF5kdndFka",
        "colab_type": "code",
        "colab": {}
      },
      "source": [
        "loss.backward()"
      ],
      "execution_count": 0,
      "outputs": []
    },
    {
      "cell_type": "code",
      "metadata": {
        "id": "XJJucKModGFE",
        "colab_type": "code",
        "colab": {
          "base_uri": "https://localhost:8080/",
          "height": 50
        },
        "outputId": "f9e9dcf0-b604-4433-a4ca-6f8be553f784"
      },
      "source": [
        "w.grad #梯度有10个，loss对w中[1,10]每个元素求导\n",
        "#后面就可以看哪个梯度小就往哪里更新w，不断优化，是loss趋近于0，预测值接近真实值"
      ],
      "execution_count": 19,
      "outputs": [
        {
          "output_type": "execute_result",
          "data": {
            "text/plain": [
              "tensor([[ 1.0688e-03,  8.7082e-05, -1.3061e-03,  1.5318e-02,  1.9848e-02,\n",
              "         -5.8090e-03, -1.3079e-02,  2.7386e-02, -1.1368e-02, -1.2993e-03]])"
            ]
          },
          "metadata": {
            "tags": []
          },
          "execution_count": 19
        }
      ]
    },
    {
      "cell_type": "markdown",
      "metadata": {
        "id": "UDat8uYpk3qA",
        "colab_type": "text"
      },
      "source": [
        "### 多输出感知机"
      ]
    },
    {
      "cell_type": "code",
      "metadata": {
        "id": "jcjQyuYTda3g",
        "colab_type": "code",
        "colab": {
          "base_uri": "https://localhost:8080/",
          "height": 84
        },
        "outputId": "04c61558-7ba6-4d99-beea-73238e06d0d1"
      },
      "source": [
        "x=torch.randn(1,10)\n",
        "w=torch.randn(2,10,requires_grad=True)\n",
        "w"
      ],
      "execution_count": 21,
      "outputs": [
        {
          "output_type": "execute_result",
          "data": {
            "text/plain": [
              "tensor([[ 0.0605, -0.1957, -0.4953, -1.4759, -0.1880,  1.5185, -2.5982,  0.1016,\n",
              "         -0.3507, -0.5002],\n",
              "        [ 0.8593, -0.4353,  0.1071,  0.3676,  0.0844,  0.1094, -0.9263,  1.0166,\n",
              "         -0.2961,  1.4854]], requires_grad=True)"
            ]
          },
          "metadata": {
            "tags": []
          },
          "execution_count": 21
        }
      ]
    },
    {
      "cell_type": "code",
      "metadata": {
        "id": "Ji5A0ZP3lA09",
        "colab_type": "code",
        "colab": {
          "base_uri": "https://localhost:8080/",
          "height": 33
        },
        "outputId": "a92975bf-f102-4c96-ad37-a0a57de695b6"
      },
      "source": [
        "o=torch.sigmoid(x@w.t()) #sigmoid激活函数，2维的\n",
        "o,o.shape"
      ],
      "execution_count": 22,
      "outputs": [
        {
          "output_type": "execute_result",
          "data": {
            "text/plain": [
              "(tensor([[0.9988, 0.2463]], grad_fn=<SigmoidBackward>), torch.Size([1, 2]))"
            ]
          },
          "metadata": {
            "tags": []
          },
          "execution_count": 22
        }
      ]
    },
    {
      "cell_type": "code",
      "metadata": {
        "id": "tA1h07pulN7F",
        "colab_type": "code",
        "colab": {
          "base_uri": "https://localhost:8080/",
          "height": 33
        },
        "outputId": "567bfcd4-c530-4bdc-e880-54743cb6690d"
      },
      "source": [
        "loss=F.mse_loss(torch.ones(1,2),o) #均方差损失,实际值也是2维的，要对每个激活函数元素比较\n",
        "loss,loss.shape"
      ],
      "execution_count": 24,
      "outputs": [
        {
          "output_type": "execute_result",
          "data": {
            "text/plain": [
              "(tensor(0.2840, grad_fn=<MeanBackward0>), torch.Size([]))"
            ]
          },
          "metadata": {
            "tags": []
          },
          "execution_count": 24
        }
      ]
    },
    {
      "cell_type": "code",
      "metadata": {
        "id": "FbWGx1iKleHu",
        "colab_type": "code",
        "colab": {
          "base_uri": "https://localhost:8080/",
          "height": 33
        },
        "outputId": "081b8942-a023-4369-ac3a-1c38500575f8"
      },
      "source": [
        "torch.ones(1,2)"
      ],
      "execution_count": 27,
      "outputs": [
        {
          "output_type": "execute_result",
          "data": {
            "text/plain": [
              "tensor([[1., 1.]])"
            ]
          },
          "metadata": {
            "tags": []
          },
          "execution_count": 27
        }
      ]
    },
    {
      "cell_type": "code",
      "metadata": {
        "id": "IQRJCxr9lmNo",
        "colab_type": "code",
        "colab": {
          "base_uri": "https://localhost:8080/",
          "height": 84
        },
        "outputId": "d8ed58b8-0deb-464f-ff68-04cfedcb3cd9"
      },
      "source": [
        "loss.backward()\n",
        "w.grad #梯度有[2,10]，shape和w一样"
      ],
      "execution_count": 28,
      "outputs": [
        {
          "output_type": "execute_result",
          "data": {
            "text/plain": [
              "tensor([[ 7.2703e-07,  1.6904e-06,  4.6854e-07, -1.0084e-06,  4.4634e-07,\n",
              "         -2.0258e-06,  2.6752e-06,  1.7831e-06, -1.0550e-06,  1.7076e-06],\n",
              "        [ 7.2562e-02,  1.6871e-01,  4.6763e-02, -1.0064e-01,  4.4548e-02,\n",
              "         -2.0219e-01,  2.6700e-01,  1.7797e-01, -1.0530e-01,  1.7043e-01]])"
            ]
          },
          "metadata": {
            "tags": []
          },
          "execution_count": 28
        }
      ]
    },
    {
      "cell_type": "code",
      "metadata": {
        "id": "_egSvhETl9MQ",
        "colab_type": "code",
        "colab": {}
      },
      "source": [
        ""
      ],
      "execution_count": 0,
      "outputs": []
    }
  ]
}