{
  "nbformat": 4,
  "nbformat_minor": 0,
  "metadata": {
    "colab": {
      "name": "11_过拟合.ipynb",
      "version": "0.3.2",
      "provenance": [],
      "collapsed_sections": [],
      "toc_visible": true,
      "include_colab_link": true
    },
    "kernelspec": {
      "name": "python3",
      "display_name": "Python 3"
    },
    "accelerator": "GPU"
  },
  "cells": [
    {
      "cell_type": "markdown",
      "metadata": {
        "id": "view-in-github",
        "colab_type": "text"
      },
      "source": [
        "<a href=\"https://colab.research.google.com/github/mengcius/pytorch-learn/blob/master/11_%E8%BF%87%E6%8B%9F%E5%90%88.ipynb\" target=\"_parent\"><img src=\"https://colab.research.google.com/assets/colab-badge.svg\" alt=\"Open In Colab\"/></a>"
      ]
    },
    {
      "cell_type": "markdown",
      "metadata": {
        "id": "xh7xdSB-1Qrh",
        "colab_type": "text"
      },
      "source": [
        "## 11_过拟合"
      ]
    },
    {
      "cell_type": "markdown",
      "metadata": {
        "id": "BEVVyoS_1VHi",
        "colab_type": "text"
      },
      "source": [
        "### 划分train-val-test集来训练\n",
        " 可将原来的train集划分为train集和val集，test集不变。\n",
        " \n",
        " train集用来训练，val集用来挑选模型参数，test仅仅用来评价。"
      ]
    },
    {
      "cell_type": "code",
      "metadata": {
        "id": "pdBgUU101OIr",
        "colab_type": "code",
        "colab": {
          "base_uri": "https://localhost:8080/",
          "height": 1000
        },
        "outputId": "8edb1fe7-b649-48b5-f2db-00995af8adaf"
      },
      "source": [
        "import  torch\n",
        "import  torch.nn as nn\n",
        "import  torch.nn.functional as F\n",
        "import  torch.optim as optim\n",
        "from    torchvision import datasets, transforms\n",
        "\n",
        "batch_size=200\n",
        "learning_rate=0.01\n",
        "epochs=10\n",
        "\n",
        "# 加载数据，划分train、val、test集\n",
        "train_db = datasets.MNIST('mnist_data', train=True, download=True,\n",
        "            transform=transforms.Compose([\n",
        "                transforms.ToTensor(),\n",
        "                transforms.Normalize((0.1307,), (0.3081,))]))     \n",
        "# train_loader = torch.utils.data.DataLoader(train_db, batch_size=batch_size, shuffle=True)\n",
        "\n",
        "test_db = datasets.MNIST('mnist_data', train=False, download=True, #train=False，不训练\n",
        "            transform=transforms.Compose([\n",
        "                transforms.ToTensor(),\n",
        "                transforms.Normalize((0.1307,), (0.3081,))]))\n",
        "test_loader = torch.utils.data.DataLoader(test_db, batch_size=batch_size, shuffle=True)\n",
        "\n",
        "print('train:', len(train_db), 'test:', len(test_db))\n",
        "train_db, val_db = torch.utils.data.random_split(train_db, [50000, 10000]) #将原train集随机划分为train和val集\n",
        "print('train_db:', len(train_db), 'val_db:', len(val_db))\n",
        "\n",
        "train_loader = torch.utils.data.DataLoader(train_db, batch_size=batch_size, shuffle=True)\n",
        "val_loader = torch.utils.data.DataLoader(val_db, batch_size=batch_size, shuffle=True)\n",
        "\n",
        "\n",
        "# 模型构建\n",
        "class MLP(nn.Module):\n",
        "\n",
        "    def __init__(self):\n",
        "        super(MLP, self).__init__()\n",
        "\n",
        "        self.model = nn.Sequential(\n",
        "            nn.Linear(784, 200),\n",
        "            nn.LeakyReLU(inplace=True),\n",
        "            nn.Linear(200, 200),\n",
        "            nn.LeakyReLU(inplace=True),\n",
        "            nn.Linear(200, 10),\n",
        "            nn.LeakyReLU(inplace=True),\n",
        "        )\n",
        "\n",
        "    def forward(self, x):\n",
        "        x = self.model(x)\n",
        "\n",
        "        return x\n",
        "\n",
        "\n",
        "# train集训练\n",
        "device = torch.device('cuda:0')\n",
        "net = MLP().to(device)\n",
        "optimizer = optim.SGD(net.parameters(), lr=learning_rate)\n",
        "criteon = nn.CrossEntropyLoss().to(device)\n",
        "\n",
        "for epoch in range(epochs):\n",
        "\n",
        "    for batch_idx, (data, target) in enumerate(train_loader):\n",
        "        data = data.view(-1, 28*28)\n",
        "        data, target = data.to(device), target.cuda()\n",
        "\n",
        "        logits = net(data)\n",
        "        loss = criteon(logits, target)\n",
        "\n",
        "        optimizer.zero_grad()\n",
        "        loss.backward()\n",
        "        # print(w1.grad.norm(), w2.grad.norm())\n",
        "        optimizer.step()\n",
        "\n",
        "        if batch_idx % 100 == 0:\n",
        "            print('Train Epoch: {} [{}/{} ({:.0f}%)]\\tLoss: {:.6f}'.format(\n",
        "                epoch, batch_idx * len(data), len(train_loader.dataset),\n",
        "                       100. * batch_idx / len(train_loader), loss.item()))\n",
        "\n",
        "\n",
        "    # val集验证，以挑选出最优的模型\n",
        "    test_loss = 0\n",
        "    correct = 0\n",
        "    for data, target in val_loader:\n",
        "        data = data.view(-1, 28 * 28)\n",
        "        data, target = data.to(device), target.cuda()\n",
        "        logits = net(data)\n",
        "        test_loss += criteon(logits, target).item()\n",
        "\n",
        "        pred = logits.data.max(1)[1]\n",
        "        correct += pred.eq(target.data).sum()\n",
        "\n",
        "    test_loss /= len(val_loader.dataset)\n",
        "    print('\\nVAL set: Average loss: {:.4f}, Accuracy: {}/{} ({:.0f}%)\\n'.format(\n",
        "        test_loss, correct, len(val_loader.dataset),\n",
        "        100. * correct / len(val_loader.dataset)))\n",
        "\n",
        "\n",
        "# test集测试评价\n",
        "#...#这里可加载从val中找到的最佳的模型，这里默认用最后一个\n",
        "test_loss = 0\n",
        "correct = 0\n",
        "for data, target in test_loader:\n",
        "    data = data.view(-1, 28 * 28)\n",
        "    data, target = data.to(device), target.cuda()\n",
        "    logits = net(data)\n",
        "    test_loss += criteon(logits, target).item()\n",
        "\n",
        "    pred = logits.data.max(1)[1]\n",
        "    correct += pred.eq(target.data).sum()\n",
        "\n",
        "test_loss /= len(test_loader.dataset)\n",
        "print('\\nTest set: Average loss: {:.4f}, Accuracy: {}/{} ({:.0f}%)\\n'.format(\n",
        "    test_loss, correct, len(test_loader.dataset),\n",
        "    100. * correct / len(test_loader.dataset)))"
      ],
      "execution_count": 1,
      "outputs": [
        {
          "output_type": "stream",
          "text": [
            "\r0it [00:00, ?it/s]"
          ],
          "name": "stderr"
        },
        {
          "output_type": "stream",
          "text": [
            "Downloading http://yann.lecun.com/exdb/mnist/train-images-idx3-ubyte.gz to mnist_data/MNIST/raw/train-images-idx3-ubyte.gz\n"
          ],
          "name": "stdout"
        },
        {
          "output_type": "stream",
          "text": [
            "9920512it [00:01, 8760472.64it/s]                            \n"
          ],
          "name": "stderr"
        },
        {
          "output_type": "stream",
          "text": [
            "Extracting mnist_data/MNIST/raw/train-images-idx3-ubyte.gz\n"
          ],
          "name": "stdout"
        },
        {
          "output_type": "stream",
          "text": [
            "  0%|          | 0/28881 [00:00<?, ?it/s]"
          ],
          "name": "stderr"
        },
        {
          "output_type": "stream",
          "text": [
            "Downloading http://yann.lecun.com/exdb/mnist/train-labels-idx1-ubyte.gz to mnist_data/MNIST/raw/train-labels-idx1-ubyte.gz\n"
          ],
          "name": "stdout"
        },
        {
          "output_type": "stream",
          "text": [
            "32768it [00:00, 132007.50it/s]           \n",
            "  0%|          | 0/1648877 [00:00<?, ?it/s]"
          ],
          "name": "stderr"
        },
        {
          "output_type": "stream",
          "text": [
            "Extracting mnist_data/MNIST/raw/train-labels-idx1-ubyte.gz\n",
            "Downloading http://yann.lecun.com/exdb/mnist/t10k-images-idx3-ubyte.gz to mnist_data/MNIST/raw/t10k-images-idx3-ubyte.gz\n"
          ],
          "name": "stdout"
        },
        {
          "output_type": "stream",
          "text": [
            "1654784it [00:00, 2211362.04it/s]                           \n",
            "0it [00:00, ?it/s]"
          ],
          "name": "stderr"
        },
        {
          "output_type": "stream",
          "text": [
            "Extracting mnist_data/MNIST/raw/t10k-images-idx3-ubyte.gz\n",
            "Downloading http://yann.lecun.com/exdb/mnist/t10k-labels-idx1-ubyte.gz to mnist_data/MNIST/raw/t10k-labels-idx1-ubyte.gz\n"
          ],
          "name": "stdout"
        },
        {
          "output_type": "stream",
          "text": [
            "8192it [00:00, 49619.67it/s]            \n"
          ],
          "name": "stderr"
        },
        {
          "output_type": "stream",
          "text": [
            "Extracting mnist_data/MNIST/raw/t10k-labels-idx1-ubyte.gz\n",
            "Processing...\n",
            "Done!\n",
            "train: 60000 test: 10000\n",
            "train_db: 50000 val_db: 10000\n",
            "Train Epoch: 0 [0/50000 (0%)]\tLoss: 2.289106\n",
            "Train Epoch: 0 [20000/50000 (40%)]\tLoss: 2.100112\n",
            "Train Epoch: 0 [40000/50000 (80%)]\tLoss: 1.335677\n",
            "\n",
            "VAL set: Average loss: 0.0057, Accuracy: 7404/10000 (74%)\n",
            "\n",
            "Train Epoch: 1 [0/50000 (0%)]\tLoss: 1.145260\n",
            "Train Epoch: 1 [20000/50000 (40%)]\tLoss: 0.897504\n",
            "Train Epoch: 1 [40000/50000 (80%)]\tLoss: 0.676969\n",
            "\n",
            "VAL set: Average loss: 0.0029, Accuracy: 8708/10000 (87%)\n",
            "\n",
            "Train Epoch: 2 [0/50000 (0%)]\tLoss: 0.632673\n",
            "Train Epoch: 2 [20000/50000 (40%)]\tLoss: 0.424209\n",
            "Train Epoch: 2 [40000/50000 (80%)]\tLoss: 0.379384\n",
            "\n",
            "VAL set: Average loss: 0.0019, Accuracy: 8961/10000 (89%)\n",
            "\n",
            "Train Epoch: 3 [0/50000 (0%)]\tLoss: 0.434680\n",
            "Train Epoch: 3 [20000/50000 (40%)]\tLoss: 0.304217\n",
            "Train Epoch: 3 [40000/50000 (80%)]\tLoss: 0.264263\n",
            "\n",
            "VAL set: Average loss: 0.0016, Accuracy: 9065/10000 (90%)\n",
            "\n",
            "Train Epoch: 4 [0/50000 (0%)]\tLoss: 0.373092\n",
            "Train Epoch: 4 [20000/50000 (40%)]\tLoss: 0.284766\n",
            "Train Epoch: 4 [40000/50000 (80%)]\tLoss: 0.273462\n",
            "\n",
            "VAL set: Average loss: 0.0015, Accuracy: 9098/10000 (90%)\n",
            "\n",
            "Train Epoch: 5 [0/50000 (0%)]\tLoss: 0.269925\n",
            "Train Epoch: 5 [20000/50000 (40%)]\tLoss: 0.267782\n",
            "Train Epoch: 5 [40000/50000 (80%)]\tLoss: 0.208567\n",
            "\n",
            "VAL set: Average loss: 0.0014, Accuracy: 9154/10000 (91%)\n",
            "\n",
            "Train Epoch: 6 [0/50000 (0%)]\tLoss: 0.355299\n",
            "Train Epoch: 6 [20000/50000 (40%)]\tLoss: 0.209147\n",
            "Train Epoch: 6 [40000/50000 (80%)]\tLoss: 0.314734\n",
            "\n",
            "VAL set: Average loss: 0.0013, Accuracy: 9213/10000 (92%)\n",
            "\n",
            "Train Epoch: 7 [0/50000 (0%)]\tLoss: 0.185397\n",
            "Train Epoch: 7 [20000/50000 (40%)]\tLoss: 0.303379\n",
            "Train Epoch: 7 [40000/50000 (80%)]\tLoss: 0.302991\n",
            "\n",
            "VAL set: Average loss: 0.0013, Accuracy: 9243/10000 (92%)\n",
            "\n",
            "Train Epoch: 8 [0/50000 (0%)]\tLoss: 0.231025\n",
            "Train Epoch: 8 [20000/50000 (40%)]\tLoss: 0.244827\n",
            "Train Epoch: 8 [40000/50000 (80%)]\tLoss: 0.248472\n",
            "\n",
            "VAL set: Average loss: 0.0012, Accuracy: 9274/10000 (92%)\n",
            "\n",
            "Train Epoch: 9 [0/50000 (0%)]\tLoss: 0.178739\n",
            "Train Epoch: 9 [20000/50000 (40%)]\tLoss: 0.227849\n",
            "Train Epoch: 9 [40000/50000 (80%)]\tLoss: 0.265856\n",
            "\n",
            "VAL set: Average loss: 0.0012, Accuracy: 9313/10000 (93%)\n",
            "\n",
            "\n",
            "Test set: Average loss: 0.0012, Accuracy: 9336/10000 (93%)\n",
            "\n"
          ],
          "name": "stdout"
        }
      ]
    },
    {
      "cell_type": "code",
      "metadata": {
        "id": "pB-B3SBlk60H",
        "colab_type": "code",
        "colab": {}
      },
      "source": [
        ""
      ],
      "execution_count": 0,
      "outputs": []
    }
  ]
}