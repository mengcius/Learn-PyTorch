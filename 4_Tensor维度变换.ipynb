{
  "nbformat": 4,
  "nbformat_minor": 0,
  "metadata": {
    "colab": {
      "name": "4.Tensor维度变换.ipynb",
      "version": "0.3.2",
      "provenance": [],
      "collapsed_sections": [],
      "include_colab_link": true
    },
    "kernelspec": {
      "name": "python3",
      "display_name": "Python 3"
    }
  },
  "cells": [
    {
      "cell_type": "markdown",
      "metadata": {
        "id": "view-in-github",
        "colab_type": "text"
      },
      "source": [
        "<a href=\"https://colab.research.google.com/github/mengcius/pytorch-learn/blob/master/4_Tensor%E7%BB%B4%E5%BA%A6%E5%8F%98%E6%8D%A2.ipynb\" target=\"_parent\"><img src=\"https://colab.research.google.com/assets/colab-badge.svg\" alt=\"Open In Colab\"/></a>"
      ]
    },
    {
      "cell_type": "markdown",
      "metadata": {
        "id": "aLbAAUTIR--W",
        "colab_type": "text"
      },
      "source": [
        "## 4.Tensor维度变换\n",
        "\n",
        "view/reshape 变形\n",
        "\n",
        "squeeze/unsqueeze 删减维度，增加维度\n",
        "\n",
        "expand/repeat 维度扩展/复制\n",
        "\n",
        "t/transpose/permute 转置/维度交换/维度重排\n"
      ]
    },
    {
      "cell_type": "markdown",
      "metadata": {
        "id": "sRHm9R6kV4Rv",
        "colab_type": "text"
      },
      "source": [
        "### view/reshape 变形\n",
        "view/reshape变形，功能一样，前提是保证整个tensor的numel()不变，即元素个数不变：prod(a.size)=prod(a`.size)。不变的数据本身，变的是对数据的理解。"
      ]
    },
    {
      "cell_type": "code",
      "metadata": {
        "id": "LRPk0laSXdin",
        "colab_type": "code",
        "colab": {}
      },
      "source": [
        "import torch\n",
        "import numpy as np"
      ],
      "execution_count": 0,
      "outputs": []
    },
    {
      "cell_type": "code",
      "metadata": {
        "id": "hsIaPKmjR5Vo",
        "colab_type": "code",
        "colab": {
          "base_uri": "https://localhost:8080/",
          "height": 33
        },
        "outputId": "895da40b-1a4e-41c0-ed96-9c7c6e3a796d"
      },
      "source": [
        "a=torch.rand(4,1,28,28)\n",
        "a.shape"
      ],
      "execution_count": 8,
      "outputs": [
        {
          "output_type": "execute_result",
          "data": {
            "text/plain": [
              "torch.Size([4, 1, 28, 28])"
            ]
          },
          "metadata": {
            "tags": []
          },
          "execution_count": 8
        }
      ]
    },
    {
      "cell_type": "code",
      "metadata": {
        "id": "fmPJM8GpXbre",
        "colab_type": "code",
        "colab": {
          "base_uri": "https://localhost:8080/",
          "height": 84
        },
        "outputId": "cd9656ad-93e7-46be-c958-c1cec033ce82"
      },
      "source": [
        "a.view(4,28*28) #变形为[4,784]，适合全连接层的输入（要输入向量）"
      ],
      "execution_count": 9,
      "outputs": [
        {
          "output_type": "execute_result",
          "data": {
            "text/plain": [
              "tensor([[0.7606, 0.9825, 0.2617,  ..., 0.9743, 0.5972, 0.9635],\n",
              "        [0.4072, 0.3821, 0.4051,  ..., 0.6794, 0.3975, 0.8813],\n",
              "        [0.8691, 0.4486, 0.9818,  ..., 0.3329, 0.8123, 0.6995],\n",
              "        [0.1522, 0.6267, 0.3005,  ..., 0.1892, 0.1495, 0.6522]])"
            ]
          },
          "metadata": {
            "tags": []
          },
          "execution_count": 9
        }
      ]
    },
    {
      "cell_type": "code",
      "metadata": {
        "id": "CtnY77cVaCyj",
        "colab_type": "code",
        "colab": {
          "base_uri": "https://localhost:8080/",
          "height": 33
        },
        "outputId": "dbd3a153-5e29-49c6-c01f-eb27a3aa980e"
      },
      "source": [
        "a.view(4*28,28).shape #只关注w"
      ],
      "execution_count": 11,
      "outputs": [
        {
          "output_type": "execute_result",
          "data": {
            "text/plain": [
              "torch.Size([112, 28])"
            ]
          },
          "metadata": {
            "tags": []
          },
          "execution_count": 11
        }
      ]
    },
    {
      "cell_type": "code",
      "metadata": {
        "id": "eFwFRZ99bGQq",
        "colab_type": "code",
        "colab": {
          "base_uri": "https://localhost:8080/",
          "height": 33
        },
        "outputId": "ad42e545-6a6a-4d4a-cf3f-b6117efd18c7"
      },
      "source": [
        "a.view(4*1,28,28).shape #只关注feature map，不关注哪个图片哪个通道"
      ],
      "execution_count": 12,
      "outputs": [
        {
          "output_type": "execute_result",
          "data": {
            "text/plain": [
              "torch.Size([4, 28, 28])"
            ]
          },
          "metadata": {
            "tags": []
          },
          "execution_count": 12
        }
      ]
    },
    {
      "cell_type": "markdown",
      "metadata": {
        "id": "Jx7f0ToxcJ41",
        "colab_type": "text"
      },
      "source": [
        "数据的存储/维度顺序非常重要，需要时刻记住维度顺序信息，否则会数据污染"
      ]
    },
    {
      "cell_type": "code",
      "metadata": {
        "id": "9TXzZZepbuRE",
        "colab_type": "code",
        "colab": {
          "base_uri": "https://localhost:8080/",
          "height": 33
        },
        "outputId": "3164628c-c550-4278-9bfc-5b7fbeddb087"
      },
      "source": [
        "b=a.view(4,784)\n",
        "b.view(4,28,28,1).shape #数据恢复错了，应该是b,c,h,w [4,1,28,28]"
      ],
      "execution_count": 14,
      "outputs": [
        {
          "output_type": "execute_result",
          "data": {
            "text/plain": [
              "torch.Size([4, 28, 28, 1])"
            ]
          },
          "metadata": {
            "tags": []
          },
          "execution_count": 14
        }
      ]
    },
    {
      "cell_type": "markdown",
      "metadata": {
        "id": "auwPlbsjdKjP",
        "colab_type": "text"
      },
      "source": [
        "### unsqueeze 增加维度\n",
        "插入的维度是0字节，没有改变数据本身，只是改变了数据的理解方式\n"
      ]
    },
    {
      "cell_type": "code",
      "metadata": {
        "id": "H1zg3InVczwl",
        "colab_type": "code",
        "colab": {
          "base_uri": "https://localhost:8080/",
          "height": 33
        },
        "outputId": "30214dd2-9dff-4f29-fc44-4063870ac95c"
      },
      "source": [
        "a=torch.rand(4,1,28,28)\n",
        "a.shape"
      ],
      "execution_count": 18,
      "outputs": [
        {
          "output_type": "execute_result",
          "data": {
            "text/plain": [
              "torch.Size([4, 1, 28, 28])"
            ]
          },
          "metadata": {
            "tags": []
          },
          "execution_count": 18
        }
      ]
    },
    {
      "cell_type": "code",
      "metadata": {
        "id": "gaOP3AQMk8mR",
        "colab_type": "code",
        "colab": {
          "base_uri": "https://localhost:8080/",
          "height": 33
        },
        "outputId": "1b610898-fb69-4cca-b1f3-f2d493171233"
      },
      "source": [
        "a.unsqueeze(0).shape #在某位置插入一个维度"
      ],
      "execution_count": 19,
      "outputs": [
        {
          "output_type": "execute_result",
          "data": {
            "text/plain": [
              "torch.Size([1, 4, 1, 28, 28])"
            ]
          },
          "metadata": {
            "tags": []
          },
          "execution_count": 19
        }
      ]
    },
    {
      "cell_type": "code",
      "metadata": {
        "id": "Xm_UNhkxlCF4",
        "colab_type": "code",
        "colab": {
          "base_uri": "https://localhost:8080/",
          "height": 33
        },
        "outputId": "f3132aa4-4841-401d-baae-b20527f1e37c"
      },
      "source": [
        "a.unsqueeze(3).shape"
      ],
      "execution_count": 23,
      "outputs": [
        {
          "output_type": "execute_result",
          "data": {
            "text/plain": [
              "torch.Size([4, 1, 28, 1, 28])"
            ]
          },
          "metadata": {
            "tags": []
          },
          "execution_count": 23
        }
      ]
    },
    {
      "cell_type": "markdown",
      "metadata": {
        "id": "92GKbLrvnKUI",
        "colab_type": "text"
      },
      "source": [
        "实用举例1"
      ]
    },
    {
      "cell_type": "code",
      "metadata": {
        "id": "amZnWbyHm3dm",
        "colab_type": "code",
        "colab": {
          "base_uri": "https://localhost:8080/",
          "height": 33
        },
        "outputId": "ba7b2de9-40f7-4031-bd61-52c1f0c378c5"
      },
      "source": [
        "b=torch.tensor([1.2,3.4]) #1维\n",
        "b"
      ],
      "execution_count": 48,
      "outputs": [
        {
          "output_type": "execute_result",
          "data": {
            "text/plain": [
              "tensor([1.2000, 3.4000])"
            ]
          },
          "metadata": {
            "tags": []
          },
          "execution_count": 48
        }
      ]
    },
    {
      "cell_type": "code",
      "metadata": {
        "id": "NG_5JTeRqLLM",
        "colab_type": "code",
        "colab": {
          "base_uri": "https://localhost:8080/",
          "height": 33
        },
        "outputId": "5738770f-961e-4e0b-dc1f-dd9bed819a9d"
      },
      "source": [
        "b.shape"
      ],
      "execution_count": 58,
      "outputs": [
        {
          "output_type": "execute_result",
          "data": {
            "text/plain": [
              "torch.Size([2])"
            ]
          },
          "metadata": {
            "tags": []
          },
          "execution_count": 58
        }
      ]
    },
    {
      "cell_type": "code",
      "metadata": {
        "id": "_c-I4vWMnIsk",
        "colab_type": "code",
        "colab": {
          "base_uri": "https://localhost:8080/",
          "height": 50
        },
        "outputId": "f9b94ada-5e78-4c50-f047-a1a2d9502fdf"
      },
      "source": [
        "c=b.unsqueeze(1) #2维\n",
        "c"
      ],
      "execution_count": 55,
      "outputs": [
        {
          "output_type": "execute_result",
          "data": {
            "text/plain": [
              "tensor([[1.2000],\n",
              "        [3.4000]])"
            ]
          },
          "metadata": {
            "tags": []
          },
          "execution_count": 55
        }
      ]
    },
    {
      "cell_type": "code",
      "metadata": {
        "id": "HplfJPaTp239",
        "colab_type": "code",
        "colab": {
          "base_uri": "https://localhost:8080/",
          "height": 33
        },
        "outputId": "06901d48-14b9-4f08-dd7e-d12f670ad2f6"
      },
      "source": [
        "c.shape"
      ],
      "execution_count": 57,
      "outputs": [
        {
          "output_type": "execute_result",
          "data": {
            "text/plain": [
              "torch.Size([2, 1])"
            ]
          },
          "metadata": {
            "tags": []
          },
          "execution_count": 57
        }
      ]
    },
    {
      "cell_type": "markdown",
      "metadata": {
        "id": "ctKEWkFXtwJ7",
        "colab_type": "text"
      },
      "source": [
        "实用举例2"
      ]
    },
    {
      "cell_type": "code",
      "metadata": {
        "id": "7bjBzUQstv1d",
        "colab_type": "code",
        "colab": {
          "base_uri": "https://localhost:8080/",
          "height": 33
        },
        "outputId": "c86cc63a-efc8-4cc9-94b5-7ae6e8fc45a9"
      },
      "source": [
        "f=torch.rand(1,32,1,1)\n",
        "bias=torch.rand(32) #偏差，想要每个channel上的所有像素增加一个偏置\n",
        "bias.shape"
      ],
      "execution_count": 67,
      "outputs": [
        {
          "output_type": "execute_result",
          "data": {
            "text/plain": [
              "torch.Size([32])"
            ]
          },
          "metadata": {
            "tags": []
          },
          "execution_count": 67
        }
      ]
    },
    {
      "cell_type": "code",
      "metadata": {
        "id": "RhiZxfMNtvrI",
        "colab_type": "code",
        "colab": {
          "base_uri": "https://localhost:8080/",
          "height": 33
        },
        "outputId": "fc9e8c92-66be-4d2d-f7c8-4db083748b35"
      },
      "source": [
        "bias=bias.unsqueeze(0).unsqueeze(2).unsqueeze(3) #使它和f的维度结构一样，才能相加\n",
        "bias.shape #这种连续插入，要用最后的位置索引"
      ],
      "execution_count": 68,
      "outputs": [
        {
          "output_type": "execute_result",
          "data": {
            "text/plain": [
              "torch.Size([1, 32, 1, 1])"
            ]
          },
          "metadata": {
            "tags": []
          },
          "execution_count": 68
        }
      ]
    },
    {
      "cell_type": "markdown",
      "metadata": {
        "id": "Tfa0zzHNmsDj",
        "colab_type": "text"
      },
      "source": [
        "### squeeze 删减维度"
      ]
    },
    {
      "cell_type": "code",
      "metadata": {
        "id": "r8vVCGEOmSmR",
        "colab_type": "code",
        "colab": {
          "base_uri": "https://localhost:8080/",
          "height": 33
        },
        "outputId": "b68dca54-de2f-4389-bf10-d80b4e58236f"
      },
      "source": [
        "a=torch.rand(1,32,1,1)\n",
        "a.shape"
      ],
      "execution_count": 61,
      "outputs": [
        {
          "output_type": "execute_result",
          "data": {
            "text/plain": [
              "torch.Size([1, 32, 1, 1])"
            ]
          },
          "metadata": {
            "tags": []
          },
          "execution_count": 61
        }
      ]
    },
    {
      "cell_type": "code",
      "metadata": {
        "id": "wfIPsjW8w1do",
        "colab_type": "code",
        "colab": {
          "base_uri": "https://localhost:8080/",
          "height": 33
        },
        "outputId": "b127abd2-e5e5-472d-e11b-a57688a8a977"
      },
      "source": [
        "a.squeeze().shape #不加参数，默认删除所有能去掉的的维度"
      ],
      "execution_count": 63,
      "outputs": [
        {
          "output_type": "execute_result",
          "data": {
            "text/plain": [
              "torch.Size([32])"
            ]
          },
          "metadata": {
            "tags": []
          },
          "execution_count": 63
        }
      ]
    },
    {
      "cell_type": "code",
      "metadata": {
        "id": "b_2dUIznw5QU",
        "colab_type": "code",
        "colab": {
          "base_uri": "https://localhost:8080/",
          "height": 33
        },
        "outputId": "47db0deb-3484-429c-b748-5fc4dec6307f"
      },
      "source": [
        "a.squeeze(0).shape"
      ],
      "execution_count": 64,
      "outputs": [
        {
          "output_type": "execute_result",
          "data": {
            "text/plain": [
              "torch.Size([32, 1, 1])"
            ]
          },
          "metadata": {
            "tags": []
          },
          "execution_count": 64
        }
      ]
    },
    {
      "cell_type": "code",
      "metadata": {
        "id": "CQUuPhEYxdad",
        "colab_type": "code",
        "colab": {
          "base_uri": "https://localhost:8080/",
          "height": 33
        },
        "outputId": "1c33e68f-1fde-4e54-cc60-012da6c90f20"
      },
      "source": [
        "a.squeeze(1).shape #第1维的shape不为1，所以挤压不掉"
      ],
      "execution_count": 65,
      "outputs": [
        {
          "output_type": "execute_result",
          "data": {
            "text/plain": [
              "torch.Size([1, 32, 1, 1])"
            ]
          },
          "metadata": {
            "tags": []
          },
          "execution_count": 65
        }
      ]
    },
    {
      "cell_type": "markdown",
      "metadata": {
        "id": "0KPEiDfFxsEH",
        "colab_type": "text"
      },
      "source": [
        "### expand 某维度下的扩展\n",
        "expand维度扩展：（没有增加数据？？只改变了理解方式。）只能是由1扩张为N\n",
        "\n",
        "unsqueeze维度增加只能使此维度下是0字节，不能使此维度变为多字节。\n"
      ]
    },
    {
      "cell_type": "code",
      "metadata": {
        "id": "dLDxT774xwwK",
        "colab_type": "code",
        "colab": {
          "base_uri": "https://localhost:8080/",
          "height": 33
        },
        "outputId": "d6afc10d-8563-4375-de88-2df0bc221cf5"
      },
      "source": [
        "b=torch.rand(1,32,1,1)\n",
        "b.shape"
      ],
      "execution_count": 82,
      "outputs": [
        {
          "output_type": "execute_result",
          "data": {
            "text/plain": [
              "torch.Size([1, 32, 1, 1])"
            ]
          },
          "metadata": {
            "tags": []
          },
          "execution_count": 82
        }
      ]
    },
    {
      "cell_type": "code",
      "metadata": {
        "id": "-FdMulEL0aLK",
        "colab_type": "code",
        "colab": {
          "base_uri": "https://localhost:8080/",
          "height": 33
        },
        "outputId": "b57aa546-9bc4-4f35-e47b-2caf14fe8051"
      },
      "source": [
        "b.expand(4,32,14,14).shape #某维度下元素扩张，"
      ],
      "execution_count": 83,
      "outputs": [
        {
          "output_type": "execute_result",
          "data": {
            "text/plain": [
              "torch.Size([4, 32, 14, 14])"
            ]
          },
          "metadata": {
            "tags": []
          },
          "execution_count": 83
        }
      ]
    },
    {
      "cell_type": "code",
      "metadata": {
        "id": "xZYj63nD0qSQ",
        "colab_type": "code",
        "colab": {
          "base_uri": "https://localhost:8080/",
          "height": 33
        },
        "outputId": "1e4e0236-4158-4847-ea77-4b7fb0f75789"
      },
      "source": [
        "b.expand(-1,-1,-1,-4).shape #-1表示扩张后不变，-4没有意义"
      ],
      "execution_count": 74,
      "outputs": [
        {
          "output_type": "execute_result",
          "data": {
            "text/plain": [
              "torch.Size([1, 32, 1, -4])"
            ]
          },
          "metadata": {
            "tags": []
          },
          "execution_count": 74
        }
      ]
    },
    {
      "cell_type": "code",
      "metadata": {
        "id": "TgUXwB3876y8",
        "colab_type": "code",
        "colab": {
          "base_uri": "https://localhost:8080/",
          "height": 50
        },
        "outputId": "fce68d44-ec8d-42d1-e90a-ef34b3ab4837"
      },
      "source": [
        "b=torch.rand(1,2,1)\n",
        "b"
      ],
      "execution_count": 84,
      "outputs": [
        {
          "output_type": "execute_result",
          "data": {
            "text/plain": [
              "tensor([[[0.2120],\n",
              "         [0.4603]]])"
            ]
          },
          "metadata": {
            "tags": []
          },
          "execution_count": 84
        }
      ]
    },
    {
      "cell_type": "code",
      "metadata": {
        "id": "07H6oAag7-FQ",
        "colab_type": "code",
        "colab": {
          "base_uri": "https://localhost:8080/",
          "height": 50
        },
        "outputId": "74a86056-7c3a-4e97-d629-71231bf542c3"
      },
      "source": [
        "b.expand(1,2,3)"
      ],
      "execution_count": 85,
      "outputs": [
        {
          "output_type": "execute_result",
          "data": {
            "text/plain": [
              "tensor([[[0.2120, 0.2120, 0.2120],\n",
              "         [0.4603, 0.4603, 0.4603]]])"
            ]
          },
          "metadata": {
            "tags": []
          },
          "execution_count": 85
        }
      ]
    },
    {
      "cell_type": "markdown",
      "metadata": {
        "id": "vDg0vRa56NDB",
        "colab_type": "text"
      },
      "source": [
        "### repeat 某维度下的复制\n",
        "repeat复制：增加了数据。以前的内存会更改掉，数据会复制，不能用原来的数据，原来的内存下些，重复多次后内存变多，会重新申请一块内存空间复制这些数据出来，不建议用"
      ]
    },
    {
      "cell_type": "code",
      "metadata": {
        "id": "Wm8AJG_B0ftE",
        "colab_type": "code",
        "colab": {
          "base_uri": "https://localhost:8080/",
          "height": 33
        },
        "outputId": "a8a66236-1cde-4d60-8fe2-188aed95257a"
      },
      "source": [
        "b=torch.rand(1,32,1,1)\n",
        "b.shape"
      ],
      "execution_count": 75,
      "outputs": [
        {
          "output_type": "execute_result",
          "data": {
            "text/plain": [
              "torch.Size([1, 32, 1, 1])"
            ]
          },
          "metadata": {
            "tags": []
          },
          "execution_count": 75
        }
      ]
    },
    {
      "cell_type": "code",
      "metadata": {
        "id": "gyaIPBMx6Zgh",
        "colab_type": "code",
        "colab": {
          "base_uri": "https://localhost:8080/",
          "height": 33
        },
        "outputId": "f77b9269-d31b-4d10-efc6-e95671cdb106"
      },
      "source": [
        "b.repeat(4,1,14,14).shape #某维度下元素复制，参数是复制倍数"
      ],
      "execution_count": 77,
      "outputs": [
        {
          "output_type": "execute_result",
          "data": {
            "text/plain": [
              "torch.Size([4, 32, 14, 14])"
            ]
          },
          "metadata": {
            "tags": []
          },
          "execution_count": 77
        }
      ]
    },
    {
      "cell_type": "code",
      "metadata": {
        "id": "Rhz7t1g86clw",
        "colab_type": "code",
        "colab": {
          "base_uri": "https://localhost:8080/",
          "height": 50
        },
        "outputId": "fec07da8-114a-4f1a-f826-1af37bd4a9e4"
      },
      "source": [
        "b=torch.rand(1,2,1)\n",
        "b"
      ],
      "execution_count": 86,
      "outputs": [
        {
          "output_type": "execute_result",
          "data": {
            "text/plain": [
              "tensor([[[0.6632],\n",
              "         [0.0024]]])"
            ]
          },
          "metadata": {
            "tags": []
          },
          "execution_count": 86
        }
      ]
    },
    {
      "cell_type": "code",
      "metadata": {
        "id": "rdP-r4qs8PXa",
        "colab_type": "code",
        "colab": {
          "base_uri": "https://localhost:8080/",
          "height": 50
        },
        "outputId": "f1b965e4-0626-48c9-befe-8d1f740d36a5"
      },
      "source": [
        "b.repeat(1,1,3)"
      ],
      "execution_count": 88,
      "outputs": [
        {
          "output_type": "execute_result",
          "data": {
            "text/plain": [
              "tensor([[[0.6632, 0.6632, 0.6632],\n",
              "         [0.0024, 0.0024, 0.0024]]])"
            ]
          },
          "metadata": {
            "tags": []
          },
          "execution_count": 88
        }
      ]
    },
    {
      "cell_type": "markdown",
      "metadata": {
        "id": "uEMzaQXKANU4",
        "colab_type": "text"
      },
      "source": [
        "### t 转置\n",
        ".t() 方法只能适用于2D tensor（即矩阵），对3D和4D的不能使用"
      ]
    },
    {
      "cell_type": "code",
      "metadata": {
        "id": "12r6Fj80AJ6L",
        "colab_type": "code",
        "colab": {
          "base_uri": "https://localhost:8080/",
          "height": 67
        },
        "outputId": "13abe8bf-346f-4e99-a9ea-4179c8784568"
      },
      "source": [
        "a=torch.randn(3,4)\n",
        "a"
      ],
      "execution_count": 90,
      "outputs": [
        {
          "output_type": "execute_result",
          "data": {
            "text/plain": [
              "tensor([[ 1.3874,  0.6938, -0.2808, -1.1140],\n",
              "        [-1.1765, -0.4796,  0.5906,  0.5718],\n",
              "        [-0.1357, -0.7222,  0.3665,  0.4756]])"
            ]
          },
          "metadata": {
            "tags": []
          },
          "execution_count": 90
        }
      ]
    },
    {
      "cell_type": "code",
      "metadata": {
        "id": "EoVhkFEIA0BG",
        "colab_type": "code",
        "colab": {
          "base_uri": "https://localhost:8080/",
          "height": 84
        },
        "outputId": "c7d1d6cd-6b50-4722-f2f0-c4b3213351db"
      },
      "source": [
        "a.t()"
      ],
      "execution_count": 91,
      "outputs": [
        {
          "output_type": "execute_result",
          "data": {
            "text/plain": [
              "tensor([[ 1.3874, -1.1765, -0.1357],\n",
              "        [ 0.6938, -0.4796, -0.7222],\n",
              "        [-0.2808,  0.5906,  0.3665],\n",
              "        [-1.1140,  0.5718,  0.4756]])"
            ]
          },
          "metadata": {
            "tags": []
          },
          "execution_count": 91
        }
      ]
    },
    {
      "cell_type": "markdown",
      "metadata": {
        "id": "7Qk4mYURBEtz",
        "colab_type": "text"
      },
      "source": [
        "### transpose 维度两两交换\n",
        "注意数据的维度顺序必须和存储顺序一致。\n",
        "\n",
        "交换后经过多次变形如何再换回来："
      ]
    },
    {
      "cell_type": "code",
      "metadata": {
        "id": "Us-sYbNBJPVp",
        "colab_type": "code",
        "colab": {}
      },
      "source": [
        "a=torch.rand(4,3,32,32)"
      ],
      "execution_count": 0,
      "outputs": []
    },
    {
      "cell_type": "code",
      "metadata": {
        "id": "hQiKkD0RA1iu",
        "colab_type": "code",
        "colab": {
          "base_uri": "https://localhost:8080/",
          "height": 33
        },
        "outputId": "8f77d59e-b695-46ed-a9a5-3eaffa42a500"
      },
      "source": [
        "#一定把维度的先后顺序跟踪住，contiguous()打为连续值，再变形，最后变形为交换后的\n",
        "#维度顺序(4,32,32,3)，就可以再交换回来了\n",
        "a1=a.transpose(1,3).contiguous().view(4,3*32*32).view(4,32,32,3).transpose(1,3)\n",
        "\n",
        "torch.all(torch.eq(a,a1)) #eq判断数据内容是否一致，all保证所有内容一致才返回1"
      ],
      "execution_count": 132,
      "outputs": [
        {
          "output_type": "execute_result",
          "data": {
            "text/plain": [
              "tensor(1, dtype=torch.uint8)"
            ]
          },
          "metadata": {
            "tags": []
          },
          "execution_count": 132
        }
      ]
    },
    {
      "cell_type": "code",
      "metadata": {
        "id": "B5f7Od_dMXfu",
        "colab_type": "code",
        "colab": {
          "base_uri": "https://localhost:8080/",
          "height": 33
        },
        "outputId": "f007c549-d02c-4c90-cfd1-82981364e387"
      },
      "source": [
        "a1=a.transpose(1,3).view(4,32,32,3).transpose(1,3) #维度交换后再换回来，view(4,32,32,3)可省\n",
        "torch.all(torch.eq(a,a1))"
      ],
      "execution_count": 133,
      "outputs": [
        {
          "output_type": "execute_result",
          "data": {
            "text/plain": [
              "tensor(1, dtype=torch.uint8)"
            ]
          },
          "metadata": {
            "tags": []
          },
          "execution_count": 133
        }
      ]
    },
    {
      "cell_type": "markdown",
      "metadata": {
        "id": "mpMG0SJfN8qy",
        "colab_type": "text"
      },
      "source": [
        "交换举例："
      ]
    },
    {
      "cell_type": "code",
      "metadata": {
        "id": "UI1Qri0_JhNx",
        "colab_type": "code",
        "colab": {
          "base_uri": "https://localhost:8080/",
          "height": 67
        },
        "outputId": "35a738b3-8943-4584-bdb4-7714f81c8082"
      },
      "source": [
        "a=torch.rand(1,2,3)\n",
        "print(a.shape)\n",
        "a"
      ],
      "execution_count": 128,
      "outputs": [
        {
          "output_type": "stream",
          "text": [
            "torch.Size([1, 2, 3])\n"
          ],
          "name": "stdout"
        },
        {
          "output_type": "execute_result",
          "data": {
            "text/plain": [
              "tensor([[[0.7114, 0.4240, 0.7551],\n",
              "         [0.5262, 0.4060, 0.7016]]])"
            ]
          },
          "metadata": {
            "tags": []
          },
          "execution_count": 128
        }
      ]
    },
    {
      "cell_type": "code",
      "metadata": {
        "id": "pNvO_1uRJn0G",
        "colab_type": "code",
        "colab": {
          "base_uri": "https://localhost:8080/",
          "height": 167
        },
        "outputId": "b7b82087-b116-463f-c3b0-d3b006faefea"
      },
      "source": [
        "a1=a.transpose(0,2) #交换第0、2维\n",
        "print(a1.shape)\n",
        "a1"
      ],
      "execution_count": 129,
      "outputs": [
        {
          "output_type": "stream",
          "text": [
            "torch.Size([3, 2, 1])\n"
          ],
          "name": "stdout"
        },
        {
          "output_type": "execute_result",
          "data": {
            "text/plain": [
              "tensor([[[0.7114],\n",
              "         [0.5262]],\n",
              "\n",
              "        [[0.4240],\n",
              "         [0.4060]],\n",
              "\n",
              "        [[0.7551],\n",
              "         [0.7016]]])"
            ]
          },
          "metadata": {
            "tags": []
          },
          "execution_count": 129
        }
      ]
    },
    {
      "cell_type": "markdown",
      "metadata": {
        "id": "E_P0o0JROe8x",
        "colab_type": "text"
      },
      "source": [
        "### permute 维度重排\n",
        "重新排序维度"
      ]
    },
    {
      "cell_type": "code",
      "metadata": {
        "id": "8bfDB2zgOeHl",
        "colab_type": "code",
        "colab": {}
      },
      "source": [
        "b=torch.rand(4,3,28,32)"
      ],
      "execution_count": 0,
      "outputs": []
    },
    {
      "cell_type": "code",
      "metadata": {
        "id": "rqfgr-XzOc1A",
        "colab_type": "code",
        "colab": {
          "base_uri": "https://localhost:8080/",
          "height": 33
        },
        "outputId": "ebe622aa-1ad4-4848-8350-93712c0c1e05"
      },
      "source": [
        "b.permute(0,2,3,1).shape #重排维度，参数是以前的位置索引"
      ],
      "execution_count": 136,
      "outputs": [
        {
          "output_type": "execute_result",
          "data": {
            "text/plain": [
              "torch.Size([4, 28, 32, 3])"
            ]
          },
          "metadata": {
            "tags": []
          },
          "execution_count": 136
        }
      ]
    }
  ]
}